{
 "cells": [
  {
   "cell_type": "code",
   "execution_count": 1,
   "metadata": {},
   "outputs": [],
   "source": [
    "import sys\n",
    "import os\n",
    "sys.path.append(os.path.abspath(r'E:\\Codes\\IndoxMiner'))\n",
    "\n"
   ]
  },
  {
   "cell_type": "code",
   "execution_count": 2,
   "metadata": {},
   "outputs": [],
   "source": [
    "\n",
    "from indoxMiner import (\n",
    "    ExtractorSchema,\n",
    "    Field,\n",
    "    FieldType,\n",
    "    ValidationRule,\n",
    "    OutputFormat,\n",
    "    Extractor,\n",
    "    ProcessingConfig,\n",
    "    DocumentProcessor,\n",
    "    Schema,\n",
    "    OpenAi,\n",
    "    IndoxApi\n",
    ")\n"
   ]
  },
  {
   "cell_type": "code",
   "execution_count": 3,
   "metadata": {},
   "outputs": [],
   "source": [
    "# Set your OpenAI API key\n",
    "import os\n",
    "from dotenv import load_dotenv\n",
    "\n",
    "load_dotenv()\n",
    "INDOX_API_KEY = os.environ['INDOX_API_KEY']\n",
    "OPENAI_API_KEY = os.environ['OPENAI_API_KEY']"
   ]
  },
  {
   "cell_type": "code",
   "execution_count": 4,
   "metadata": {},
   "outputs": [],
   "source": [
    "openai_extractor = OpenAi(api_key=OPENAI_API_KEY, model=\"gpt-4o-mini\")"
   ]
  },
  {
   "cell_type": "code",
   "execution_count": 5,
   "metadata": {},
   "outputs": [],
   "source": [
    "# # Initialize processor with config\n",
    "# config = ProcessingConfig(\n",
    "#     ocr_for_images=True,\n",
    "#     ocr_model='paddle'  # or 'tesseract'\n",
    "# )\n",
    "\n",
    "# # Create processor instance\n",
    "# processor = DocumentProcessor([\"data/passport1.jpg\", \"data/passport2.jpg\"])\n",
    "\n",
    "# # Process documents\n",
    "# results = processor.process(config)"
   ]
  },
  {
   "cell_type": "code",
   "execution_count": 6,
   "metadata": {},
   "outputs": [],
   "source": [
    "# results"
   ]
  },
  {
   "cell_type": "code",
   "execution_count": null,
   "metadata": {},
   "outputs": [],
   "source": [
    "\"hi_res\"\n",
    "passport_processor = DocumentProcessor([\"data/passport1.jpg\", \"data/passport2.jpg\"])\n",
    "\n",
    "# Process the document\n",
    "doc_passport = passport_processor.process()\n",
    "doc_passport"
   ]
  },
  {
   "cell_type": "code",
   "execution_count": 7,
   "metadata": {},
   "outputs": [
    {
     "data": {
      "text/plain": [
       "{'passport2.jpg': [Document(page_content='eed STATES OF 160 * PASSPORT CARD x jas ality. *** Passport Card nos See <€03005988 “© Surname ee EXEMPLAR seed Names HAPPY = Sex Date of Birth: M1 JAN 1981 Place of Birth NEWYORK, U.S.A. a Expires On. “at SNOV 2009.29 NOV2 D BTATES DEPARTMENT OF STARE? he', metadata={'filename': 'passport2.jpg', 'filetype': 'image/jpeg', 'page_number': 1, 'source': 'data/passport2.jpg'})],\n",
       " 'passport1.jpg': [Document(page_content='PASPO PASSEPORT athe! Type jos hee Orca de FEtwt ne 1 # cenettour REG,,.. CHERUBIN Nea) Priam NIRKA Maun bs reve habongate HAITIENNE Dat bs 41) Date Oe mpistonce 6 MAI 1962 fi casper gasen,/ Seer FEMININ Cat pseps > ttt Dots emission 17 DECEMBRE, 1992 fH paepo » tn Dots Sespirotica 16 DECEMBRE 1997 HTI SPECIMEN AYITI? HAITI PASPD elerean FASSERIRT No 920000018 Kole fit Lee ee reccernes PORT-AU-PRINCE : hi SIYATI MET PASP0 & MSISNATURE DU TITULAIRE 920000018', metadata={'filename': 'passport1.jpg', 'filetype': 'image/jpeg', 'page_number': 1, 'source': 'data/passport1.jpg'})]}"
      ]
     },
     "execution_count": 7,
     "metadata": {},
     "output_type": "execute_result"
    }
   ],
   "source": [
    "\"auto\"\n",
    "passport_processor = DocumentProcessor([\"data/passport1.jpg\", \"data/passport2.jpg\"])\n",
    "\n",
    "# Process the document\n",
    "doc_passport = passport_processor.process()\n",
    "doc_passport"
   ]
  },
  {
   "cell_type": "code",
   "execution_count": 6,
   "metadata": {},
   "outputs": [],
   "source": [
    "indox_api_extractor = IndoxApi(api_key=INDOX_API_KEY)"
   ]
  },
  {
   "cell_type": "code",
   "execution_count": 7,
   "metadata": {},
   "outputs": [],
   "source": [
    "extractor = Extractor(llm=indox_api_extractor, schema=Schema.Passport) "
   ]
  },
  {
   "cell_type": "code",
   "execution_count": null,
   "metadata": {},
   "outputs": [
    {
     "data": {
      "text/html": [
       "<div>\n",
       "<style scoped>\n",
       "    .dataframe tbody tr th:only-of-type {\n",
       "        vertical-align: middle;\n",
       "    }\n",
       "\n",
       "    .dataframe tbody tr th {\n",
       "        vertical-align: top;\n",
       "    }\n",
       "\n",
       "    .dataframe thead th {\n",
       "        text-align: right;\n",
       "    }\n",
       "</style>\n",
       "<table border=\"1\" class=\"dataframe\">\n",
       "  <thead>\n",
       "    <tr style=\"text-align: right;\">\n",
       "      <th></th>\n",
       "      <th>Passport Number</th>\n",
       "      <th>Name</th>\n",
       "      <th>Date of Birth</th>\n",
       "      <th>Nationality</th>\n",
       "      <th>Date of Issue</th>\n",
       "      <th>Date of Expiry</th>\n",
       "    </tr>\n",
       "  </thead>\n",
       "  <tbody>\n",
       "    <tr>\n",
       "      <th>0</th>\n",
       "      <td>03005988</td>\n",
       "      <td>HAPPY</td>\n",
       "      <td>1981-01-01</td>\n",
       "      <td>U.S.A.</td>\n",
       "      <td>None</td>\n",
       "      <td>2009-11-29</td>\n",
       "    </tr>\n",
       "    <tr>\n",
       "      <th>1</th>\n",
       "      <td>920000018</td>\n",
       "      <td>None</td>\n",
       "      <td>1962-05-06</td>\n",
       "      <td>HAITI</td>\n",
       "      <td>1992-12-17</td>\n",
       "      <td>1997-12-16</td>\n",
       "    </tr>\n",
       "  </tbody>\n",
       "</table>\n",
       "</div>"
      ],
      "text/plain": [
       "  Passport Number   Name Date of Birth Nationality Date of Issue  \\\n",
       "0        03005988  HAPPY    1981-01-01      U.S.A.          None   \n",
       "1       920000018   None    1962-05-06       HAITI    1992-12-17   \n",
       "\n",
       "  Date of Expiry  \n",
       "0     2009-11-29  \n",
       "1     1997-12-16  "
      ]
     },
     "execution_count": 9,
     "metadata": {},
     "output_type": "execute_result"
    }
   ],
   "source": [
    "\"hi_res\"\n",
    "\n",
    "result = extractor.extract(doc_passport)\n",
    "df = extractor.to_dataframe(result)\n",
    "df"
   ]
  },
  {
   "cell_type": "code",
   "execution_count": 9,
   "metadata": {},
   "outputs": [
    {
     "data": {
      "text/html": [
       "<div>\n",
       "<style scoped>\n",
       "    .dataframe tbody tr th:only-of-type {\n",
       "        vertical-align: middle;\n",
       "    }\n",
       "\n",
       "    .dataframe tbody tr th {\n",
       "        vertical-align: top;\n",
       "    }\n",
       "\n",
       "    .dataframe thead th {\n",
       "        text-align: right;\n",
       "    }\n",
       "</style>\n",
       "<table border=\"1\" class=\"dataframe\">\n",
       "  <thead>\n",
       "    <tr style=\"text-align: right;\">\n",
       "      <th></th>\n",
       "      <th>Passport Number</th>\n",
       "      <th>Name</th>\n",
       "      <th>Date of Birth</th>\n",
       "      <th>Nationality</th>\n",
       "      <th>Date of Issue</th>\n",
       "      <th>Date of Expiry</th>\n",
       "    </tr>\n",
       "  </thead>\n",
       "  <tbody>\n",
       "    <tr>\n",
       "      <th>0</th>\n",
       "      <td>03005988</td>\n",
       "      <td>HAPPY</td>\n",
       "      <td>1981-01-01</td>\n",
       "      <td>U.S.A.</td>\n",
       "      <td>None</td>\n",
       "      <td>2009-11-29</td>\n",
       "    </tr>\n",
       "    <tr>\n",
       "      <th>1</th>\n",
       "      <td>920000018</td>\n",
       "      <td>None</td>\n",
       "      <td>1962-05-06</td>\n",
       "      <td>HAITI</td>\n",
       "      <td>1992-12-17</td>\n",
       "      <td>1997-12-16</td>\n",
       "    </tr>\n",
       "  </tbody>\n",
       "</table>\n",
       "</div>"
      ],
      "text/plain": [
       "  Passport Number   Name Date of Birth Nationality Date of Issue  \\\n",
       "0        03005988  HAPPY    1981-01-01      U.S.A.          None   \n",
       "1       920000018   None    1962-05-06       HAITI    1992-12-17   \n",
       "\n",
       "  Date of Expiry  \n",
       "0     2009-11-29  \n",
       "1     1997-12-16  "
      ]
     },
     "execution_count": 9,
     "metadata": {},
     "output_type": "execute_result"
    }
   ],
   "source": [
    "\"auto\"\n",
    "result = extractor.extract(doc_passport)\n",
    "df = extractor.to_dataframe(result)\n",
    "df"
   ]
  },
  {
   "cell_type": "code",
   "execution_count": 9,
   "metadata": {},
   "outputs": [],
   "source": [
    "import os\n",
    "\n",
    "folder_path = \"data/passport_dataset_jpg\"\n",
    "images = [os.path.join(folder_path, f) for f in os.listdir(folder_path) if f.endswith('.jpg')]\n",
    "\n",
    "test_dataset=images[:5]"
   ]
  },
  {
   "cell_type": "code",
   "execution_count": 17,
   "metadata": {},
   "outputs": [
    {
     "data": {
      "text/plain": [
       "{'00a737.jpg': [Document(page_content='P<BRASILVA<<JOAO<JOSE<<<<<<<< 6666666666 666<6¢ AAQOOOOO<OBRA7O009068F 5012147<<<<<<<<<<<<<<00', metadata={'filename': '00a737.jpg', 'filetype': 'image/jpeg', 'page_number': 1, 'source': 'data/passport_dataset_jpg\\\\00a737.jpg'})],\n",
       " '010f92.jpg': [Document(page_content=\"== aR. ota | SAGHAS/TYPE TYPE TIR/COUNTRY/PAYS P IRL 1 SLOMONE SURNAME 1 O'SULLIVAN 9 ODARAS AUTHORITY JAUTORETE Olfig na bPasanna, Baile Atha Cliath 13 MFO/SEP 2 Passport Office Dublin en P<IRLOSULLIVAN<<LAUREN<<<<<<<<<<<<<<<<<<<<<< X073262<<SIRL8805049F1409138<<<<<<<<<<<<<<<c4\", metadata={'filename': '010f92.jpg', 'filetype': 'image/jpeg', 'page_number': 1, 'source': 'data/passport_dataset_jpg\\\\010f92.jpg'})],\n",
       " '004fcb.jpg': [Document(page_content='MII Z st PASSPORT Toh, 2 = STATE OF ISRAEL 7 nD State P/T TAL (TALMON) DANA “ISRAELI Span 02/03/1970 FI) : (05/09/2001 “JERUSALEM neten 9oD ISR F | Taw nw Passport No. / 271 \"UD 0000000 (ade) dv “ay P<ISRTAL<TALMON<<DANA<<<<<<<<<<<<<<<<<<<<<<< 0000000<<01SR7003022F06090453<1053698<2<<<34 +', metadata={'filename': '004fcb.jpg', 'filetype': 'image/jpeg', 'page_number': 1, 'source': 'data/passport_dataset_jpg\\\\004fcb.jpg'})],\n",
       " '005253.jpg': [Document(page_content='REPUBLIQUE DU CONGO ie GS EE Ge ee Passeport de service Type (3) Code pays (2) PS coG Nom (4) GOSSINI Prénoms (5) ELLINE MARYSE Date de naissance (6) 31 OCT/OCT 79 Natonalité (8) CONGOLAISE Fonction / qualité (10) PISCICULTRICE Date ¢\\'établissement (11) 29 AQOT/ AUG 12 Date dexpiration 28 AOGT/ AUG 17 IN\" Passeport (3) SA0009816 Lieu de naissance (7) BRAZZAVILLE Sexe (9) F eu ¢’émission (13) BRAZZAVILLE PSCOGGOSSINI<<ELLINE<MARYSE<<<<<<<<<<<<<<<<< SA00098160C0G7910317F 1708288<<<<<<<<<<<<<<02', metadata={'filename': '005253.jpg', 'filetype': 'image/jpeg', 'page_number': 1, 'source': 'data/passport_dataset_jpg\\\\005253.jpg'})],\n",
       " '014ee4.jpg': [Document(page_content='ART eng / Type Pp WRT / REPUBLIC OF INDIA reat / INDIAN “IND i es = 2 6 3 2 9 8 3 8 SGT / Surname INGALE fear aa APT / Given Namets AYESHA BHARAT warinfts / Date of Beth fear 15/03/1999 wat Farr / Place of Birth PUNE MAHARASHTRA ard axa a Fen / Place of sue PUNE arf 24 & PYRi/ Date of tssue 29/07/2021 ra Haft Br ferfts / Date of Expiry 28/07/2031', metadata={'filename': '014ee4.jpg', 'filetype': 'image/jpeg', 'page_number': 1, 'source': 'data/passport_dataset_jpg\\\\014ee4.jpg'})]}"
      ]
     },
     "execution_count": 17,
     "metadata": {},
     "output_type": "execute_result"
    }
   ],
   "source": [
    "passport_processor = DocumentProcessor(test_dataset)\n",
    "\n",
    "# Process the document\n",
    "doc_passport = passport_processor.process()\n",
    "doc_passport"
   ]
  },
  {
   "cell_type": "code",
   "execution_count": 18,
   "metadata": {},
   "outputs": [
    {
     "data": {
      "text/html": [
       "<div>\n",
       "<style scoped>\n",
       "    .dataframe tbody tr th:only-of-type {\n",
       "        vertical-align: middle;\n",
       "    }\n",
       "\n",
       "    .dataframe tbody tr th {\n",
       "        vertical-align: top;\n",
       "    }\n",
       "\n",
       "    .dataframe thead th {\n",
       "        text-align: right;\n",
       "    }\n",
       "</style>\n",
       "<table border=\"1\" class=\"dataframe\">\n",
       "  <thead>\n",
       "    <tr style=\"text-align: right;\">\n",
       "      <th></th>\n",
       "      <th>Passport Number</th>\n",
       "      <th>Given Names</th>\n",
       "      <th>Surname</th>\n",
       "      <th>Date of Birth</th>\n",
       "      <th>Place of Birth</th>\n",
       "      <th>Nationality</th>\n",
       "      <th>Gender</th>\n",
       "      <th>Date of Issue</th>\n",
       "      <th>Date of Expiry</th>\n",
       "      <th>Place of Issue</th>\n",
       "      <th>MRZ</th>\n",
       "    </tr>\n",
       "  </thead>\n",
       "  <tbody>\n",
       "    <tr>\n",
       "      <th>0</th>\n",
       "      <td>666666666</td>\n",
       "      <td>JOAO JOSE</td>\n",
       "      <td>BRASILVA</td>\n",
       "      <td>None</td>\n",
       "      <td>None</td>\n",
       "      <td>None</td>\n",
       "      <td>M</td>\n",
       "      <td>None</td>\n",
       "      <td>None</td>\n",
       "      <td>None</td>\n",
       "      <td>P&lt;BRASILVA&lt;&lt;JOAO&lt;JOSE&lt;&lt;&lt;&lt;&lt;&lt;&lt;&lt;666666666666&lt;6¢AA...</td>\n",
       "    </tr>\n",
       "    <tr>\n",
       "      <th>1</th>\n",
       "      <td>X073262</td>\n",
       "      <td>LAUREN</td>\n",
       "      <td>O'SULLIVAN</td>\n",
       "      <td>1988-05-04</td>\n",
       "      <td>Dublin</td>\n",
       "      <td>IRL</td>\n",
       "      <td>F</td>\n",
       "      <td>2014-09-13</td>\n",
       "      <td>None</td>\n",
       "      <td>Passport Office Dublin</td>\n",
       "      <td>P&lt;IRLOSULLIVAN&lt;&lt;LAUREN&lt;&lt;&lt;&lt;&lt;&lt;&lt;&lt;&lt;&lt;&lt;&lt;&lt;&lt;&lt;&lt;&lt;&lt;&lt;&lt;&lt;&lt;</td>\n",
       "    </tr>\n",
       "    <tr>\n",
       "      <th>2</th>\n",
       "      <td>UD000000</td>\n",
       "      <td>DANA</td>\n",
       "      <td>TALMON</td>\n",
       "      <td>1970-03-02</td>\n",
       "      <td>JERUSALEM</td>\n",
       "      <td>ISRAELI</td>\n",
       "      <td>F</td>\n",
       "      <td>2001-09-05</td>\n",
       "      <td>None</td>\n",
       "      <td>TALMON</td>\n",
       "      <td>P&lt;ISRTAL&lt;TALMON&lt;&lt;DANA&lt;&lt;&lt;&lt;&lt;&lt;&lt;&lt;&lt;&lt;&lt;&lt;&lt;&lt;&lt;&lt;&lt;&lt;&lt;&lt;&lt;&lt;&lt;00...</td>\n",
       "    </tr>\n",
       "    <tr>\n",
       "      <th>3</th>\n",
       "      <td>SA0009816</td>\n",
       "      <td>ELLINE MARYSE</td>\n",
       "      <td>GOSSINI</td>\n",
       "      <td>1979-10-31</td>\n",
       "      <td>BRAZZAVILLE</td>\n",
       "      <td>CONGOLAISE</td>\n",
       "      <td>F</td>\n",
       "      <td>2012-08-29</td>\n",
       "      <td>2017-08-28</td>\n",
       "      <td>BRAZZAVILLE</td>\n",
       "      <td>PSCOGGOSSINI&lt;&lt;ELLINE&lt;MARYSE&lt;&lt;&lt;&lt;&lt;&lt;&lt;&lt;&lt;&lt;&lt;&lt;&lt;&lt;&lt;&lt;&lt;SA...</td>\n",
       "    </tr>\n",
       "    <tr>\n",
       "      <th>4</th>\n",
       "      <td>None</td>\n",
       "      <td>AYESHA BHARAT</td>\n",
       "      <td>INGALE</td>\n",
       "      <td>1999-03-15</td>\n",
       "      <td>PUNE MAHARASHTRA</td>\n",
       "      <td>INDIA</td>\n",
       "      <td>None</td>\n",
       "      <td>2021-07-29</td>\n",
       "      <td>2031-07-28</td>\n",
       "      <td>PUNE</td>\n",
       "      <td>None</td>\n",
       "    </tr>\n",
       "  </tbody>\n",
       "</table>\n",
       "</div>"
      ],
      "text/plain": [
       "  Passport Number    Given Names     Surname Date of Birth    Place of Birth  \\\n",
       "0       666666666      JOAO JOSE    BRASILVA          None              None   \n",
       "1         X073262         LAUREN  O'SULLIVAN    1988-05-04            Dublin   \n",
       "2        UD000000           DANA      TALMON    1970-03-02         JERUSALEM   \n",
       "3       SA0009816  ELLINE MARYSE     GOSSINI    1979-10-31       BRAZZAVILLE   \n",
       "4            None  AYESHA BHARAT      INGALE    1999-03-15  PUNE MAHARASHTRA   \n",
       "\n",
       "  Nationality Gender Date of Issue Date of Expiry          Place of Issue  \\\n",
       "0        None      M          None           None                    None   \n",
       "1         IRL      F    2014-09-13           None  Passport Office Dublin   \n",
       "2     ISRAELI      F    2001-09-05           None                  TALMON   \n",
       "3  CONGOLAISE      F    2012-08-29     2017-08-28             BRAZZAVILLE   \n",
       "4       INDIA   None    2021-07-29     2031-07-28                    PUNE   \n",
       "\n",
       "                                                 MRZ  \n",
       "0  P<BRASILVA<<JOAO<JOSE<<<<<<<<666666666666<6¢AA...  \n",
       "1       P<IRLOSULLIVAN<<LAUREN<<<<<<<<<<<<<<<<<<<<<<  \n",
       "2  P<ISRTAL<TALMON<<DANA<<<<<<<<<<<<<<<<<<<<<<<00...  \n",
       "3  PSCOGGOSSINI<<ELLINE<MARYSE<<<<<<<<<<<<<<<<<SA...  \n",
       "4                                               None  "
      ]
     },
     "execution_count": 18,
     "metadata": {},
     "output_type": "execute_result"
    }
   ],
   "source": [
    "result = extractor.extract(doc_passport)\n",
    "df = extractor.to_dataframe(result)\n",
    "df"
   ]
  },
  {
   "cell_type": "code",
   "execution_count": null,
   "metadata": {},
   "outputs": [
    {
     "name": "stderr",
     "output_type": "stream",
     "text": [
      "[2024-11-03 18:07:34,113] [ WARNING] easyocr.py:80 - Neither CUDA nor MPS are available - defaulting to CPU. Note: This module is much faster with a GPU.\n"
     ]
    }
   ],
   "source": [
    "# Initialize processor with config\n",
    "config = ProcessingConfig(\n",
    "    ocr_for_images=True,\n",
    "    ocr_model='easyocr'  # or 'tesseract' or 'paddle'\n",
    ")\n",
    "\n",
    "# Create processor instance\n",
    "processor = DocumentProcessor(images[:5])\n",
    "\n",
    "# Process documents\n",
    "data = processor.process(config)"
   ]
  },
  {
   "cell_type": "code",
   "execution_count": 14,
   "metadata": {},
   "outputs": [
    {
     "data": {
      "text/plain": [
       "{'00a737.jpg': [Document(page_content='FEDERAUVAPOERASA _ M4n7-\\' , BAW \\'6 PASSSFONTE RAEA \"35*4 Ta43on\" T4i~77 3\"  P<BRASILVA<<Joao<Jose<<<<<<<<<K<<<<<<<<<<<<< Aaoooooo<OBRA7009068F5012167<<<<<<<<<<<<<<00 SPECIME', metadata={'filename': '00a737.jpg', 'filetype': 'image/jpeg', 'page_number': 1, 'source': 'data/passport_dataset_jpg\\\\00a737.jpg'})],\n",
       " '005253.jpg': [Document(page_content='REPUBLIQUE DU CONGO E# @8 E1 Bz %1 Typt (J) Codr 05s (2) K Posscpott (J) Pesepoce PS cog SA0OO9816 Km GOSSINI prtnoms (5) ELLINE MARYSE Ojie 0 Qimrce (6) Lru &r musc- (7) 31 octioct 79 BRAZZAVILLE Msronjiitc /8) Scur (9} CONGOLAISE Foncton / qttt (10) PISCICULTRICE Oj dctabtammet (1[) Lu demislon (1]) 29 Aoot / Aug 12 BRAZZAVILLE Ojrs j expitjoon (12) 28 Aoot/AUG 17 Pscoggoss INI<<ELLINE<MAR YSE< < < <<< < <<< < < < < < < < SA00098160c0g7910317F 1708288< < < < = < < <<02', metadata={'filename': '005253.jpg', 'filetype': 'image/jpeg', 'page_number': 1, 'source': 'data/passport_dataset_jpg\\\\005253.jpg'})],\n",
       " '004fcb.jpg': [Document(page_content=\"?2SSpofit 16377 1:PaL J4'7w' FW' P / T ISR Ooooooo - - TAL (TALMON) (p1nbu) Ju DANA QT ISRAELI I'SN7V> 02/03/1970 3-1053698-2 F / ) ISRAEL SNTW) L : t 05/09/2001 04/09/2006 {3 20 JERUSALEM 0x5u17) P<ISRTAL<TALMON<<DANA<<<<<<<<<<<<<<<<<<<<<<< 0000000<<0ISR7003022F06090453<1053698<2<<<34\", metadata={'filename': '004fcb.jpg', 'filetype': 'image/jpeg', 'page_number': 1, 'source': 'data/passport_dataset_jpg\\\\004fcb.jpg'})],\n",
       " '010f92.jpg': [Document(page_content=\"Pas Passport Passepont Elrellrelandllrlande MomaiiTMiTTtt To /coulney/CatI Gs Uidulid/64ijcort Do/00. 1ibicodi P IRL X073262 s(owm /{uomaMDom O'SULLIVAN }tuimn (Miacma) ionnami(N /Pn( LAUREN 1 Misonnar #amiomiiitt(Mateom Da14 'Dat 0b Dietm Di WaiaRcT EIREANNACH/IRIS 4 BEL IMAY 1988 $ Gnim'uX'n# ~oaf Ghotimi'FLA[( Birtmfihu Oi MAJi (t F BAILE Az CUATH; QUBLIN 1 0414 {uhA AN7 @ [SurDAT cg 0' [100i04i0 0 (Ipimatiom 13 MFoISEP 204 /SEP 2014 UOjA} auimuritt ^U f Obi( 10 simiu'iicmauni Uoratum Oxfig na bpjronn), Bik Afna Chotn PassportOibfa Jsmn 'Slian P< IRLOSULL IVAN<<LAUREN<<<<<<<<<<<<<<<<<<<<<< X073262<<5IRL8805049F 1409138< < < < < < < < < < <<<<<4\", metadata={'filename': '010f92.jpg', 'filetype': 'image/jpeg', 'page_number': 1, 'source': 'data/passport_dataset_jpg\\\\010f92.jpg'})],\n",
       " '014ee4.jpg': [Document(page_content='T / REPUBLIC OF INDIA Uf / Tsro Bo Codo <-um Nallnality TTYZ =, / Pamspo N IND nrau 1 INDIAN 26329030 0FAF / Sumntm INGALE Ba 5 #ilGMamatu) Ayesha Bharat JARR/0dud 841 /S 15/03/1999 F 16/nde puNE ,wahARASHTRA menmindb n4 J?5 PUNE R R de Jele #-Tesar 29/07/2021 28/07 /2031', metadata={'filename': '014ee4.jpg', 'filetype': 'image/jpeg', 'page_number': 1, 'source': 'data/passport_dataset_jpg\\\\014ee4.jpg'})]}"
      ]
     },
     "execution_count": 14,
     "metadata": {},
     "output_type": "execute_result"
    }
   ],
   "source": [
    "doc_passport_paddle"
   ]
  },
  {
   "cell_type": "code",
   "execution_count": 16,
   "metadata": {},
   "outputs": [
    {
     "data": {
      "text/html": [
       "<div>\n",
       "<style scoped>\n",
       "    .dataframe tbody tr th:only-of-type {\n",
       "        vertical-align: middle;\n",
       "    }\n",
       "\n",
       "    .dataframe tbody tr th {\n",
       "        vertical-align: top;\n",
       "    }\n",
       "\n",
       "    .dataframe thead th {\n",
       "        text-align: right;\n",
       "    }\n",
       "</style>\n",
       "<table border=\"1\" class=\"dataframe\">\n",
       "  <thead>\n",
       "    <tr style=\"text-align: right;\">\n",
       "      <th></th>\n",
       "      <th>Passport Number</th>\n",
       "      <th>Given Names</th>\n",
       "      <th>Surname</th>\n",
       "      <th>Date of Birth</th>\n",
       "      <th>Place of Birth</th>\n",
       "      <th>Nationality</th>\n",
       "      <th>Gender</th>\n",
       "      <th>Date of Issue</th>\n",
       "      <th>Date of Expiry</th>\n",
       "      <th>Place of Issue</th>\n",
       "      <th>MRZ</th>\n",
       "    </tr>\n",
       "  </thead>\n",
       "  <tbody>\n",
       "    <tr>\n",
       "      <th>0</th>\n",
       "      <td>OBRA700</td>\n",
       "      <td>Joao Jose</td>\n",
       "      <td>BRASILVA</td>\n",
       "      <td>None</td>\n",
       "      <td>None</td>\n",
       "      <td>None</td>\n",
       "      <td>None</td>\n",
       "      <td>None</td>\n",
       "      <td>None</td>\n",
       "      <td>None</td>\n",
       "      <td>FEDERAUVAPOERASA</td>\n",
       "    </tr>\n",
       "    <tr>\n",
       "      <th>1</th>\n",
       "      <td>SA0009816</td>\n",
       "      <td>ELLINE MARYSE</td>\n",
       "      <td>GOSSINI</td>\n",
       "      <td>1979-10-31</td>\n",
       "      <td>BRAZZAVILLE</td>\n",
       "      <td>CONGOLAISE</td>\n",
       "      <td>None</td>\n",
       "      <td>2012-08-29</td>\n",
       "      <td>2017-08-28</td>\n",
       "      <td>BRAZZAVILLE</td>\n",
       "      <td>INI&lt;&lt;ELLINE&lt;MARYSE&lt;&lt;&lt;&lt;&lt;&lt;&lt;&lt;&lt;&lt;&lt;&lt;&lt;&lt;&lt;&lt;&lt;&lt;&lt;&lt;&lt;&lt;&lt;&lt;&lt;&lt;&lt;&lt;...</td>\n",
       "    </tr>\n",
       "    <tr>\n",
       "      <th>2</th>\n",
       "      <td>3-105369</td>\n",
       "      <td>DANA</td>\n",
       "      <td>TALMON</td>\n",
       "      <td>1970-03-02</td>\n",
       "      <td>JERUSALEM ISRAEL</td>\n",
       "      <td>ISRAELI</td>\n",
       "      <td>F</td>\n",
       "      <td>2001-09-05</td>\n",
       "      <td>2006-09-04</td>\n",
       "      <td>JERUSALEM</td>\n",
       "      <td>P&lt;ISRTAL&lt;TALMON&lt;&lt;DANA&lt;&lt;&lt;&lt;&lt;&lt;&lt;&lt;&lt;&lt;&lt;&lt;&lt;&lt;&lt;&lt;&lt;&lt;&lt;&lt;&lt;&lt;&lt;00...</td>\n",
       "    </tr>\n",
       "    <tr>\n",
       "      <th>3</th>\n",
       "      <td>X073262</td>\n",
       "      <td>LAUREN</td>\n",
       "      <td>O'SULLIVAN</td>\n",
       "      <td>1988-05-14</td>\n",
       "      <td>DUBLIN, IRELAND</td>\n",
       "      <td>IRL</td>\n",
       "      <td>F</td>\n",
       "      <td>2014-09-04</td>\n",
       "      <td>None</td>\n",
       "      <td>None</td>\n",
       "      <td>IRLOSULLIVAN&lt;&lt;LAUREN&lt;&lt;&lt;&lt;&lt;&lt;&lt;&lt;&lt;&lt;&lt;&lt;&lt;&lt;&lt;&lt;&lt;&lt;&lt;&lt;&lt;&lt;X073...</td>\n",
       "    </tr>\n",
       "    <tr>\n",
       "      <th>4</th>\n",
       "      <td>26329030</td>\n",
       "      <td>Ayesha Bharat</td>\n",
       "      <td>JARR</td>\n",
       "      <td>1999-03-15</td>\n",
       "      <td>PUNE, MAHARASHTRA</td>\n",
       "      <td>INDIAN</td>\n",
       "      <td>F</td>\n",
       "      <td>2021-07-29</td>\n",
       "      <td>2031-07-28</td>\n",
       "      <td>PUNE</td>\n",
       "      <td>None</td>\n",
       "    </tr>\n",
       "  </tbody>\n",
       "</table>\n",
       "</div>"
      ],
      "text/plain": [
       "  Passport Number    Given Names     Surname Date of Birth     Place of Birth  \\\n",
       "0         OBRA700      Joao Jose    BRASILVA          None               None   \n",
       "1       SA0009816  ELLINE MARYSE     GOSSINI    1979-10-31        BRAZZAVILLE   \n",
       "2        3-105369           DANA      TALMON    1970-03-02   JERUSALEM ISRAEL   \n",
       "3         X073262         LAUREN  O'SULLIVAN    1988-05-14    DUBLIN, IRELAND   \n",
       "4        26329030  Ayesha Bharat        JARR    1999-03-15  PUNE, MAHARASHTRA   \n",
       "\n",
       "  Nationality Gender Date of Issue Date of Expiry Place of Issue  \\\n",
       "0        None   None          None           None           None   \n",
       "1  CONGOLAISE   None    2012-08-29     2017-08-28    BRAZZAVILLE   \n",
       "2     ISRAELI      F    2001-09-05     2006-09-04      JERUSALEM   \n",
       "3         IRL      F    2014-09-04           None           None   \n",
       "4      INDIAN      F    2021-07-29     2031-07-28           PUNE   \n",
       "\n",
       "                                                 MRZ  \n",
       "0                                   FEDERAUVAPOERASA  \n",
       "1  INI<<ELLINE<MARYSE<<<<<<<<<<<<<<<<<<<<<<<<<<<<...  \n",
       "2  P<ISRTAL<TALMON<<DANA<<<<<<<<<<<<<<<<<<<<<<<00...  \n",
       "3  IRLOSULLIVAN<<LAUREN<<<<<<<<<<<<<<<<<<<<<<X073...  \n",
       "4                                               None  "
      ]
     },
     "execution_count": 16,
     "metadata": {},
     "output_type": "execute_result"
    }
   ],
   "source": [
    "result = extractor.extract(doc_passport_paddle)\n",
    "df = extractor.to_dataframe(result)\n",
    "df"
   ]
  },
  {
   "cell_type": "code",
   "execution_count": null,
   "metadata": {},
   "outputs": [],
   "source": []
  }
 ],
 "metadata": {
  "kernelspec": {
   "display_name": "Python 3",
   "language": "python",
   "name": "python3"
  },
  "language_info": {
   "codemirror_mode": {
    "name": "ipython",
    "version": 3
   },
   "file_extension": ".py",
   "mimetype": "text/x-python",
   "name": "python",
   "nbconvert_exporter": "python",
   "pygments_lexer": "ipython3",
   "version": "3.12.0"
  }
 },
 "nbformat": 4,
 "nbformat_minor": 2
}
