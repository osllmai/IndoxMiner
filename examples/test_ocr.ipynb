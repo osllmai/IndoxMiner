{
 "cells": [
  {
   "cell_type": "code",
   "execution_count": 1,
   "metadata": {},
   "outputs": [],
   "source": [
    "import sys\n",
    "import os\n",
    "sys.path.append(os.path.abspath(r'E:\\Codes\\IndoxMiner'))\n",
    "\n"
   ]
  },
  {
   "cell_type": "code",
   "execution_count": 2,
   "metadata": {},
   "outputs": [],
   "source": [
    "\n",
    "from indoxMiner import (\n",
    "    ExtractorSchema,\n",
    "    Field,\n",
    "    FieldType,\n",
    "    ValidationRule,\n",
    "    OutputFormat,\n",
    "    Extractor,\n",
    "    ProcessingConfig,\n",
    "    DocumentProcessor,\n",
    "    Schema,\n",
    "    OpenAi\n",
    ")\n"
   ]
  },
  {
   "cell_type": "code",
   "execution_count": 3,
   "metadata": {},
   "outputs": [],
   "source": [
    "# Set your OpenAI API key\n",
    "import os\n",
    "from dotenv import load_dotenv\n",
    "\n",
    "load_dotenv()\n",
    "INDOX_API_KEY = os.environ['INDOX_API_KEY']\n",
    "OPENAI_API_KEY = os.environ['OPENAI_API_KEY']"
   ]
  },
  {
   "cell_type": "code",
   "execution_count": 4,
   "metadata": {},
   "outputs": [],
   "source": [
    "openai_extractor = OpenAi(api_key=OPENAI_API_KEY, model=\"gpt-4o-mini\")"
   ]
  },
  {
   "cell_type": "code",
   "execution_count": 5,
   "metadata": {},
   "outputs": [],
   "source": [
    "# # Initialize processor with config\n",
    "# config = ProcessingConfig(\n",
    "#     ocr_for_images=True,\n",
    "#     ocr_model='paddle'  # or 'tesseract'\n",
    "# )\n",
    "\n",
    "# # Create processor instance\n",
    "# processor = DocumentProcessor([\"data/passport1.jpg\", \"data/passport2.jpg\"])\n",
    "\n",
    "# # Process documents\n",
    "# results = processor.process(config)"
   ]
  },
  {
   "cell_type": "code",
   "execution_count": 6,
   "metadata": {},
   "outputs": [],
   "source": [
    "# results"
   ]
  },
  {
   "cell_type": "code",
   "execution_count": null,
   "metadata": {},
   "outputs": [
    {
     "data": {
      "text/plain": [
       "{'passport2.jpg': [Document(page_content='eed STATES OF 160 * PASSPORT CARD x jas ality. *** Passport Card nos See <€03005988 “© Surname ee EXEMPLAR seed Names HAPPY = Sex Date of Birth: M1 JAN 1981 Place of Birth NEWYORK, U.S.A. a Expires On. “at SNOV 2009.29 NOV2 D BTATES DEPARTMENT OF STARE? he', metadata={'filename': 'passport2.jpg', 'filetype': 'image/jpeg', 'page_number': 1, 'source': 'data/passport2.jpg'})],\n",
       " 'passport1.jpg': [Document(page_content='PASPO PASSEPORT athe! Type jos hee Orca de FEtwt ne 1 # cenettour REG,,.. CHERUBIN Nea) Priam NIRKA Maun bs reve habongate HAITIENNE Dat bs 41) Date Oe mpistonce 6 MAI 1962 fi casper gasen,/ Seer FEMININ Cat pseps > ttt Dots emission 17 DECEMBRE, 1992 fH paepo » tn Dots Sespirotica 16 DECEMBRE 1997 HTI SPECIMEN AYITI? HAITI PASPD elerean FASSERIRT No 920000018 Kole fit Lee ee reccernes PORT-AU-PRINCE : hi SIYATI MET PASP0 & MSISNATURE DU TITULAIRE 920000018', metadata={'filename': 'passport1.jpg', 'filetype': 'image/jpeg', 'page_number': 1, 'source': 'data/passport1.jpg'})]}"
      ]
     },
     "execution_count": 7,
     "metadata": {},
     "output_type": "execute_result"
    }
   ],
   "source": [
    "\"hi_res\"\n",
    "passport_processor = DocumentProcessor([\"data/passport1.jpg\", \"data/passport2.jpg\"])\n",
    "\n",
    "# Process the document\n",
    "doc_passport = passport_processor.process()\n",
    "doc_passport"
   ]
  },
  {
   "cell_type": "code",
   "execution_count": 7,
   "metadata": {},
   "outputs": [
    {
     "data": {
      "text/plain": [
       "{'passport2.jpg': [Document(page_content='eed STATES OF 160 * PASSPORT CARD x jas ality. *** Passport Card nos See <€03005988 “© Surname ee EXEMPLAR seed Names HAPPY = Sex Date of Birth: M1 JAN 1981 Place of Birth NEWYORK, U.S.A. a Expires On. “at SNOV 2009.29 NOV2 D BTATES DEPARTMENT OF STARE? he', metadata={'filename': 'passport2.jpg', 'filetype': 'image/jpeg', 'page_number': 1, 'source': 'data/passport2.jpg'})],\n",
       " 'passport1.jpg': [Document(page_content='PASPO PASSEPORT athe! Type jos hee Orca de FEtwt ne 1 # cenettour REG,,.. CHERUBIN Nea) Priam NIRKA Maun bs reve habongate HAITIENNE Dat bs 41) Date Oe mpistonce 6 MAI 1962 fi casper gasen,/ Seer FEMININ Cat pseps > ttt Dots emission 17 DECEMBRE, 1992 fH paepo » tn Dots Sespirotica 16 DECEMBRE 1997 HTI SPECIMEN AYITI? HAITI PASPD elerean FASSERIRT No 920000018 Kole fit Lee ee reccernes PORT-AU-PRINCE : hi SIYATI MET PASP0 & MSISNATURE DU TITULAIRE 920000018', metadata={'filename': 'passport1.jpg', 'filetype': 'image/jpeg', 'page_number': 1, 'source': 'data/passport1.jpg'})]}"
      ]
     },
     "execution_count": 7,
     "metadata": {},
     "output_type": "execute_result"
    }
   ],
   "source": [
    "\"auto\"\n",
    "passport_processor = DocumentProcessor([\"data/passport1.jpg\", \"data/passport2.jpg\"])\n",
    "\n",
    "# Process the document\n",
    "doc_passport = passport_processor.process()\n",
    "doc_passport"
   ]
  },
  {
   "cell_type": "code",
   "execution_count": 9,
   "metadata": {},
   "outputs": [],
   "source": [
    "extractor = Extractor(llm=openai_extractor, schema=Schema.Passport) "
   ]
  },
  {
   "cell_type": "code",
   "execution_count": null,
   "metadata": {},
   "outputs": [
    {
     "data": {
      "text/html": [
       "<div>\n",
       "<style scoped>\n",
       "    .dataframe tbody tr th:only-of-type {\n",
       "        vertical-align: middle;\n",
       "    }\n",
       "\n",
       "    .dataframe tbody tr th {\n",
       "        vertical-align: top;\n",
       "    }\n",
       "\n",
       "    .dataframe thead th {\n",
       "        text-align: right;\n",
       "    }\n",
       "</style>\n",
       "<table border=\"1\" class=\"dataframe\">\n",
       "  <thead>\n",
       "    <tr style=\"text-align: right;\">\n",
       "      <th></th>\n",
       "      <th>Passport Number</th>\n",
       "      <th>Name</th>\n",
       "      <th>Date of Birth</th>\n",
       "      <th>Nationality</th>\n",
       "      <th>Date of Issue</th>\n",
       "      <th>Date of Expiry</th>\n",
       "    </tr>\n",
       "  </thead>\n",
       "  <tbody>\n",
       "    <tr>\n",
       "      <th>0</th>\n",
       "      <td>03005988</td>\n",
       "      <td>HAPPY</td>\n",
       "      <td>1981-01-01</td>\n",
       "      <td>U.S.A.</td>\n",
       "      <td>None</td>\n",
       "      <td>2009-11-29</td>\n",
       "    </tr>\n",
       "    <tr>\n",
       "      <th>1</th>\n",
       "      <td>920000018</td>\n",
       "      <td>None</td>\n",
       "      <td>1962-05-06</td>\n",
       "      <td>HAITI</td>\n",
       "      <td>1992-12-17</td>\n",
       "      <td>1997-12-16</td>\n",
       "    </tr>\n",
       "  </tbody>\n",
       "</table>\n",
       "</div>"
      ],
      "text/plain": [
       "  Passport Number   Name Date of Birth Nationality Date of Issue  \\\n",
       "0        03005988  HAPPY    1981-01-01      U.S.A.          None   \n",
       "1       920000018   None    1962-05-06       HAITI    1992-12-17   \n",
       "\n",
       "  Date of Expiry  \n",
       "0     2009-11-29  \n",
       "1     1997-12-16  "
      ]
     },
     "execution_count": 9,
     "metadata": {},
     "output_type": "execute_result"
    }
   ],
   "source": [
    "\"hi_res\"\n",
    "\n",
    "result = extractor.extract(doc_passport)\n",
    "df = extractor.to_dataframe(result)\n",
    "df"
   ]
  },
  {
   "cell_type": "code",
   "execution_count": 9,
   "metadata": {},
   "outputs": [
    {
     "data": {
      "text/html": [
       "<div>\n",
       "<style scoped>\n",
       "    .dataframe tbody tr th:only-of-type {\n",
       "        vertical-align: middle;\n",
       "    }\n",
       "\n",
       "    .dataframe tbody tr th {\n",
       "        vertical-align: top;\n",
       "    }\n",
       "\n",
       "    .dataframe thead th {\n",
       "        text-align: right;\n",
       "    }\n",
       "</style>\n",
       "<table border=\"1\" class=\"dataframe\">\n",
       "  <thead>\n",
       "    <tr style=\"text-align: right;\">\n",
       "      <th></th>\n",
       "      <th>Passport Number</th>\n",
       "      <th>Name</th>\n",
       "      <th>Date of Birth</th>\n",
       "      <th>Nationality</th>\n",
       "      <th>Date of Issue</th>\n",
       "      <th>Date of Expiry</th>\n",
       "    </tr>\n",
       "  </thead>\n",
       "  <tbody>\n",
       "    <tr>\n",
       "      <th>0</th>\n",
       "      <td>03005988</td>\n",
       "      <td>HAPPY</td>\n",
       "      <td>1981-01-01</td>\n",
       "      <td>U.S.A.</td>\n",
       "      <td>None</td>\n",
       "      <td>2009-11-29</td>\n",
       "    </tr>\n",
       "    <tr>\n",
       "      <th>1</th>\n",
       "      <td>920000018</td>\n",
       "      <td>None</td>\n",
       "      <td>1962-05-06</td>\n",
       "      <td>HAITI</td>\n",
       "      <td>1992-12-17</td>\n",
       "      <td>1997-12-16</td>\n",
       "    </tr>\n",
       "  </tbody>\n",
       "</table>\n",
       "</div>"
      ],
      "text/plain": [
       "  Passport Number   Name Date of Birth Nationality Date of Issue  \\\n",
       "0        03005988  HAPPY    1981-01-01      U.S.A.          None   \n",
       "1       920000018   None    1962-05-06       HAITI    1992-12-17   \n",
       "\n",
       "  Date of Expiry  \n",
       "0     2009-11-29  \n",
       "1     1997-12-16  "
      ]
     },
     "execution_count": 9,
     "metadata": {},
     "output_type": "execute_result"
    }
   ],
   "source": [
    "\"auto\"\n",
    "result = extractor.extract(doc_passport)\n",
    "df = extractor.to_dataframe(result)\n",
    "df"
   ]
  },
  {
   "cell_type": "code",
   "execution_count": 12,
   "metadata": {},
   "outputs": [],
   "source": [
    "import os\n",
    "\n",
    "folder_path = \"data/passport_dataset\"\n",
    "# Get full paths by joining folder path with filenames\n",
    "images = [os.path.join(folder_path, f) for f in os.listdir(folder_path) if f.endswith('.jpg')]\n",
    "\n",
    "# Now images will contain full paths like:\n",
    "# 'data/passport_dataset/004fcb.jpg', 'data/passport_dataset/005253.jpg', etc.\n",
    "\n",
    "# To see just the first 5:\n",
    "test_dataset=images[:5]"
   ]
  },
  {
   "cell_type": "code",
   "execution_count": 13,
   "metadata": {},
   "outputs": [
    {
     "data": {
      "text/plain": [
       "{'00a737.jpg': [Document(page_content='P<BRASILVA<<JOAO<JOSE<<<<<<<< 6666666666 666<6¢ AAQOOOOO<OBRA7O009068F 5012147<<<<<<<<<<<<<<00', metadata={'filename': '00a737.jpg', 'filetype': 'image/jpeg', 'page_number': 1, 'source': 'data/passport_dataset\\\\00a737.jpg'})],\n",
       " '010f92.jpg': [Document(page_content=\"== aR. ota | SAGHAS/TYPE TYPE TIR/COUNTRY/PAYS P IRL 1 SLOMONE SURNAME 1 O'SULLIVAN 9 ODARAS AUTHORITY JAUTORETE Olfig na bPasanna, Baile Atha Cliath 13 MFO/SEP 2 Passport Office Dublin en P<IRLOSULLIVAN<<LAUREN<<<<<<<<<<<<<<<<<<<<<< X073262<<SIRL8805049F1409138<<<<<<<<<<<<<<<c4\", metadata={'filename': '010f92.jpg', 'filetype': 'image/jpeg', 'page_number': 1, 'source': 'data/passport_dataset\\\\010f92.jpg'})],\n",
       " '004fcb.jpg': [Document(page_content='MII Z st PASSPORT Toh, 2 = STATE OF ISRAEL 7 nD State P/T TAL (TALMON) DANA “ISRAELI Span 02/03/1970 FI) : (05/09/2001 “JERUSALEM neten 9oD ISR F | Taw nw Passport No. / 271 \"UD 0000000 (ade) dv “ay P<ISRTAL<TALMON<<DANA<<<<<<<<<<<<<<<<<<<<<<< 0000000<<01SR7003022F06090453<1053698<2<<<34 +', metadata={'filename': '004fcb.jpg', 'filetype': 'image/jpeg', 'page_number': 1, 'source': 'data/passport_dataset\\\\004fcb.jpg'})],\n",
       " '005253.jpg': [Document(page_content='REPUBLIQUE DU CONGO ie GS EE Ge ee Passeport de service Type (3) Code pays (2) PS coG Nom (4) GOSSINI Prénoms (5) ELLINE MARYSE Date de naissance (6) 31 OCT/OCT 79 Natonalité (8) CONGOLAISE Fonction / qualité (10) PISCICULTRICE Date ¢\\'établissement (11) 29 AQOT/ AUG 12 Date dexpiration 28 AOGT/ AUG 17 IN\" Passeport (3) SA0009816 Lieu de naissance (7) BRAZZAVILLE Sexe (9) F eu ¢’émission (13) BRAZZAVILLE PSCOGGOSSINI<<ELLINE<MARYSE<<<<<<<<<<<<<<<<< SA00098160C0G7910317F 1708288<<<<<<<<<<<<<<02', metadata={'filename': '005253.jpg', 'filetype': 'image/jpeg', 'page_number': 1, 'source': 'data/passport_dataset\\\\005253.jpg'})],\n",
       " '014ee4.jpg': [Document(page_content='ART eng / Type Pp WRT / REPUBLIC OF INDIA reat / INDIAN “IND i es = 2 6 3 2 9 8 3 8 SGT / Surname INGALE fear aa APT / Given Namets AYESHA BHARAT warinfts / Date of Beth fear 15/03/1999 wat Farr / Place of Birth PUNE MAHARASHTRA ard axa a Fen / Place of sue PUNE arf 24 & PYRi/ Date of tssue 29/07/2021 ra Haft Br ferfts / Date of Expiry 28/07/2031', metadata={'filename': '014ee4.jpg', 'filetype': 'image/jpeg', 'page_number': 1, 'source': 'data/passport_dataset\\\\014ee4.jpg'})]}"
      ]
     },
     "execution_count": 13,
     "metadata": {},
     "output_type": "execute_result"
    }
   ],
   "source": [
    "passport_processor = DocumentProcessor(test_dataset)\n",
    "\n",
    "# Process the document\n",
    "doc_passport = passport_processor.process()\n",
    "doc_passport"
   ]
  },
  {
   "cell_type": "code",
   "execution_count": 14,
   "metadata": {},
   "outputs": [
    {
     "data": {
      "text/html": [
       "<div>\n",
       "<style scoped>\n",
       "    .dataframe tbody tr th:only-of-type {\n",
       "        vertical-align: middle;\n",
       "    }\n",
       "\n",
       "    .dataframe tbody tr th {\n",
       "        vertical-align: top;\n",
       "    }\n",
       "\n",
       "    .dataframe thead th {\n",
       "        text-align: right;\n",
       "    }\n",
       "</style>\n",
       "<table border=\"1\" class=\"dataframe\">\n",
       "  <thead>\n",
       "    <tr style=\"text-align: right;\">\n",
       "      <th></th>\n",
       "      <th>Passport Number</th>\n",
       "      <th>Name</th>\n",
       "      <th>Date of Birth</th>\n",
       "      <th>Nationality</th>\n",
       "      <th>Date of Issue</th>\n",
       "      <th>Date of Expiry</th>\n",
       "    </tr>\n",
       "  </thead>\n",
       "  <tbody>\n",
       "    <tr>\n",
       "      <th>0</th>\n",
       "      <td>666666666</td>\n",
       "      <td>JOAO JOSE</td>\n",
       "      <td>None</td>\n",
       "      <td>BRASIL</td>\n",
       "      <td>None</td>\n",
       "      <td>None</td>\n",
       "    </tr>\n",
       "    <tr>\n",
       "      <th>1</th>\n",
       "      <td>X073262</td>\n",
       "      <td>O'SULLIVAN LAUREN</td>\n",
       "      <td>1988-05-04</td>\n",
       "      <td>IRL</td>\n",
       "      <td>2014-09-13</td>\n",
       "      <td>None</td>\n",
       "    </tr>\n",
       "    <tr>\n",
       "      <th>2</th>\n",
       "      <td>UD000000</td>\n",
       "      <td>DANA TALMON</td>\n",
       "      <td>1970-03-02</td>\n",
       "      <td>ISRAEL</td>\n",
       "      <td>2001-09-05</td>\n",
       "      <td>None</td>\n",
       "    </tr>\n",
       "    <tr>\n",
       "      <th>3</th>\n",
       "      <td>SA0009816</td>\n",
       "      <td>GOSSINI ELLINE MARYSE</td>\n",
       "      <td>1979-10-31</td>\n",
       "      <td>CONGOLAISE</td>\n",
       "      <td>2012-08-29</td>\n",
       "      <td>2017-08-28</td>\n",
       "    </tr>\n",
       "    <tr>\n",
       "      <th>4</th>\n",
       "      <td>26329838</td>\n",
       "      <td>AYESHA BHARAT</td>\n",
       "      <td>1999-03-15</td>\n",
       "      <td>INDIA</td>\n",
       "      <td>2021-07-29</td>\n",
       "      <td>2031-07-28</td>\n",
       "    </tr>\n",
       "  </tbody>\n",
       "</table>\n",
       "</div>"
      ],
      "text/plain": [
       "  Passport Number                   Name Date of Birth Nationality  \\\n",
       "0       666666666              JOAO JOSE          None      BRASIL   \n",
       "1         X073262      O'SULLIVAN LAUREN    1988-05-04         IRL   \n",
       "2        UD000000            DANA TALMON    1970-03-02      ISRAEL   \n",
       "3       SA0009816  GOSSINI ELLINE MARYSE    1979-10-31  CONGOLAISE   \n",
       "4        26329838          AYESHA BHARAT    1999-03-15       INDIA   \n",
       "\n",
       "  Date of Issue Date of Expiry  \n",
       "0          None           None  \n",
       "1    2014-09-13           None  \n",
       "2    2001-09-05           None  \n",
       "3    2012-08-29     2017-08-28  \n",
       "4    2021-07-29     2031-07-28  "
      ]
     },
     "execution_count": 14,
     "metadata": {},
     "output_type": "execute_result"
    }
   ],
   "source": [
    "result = extractor.extract(doc_passport)\n",
    "df = extractor.to_dataframe(result)\n",
    "df"
   ]
  },
  {
   "cell_type": "code",
   "execution_count": 19,
   "metadata": {},
   "outputs": [
    {
     "name": "stderr",
     "output_type": "stream",
     "text": [
      "[2024-11-03 12:50:18,269] [ WARNING] easyocr.py:80 - Neither CUDA nor MPS are available - defaulting to CPU. Note: This module is much faster with a GPU.\n",
      "[2024-11-03 12:50:18,281] [ WARNING] easyocr.py:251 - Downloading detection model, please wait. This may take several minutes depending upon your network connection.\n"
     ]
    },
    {
     "name": "stdout",
     "output_type": "stream",
     "text": [
      "Progress: |██████████████████████████████████████████████████| 100.0% Complete"
     ]
    },
    {
     "name": "stderr",
     "output_type": "stream",
     "text": [
      "[2024-11-03 12:51:00,495] [ WARNING] easyocr.py:176 - Downloading recognition model, please wait. This may take several minutes depending upon your network connection.\n"
     ]
    },
    {
     "name": "stdout",
     "output_type": "stream",
     "text": [
      "Progress: |██████████████████████████████████████████████████| 100.0% CompleteFailed to process data/passport_dataset\\00a737.jpg: The truth value of a DataFrame is ambiguous. Use a.empty, a.bool(), a.item(), a.any() or a.all().\n",
      "Failed to process data/passport_dataset\\004fcb.jpg: The truth value of a DataFrame is ambiguous. Use a.empty, a.bool(), a.item(), a.any() or a.all().\n",
      "Failed to process data/passport_dataset\\005253.jpg: The truth value of a DataFrame is ambiguous. Use a.empty, a.bool(), a.item(), a.any() or a.all().\n",
      "Failed to process data/passport_dataset\\010f92.jpg: The truth value of a DataFrame is ambiguous. Use a.empty, a.bool(), a.item(), a.any() or a.all().\n",
      "Failed to process data/passport_dataset\\014ee4.jpg: The truth value of a DataFrame is ambiguous. Use a.empty, a.bool(), a.item(), a.any() or a.all().\n"
     ]
    }
   ],
   "source": [
    "# Initialize processor with config\n",
    "config = ProcessingConfig(\n",
    "    ocr_for_images=True,\n",
    "    ocr_model='easyocr'  # or 'tesseract'\n",
    ")\n",
    "\n",
    "# Create processor instance\n",
    "processor = DocumentProcessor(images[:5])\n",
    "\n",
    "# Process documents\n",
    "doc_passport_paddle = processor.process(config)"
   ]
  },
  {
   "cell_type": "code",
   "execution_count": 20,
   "metadata": {},
   "outputs": [
    {
     "data": {
      "text/html": [
       "<div>\n",
       "<style scoped>\n",
       "    .dataframe tbody tr th:only-of-type {\n",
       "        vertical-align: middle;\n",
       "    }\n",
       "\n",
       "    .dataframe tbody tr th {\n",
       "        vertical-align: top;\n",
       "    }\n",
       "\n",
       "    .dataframe thead th {\n",
       "        text-align: right;\n",
       "    }\n",
       "</style>\n",
       "<table border=\"1\" class=\"dataframe\">\n",
       "  <thead>\n",
       "    <tr style=\"text-align: right;\">\n",
       "      <th></th>\n",
       "      <th>Passport Number</th>\n",
       "      <th>Name</th>\n",
       "      <th>Date of Birth</th>\n",
       "      <th>Nationality</th>\n",
       "      <th>Date of Issue</th>\n",
       "      <th>Date of Expiry</th>\n",
       "    </tr>\n",
       "  </thead>\n",
       "  <tbody>\n",
       "  </tbody>\n",
       "</table>\n",
       "</div>"
      ],
      "text/plain": [
       "Empty DataFrame\n",
       "Columns: [Passport Number, Name, Date of Birth, Nationality, Date of Issue, Date of Expiry]\n",
       "Index: []"
      ]
     },
     "execution_count": 20,
     "metadata": {},
     "output_type": "execute_result"
    }
   ],
   "source": [
    "result = extractor.extract(doc_passport_paddle)\n",
    "df = extractor.to_dataframe(result)\n",
    "df"
   ]
  },
  {
   "cell_type": "code",
   "execution_count": null,
   "metadata": {},
   "outputs": [],
   "source": []
  }
 ],
 "metadata": {
  "kernelspec": {
   "display_name": "Python 3",
   "language": "python",
   "name": "python3"
  },
  "language_info": {
   "codemirror_mode": {
    "name": "ipython",
    "version": 3
   },
   "file_extension": ".py",
   "mimetype": "text/x-python",
   "name": "python",
   "nbconvert_exporter": "python",
   "pygments_lexer": "ipython3",
   "version": "3.12.0"
  }
 },
 "nbformat": 4,
 "nbformat_minor": 2
}
