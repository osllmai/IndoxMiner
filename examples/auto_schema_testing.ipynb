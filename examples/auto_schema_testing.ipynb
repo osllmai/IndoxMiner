{
 "nbformat": 4,
 "nbformat_minor": 0,
 "metadata": {
  "colab": {
   "provenance": []
  },
  "kernelspec": {
   "name": "python3",
   "display_name": "Python 3 (ipykernel)",
   "language": "python"
  },
  "language_info": {
   "name": "python"
  }
 },
 "cells": [
  {
   "cell_type": "code",
   "source": [
    "import os\n",
    "import pandas as pd\n",
    "from indoxMiner import (\n",
    "    Extractor,\n",
    "    ProcessingConfig,\n",
    "    DocumentProcessor,\n",
    "    AutoSchema,\n",
    "    NerdTokenApi\n",
    ")\n",
    "\n",
    "# Replace with your actual API key\n",
    "NERDTOKEN = \"YOUR_NERD_TOKEN\"\n",
    "\n",
    "# Initialize Indox API and extractor configuration\n",
    "indox_api = NerdTokenApi(api_key=NERDTOKEN, model='gpt-4o-mini')\n",
    "config = ProcessingConfig(\n",
    "    ocr_for_images=True,\n",
    "    ocr_model='easyocr'  # or 'tesseract' or 'paddle'\n",
    ")\n",
    "\n",
    "# Step 1: Initialize AutoSchema for automatic field detection\n",
    "auto_schema = AutoSchema()\n",
    "\n",
    "# Step 2: Initialize the Extractor with the Indox API and AutoSchema\n",
    "extractor = Extractor(llm=indox_api, schema=auto_schema)\n",
    "\n",
    "# Step 3: Define the directory containing images and specify target images\n",
    "image_directory = r'C:\\My Files\\IndoxM\\IndoxMiner\\examples'\n",
    "target_images = ['invoice_Aaron Bergman_36258-1.png']\n",
    "image_paths = [os.path.join(image_directory, img) for img in target_images]\n",
    "\n",
    "# Step 4: Process the documents to extract text and metadata\n",
    "processor = DocumentProcessor(image_paths)\n",
    "results = processor.process(config)\n",
    "\n",
    "# Step 5: Extract structured data from processed documents\n",
    "extracted_data = extractor.extract(results)\n",
    "\n",
    "# Step 6: Convert the extracted data to a DataFrame\n",
    "df = extractor.to_dataframe(extracted_data)\n",
    "\n",
    "# Display the final DataFrame\n",
    "print(\"Extracted Data as DataFrame:\")\n",
    "print(df)\n"
   ],
   "metadata": {
    "colab": {
     "base_uri": "https://localhost:8080/"
    },
    "id": "1SX8a0xHwXA7",
    "outputId": "27aa97da-7991-47b1-c6f2-32fb2731cf64",
    "ExecuteTime": {
     "end_time": "2024-11-14T06:30:50.842385Z",
     "start_time": "2024-11-14T06:29:05.095867Z"
    }
   },
   "outputs": [
    {
     "name": "stderr",
     "output_type": "stream",
     "text": [
      "Neither CUDA nor MPS are available - defaulting to CPU. Note: This module is much faster with a GPU.\n"
     ]
    },
    {
     "name": "stdout",
     "output_type": "stream",
     "text": [
      "Row added: {'invoice_number': 36258, 'date': '2012-03-06', 'ship_mode': 'First Class', 'balance_due': 50.1, 'subtotal': 48.71, 'shipping': 11.13, 'total': 50.1, 'notes': 'Thanks for your business!', 'items': [{'description': \"Global Push Button Manager's Chair, Indigo\", 'quantity': 1, 'rate': 48.71, 'amount': 48.71}, {'description': 'Chairs, Furniture, FUR-CH-4421', 'quantity': 1, 'rate': 48.71, 'amount': 48.71}]}\n",
      "Extracted Data as DataFrame:\n",
      "   invoice_number        date    ship_mode  balance_due  subtotal  shipping  \\\n",
      "0           36258  2012-03-06  First Class         50.1     48.71     11.13   \n",
      "\n",
      "   total                      notes  \\\n",
      "0   50.1  Thanks for your business!   \n",
      "\n",
      "                                               items  \n",
      "0  [{'description': 'Global Push Button Manager's...  \n"
     ]
    }
   ],
   "execution_count": 1
  },
  {
   "cell_type": "code",
   "source": [
    "df"
   ],
   "metadata": {
    "colab": {
     "base_uri": "https://localhost:8080/",
     "height": 89
    },
    "id": "qIYhHSHqw96_",
    "outputId": "6c9364c3-b5b4-42a7-848c-1662e6683e34",
    "ExecuteTime": {
     "end_time": "2024-11-14T06:30:50.928706Z",
     "start_time": "2024-11-14T06:30:50.857615Z"
    }
   },
   "outputs": [
    {
     "data": {
      "text/plain": [
       "   invoice_number        date    ship_mode  balance_due  subtotal  shipping  \\\n",
       "0           36258  2012-03-06  First Class         50.1     48.71     11.13   \n",
       "\n",
       "   total                      notes  \\\n",
       "0   50.1  Thanks for your business!   \n",
       "\n",
       "                                               items  \n",
       "0  [{'description': 'Global Push Button Manager's...  "
      ],
      "text/html": [
       "<div>\n",
       "<style scoped>\n",
       "    .dataframe tbody tr th:only-of-type {\n",
       "        vertical-align: middle;\n",
       "    }\n",
       "\n",
       "    .dataframe tbody tr th {\n",
       "        vertical-align: top;\n",
       "    }\n",
       "\n",
       "    .dataframe thead th {\n",
       "        text-align: right;\n",
       "    }\n",
       "</style>\n",
       "<table border=\"1\" class=\"dataframe\">\n",
       "  <thead>\n",
       "    <tr style=\"text-align: right;\">\n",
       "      <th></th>\n",
       "      <th>invoice_number</th>\n",
       "      <th>date</th>\n",
       "      <th>ship_mode</th>\n",
       "      <th>balance_due</th>\n",
       "      <th>subtotal</th>\n",
       "      <th>shipping</th>\n",
       "      <th>total</th>\n",
       "      <th>notes</th>\n",
       "      <th>items</th>\n",
       "    </tr>\n",
       "  </thead>\n",
       "  <tbody>\n",
       "    <tr>\n",
       "      <th>0</th>\n",
       "      <td>36258</td>\n",
       "      <td>2012-03-06</td>\n",
       "      <td>First Class</td>\n",
       "      <td>50.1</td>\n",
       "      <td>48.71</td>\n",
       "      <td>11.13</td>\n",
       "      <td>50.1</td>\n",
       "      <td>Thanks for your business!</td>\n",
       "      <td>[{'description': 'Global Push Button Manager's...</td>\n",
       "    </tr>\n",
       "  </tbody>\n",
       "</table>\n",
       "</div>"
      ]
     },
     "execution_count": 2,
     "metadata": {},
     "output_type": "execute_result"
    }
   ],
   "execution_count": 2
  },
  {
   "cell_type": "code",
   "source": [
    "mk = extractor.to_markdown(extracted_data)"
   ],
   "metadata": {
    "id": "QL4luN4dgnDf",
    "ExecuteTime": {
     "end_time": "2024-11-14T06:30:50.953313Z",
     "start_time": "2024-11-14T06:30:50.928706Z"
    }
   },
   "outputs": [],
   "execution_count": 3
  },
  {
   "cell_type": "code",
   "source": [
    "print(mk)"
   ],
   "metadata": {
    "colab": {
     "base_uri": "https://localhost:8080/"
    },
    "id": "tmGKH7V7fXEW",
    "outputId": "d65a7ba0-196f-4ad2-8837-d5d89f64791d",
    "ExecuteTime": {
     "end_time": "2024-11-14T06:30:50.976961Z",
     "start_time": "2024-11-14T06:30:50.953313Z"
    }
   },
   "outputs": [
    {
     "name": "stdout",
     "output_type": "stream",
     "text": [
      " \n",
      "\n",
      " |   invoice_number | date       | ship_mode   |   balance_due |   subtotal |   shipping |   total | notes                     | items                                                                                                                                                                                                            |\n",
      "|------------------|------------|-------------|---------------|------------|------------|---------|---------------------------|------------------------------------------------------------------------------------------------------------------------------------------------------------------------------------------------------------------|\n",
      "|            36258 | 2012-03-06 | First Class |          50.1 |      48.71 |      11.13 |    50.1 | Thanks for your business! | [{'description': \"Global Push Button Manager's Chair, Indigo\", 'quantity': 1, 'rate': 48.71, 'amount': 48.71}, {'description': 'Chairs, Furniture, FUR-CH-4421', 'quantity': 1, 'rate': 48.71, 'amount': 48.71}] |\n"
     ]
    }
   ],
   "execution_count": 4
  },
  {
   "cell_type": "code",
   "source": [
    "tb = extractor.to_table(extracted_data)"
   ],
   "metadata": {
    "id": "CRk78y2VgwXL",
    "ExecuteTime": {
     "end_time": "2024-11-14T06:30:50.989425Z",
     "start_time": "2024-11-14T06:30:50.976961Z"
    }
   },
   "outputs": [],
   "execution_count": 5
  },
  {
   "cell_type": "code",
   "source": [
    "print(tb)"
   ],
   "metadata": {
    "colab": {
     "base_uri": "https://localhost:8080/"
    },
    "id": "OqlIJsXgg1is",
    "outputId": "4dda9ec0-ee14-460d-813a-809e102d8fc8",
    "ExecuteTime": {
     "end_time": "2024-11-14T06:30:51.002218Z",
     "start_time": "2024-11-14T06:30:50.989425Z"
    }
   },
   "outputs": [
    {
     "name": "stdout",
     "output_type": "stream",
     "text": [
      " \n",
      "\n",
      " +------------------+------------+-------------+---------------+------------+------------+---------+---------------------------+------------------------------------------------------------------------------------------------------------------------------------------------------------------------------------------------------------------+\n",
      "|   invoice_number | date       | ship_mode   |   balance_due |   subtotal |   shipping |   total | notes                     | items                                                                                                                                                                                                            |\n",
      "+==================+============+=============+===============+============+============+=========+===========================+==================================================================================================================================================================================================================+\n",
      "|            36258 | 2012-03-06 | First Class |          50.1 |      48.71 |      11.13 |    50.1 | Thanks for your business! | [{'description': \"Global Push Button Manager's Chair, Indigo\", 'quantity': 1, 'rate': 48.71, 'amount': 48.71}, {'description': 'Chairs, Furniture, FUR-CH-4421', 'quantity': 1, 'rate': 48.71, 'amount': 48.71}] |\n",
      "+------------------+------------+-------------+---------------+------------+------------+---------+---------------------------+------------------------------------------------------------------------------------------------------------------------------------------------------------------------------------------------------------------+\n"
     ]
    }
   ],
   "execution_count": 6
  }
 ]
}
