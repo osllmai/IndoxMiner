{
 "cells": [
  {
   "cell_type": "code",
   "id": "bd39f6401a31f876",
   "metadata": {
    "collapsed": true,
    "ExecuteTime": {
     "end_time": "2024-10-29T12:58:36.738667Z",
     "start_time": "2024-10-29T12:58:31.319199Z"
    }
   },
   "source": [
    "from indoxMiner import (\n",
    "    ExtractorSchema,\n",
    "    Field,\n",
    "    FieldType,\n",
    "    ValidationRule,\n",
    "    OutputFormat,\n",
    "    Extractor,\n",
    "    DocumentProcessor,\n",
    "    ProcessingConfig, OpenAi\n",
    ")"
   ],
   "outputs": [],
   "execution_count": 1
  },
  {
   "metadata": {
    "ExecuteTime": {
     "end_time": "2024-10-29T12:58:36.751601Z",
     "start_time": "2024-10-29T12:58:36.738667Z"
    }
   },
   "cell_type": "code",
   "source": [
    "# Set your OpenAI API key\n",
    "import os\n",
    "from dotenv import load_dotenv\n",
    "\n",
    "load_dotenv()\n",
    "\n",
    "OPENAI_API_KEY = os.environ['OPENAI_API_KEY']"
   ],
   "id": "16031fd8d3a028c6",
   "outputs": [],
   "execution_count": 2
  },
  {
   "metadata": {
    "ExecuteTime": {
     "end_time": "2024-10-29T12:58:38.121745Z",
     "start_time": "2024-10-29T12:58:36.751601Z"
    }
   },
   "cell_type": "code",
   "source": "# ollama_extractor = Ollama(model=\"llama3\")",
   "id": "9112b8c9427fe4aa",
   "outputs": [],
   "execution_count": 3
  },
  {
   "metadata": {
    "ExecuteTime": {
     "end_time": "2024-10-29T12:58:39.138369Z",
     "start_time": "2024-10-29T12:58:38.121745Z"
    }
   },
   "cell_type": "code",
   "source": "llm_extractor = OpenAi(api_key=OPENAI_API_KEY, model=\"gpt-4o-mini\")",
   "id": "295ef0a88b340405",
   "outputs": [],
   "execution_count": 4
  },
  {
   "metadata": {
    "ExecuteTime": {
     "end_time": "2024-10-29T12:58:39.143477Z",
     "start_time": "2024-10-29T12:58:39.138369Z"
    }
   },
   "cell_type": "code",
   "source": [
    "# Example 1: Quick text extraction\n",
    "# -------------------------------\n",
    "# Define what information to extract\n",
    "schema = ExtractorSchema(\n",
    "    fields=[\n",
    "        Field(\n",
    "            name=\"product_name\",\n",
    "            description=\"Product name\",\n",
    "            field_type=FieldType.STRING,\n",
    "            rules=ValidationRule(min_length=2)\n",
    "        ),\n",
    "        Field(\n",
    "            name=\"price\",\n",
    "            description=\"Price in USD\",\n",
    "            field_type=FieldType.FLOAT,\n",
    "            rules=ValidationRule(min_value=0)\n",
    "        )\n",
    "    ]\n",
    ")\n",
    "\n",
    "extractor = Extractor(llm=ollama_extractor, schema=schema)"
   ],
   "id": "2e918ded108b7f4e",
   "outputs": [],
   "execution_count": 5
  },
  {
   "metadata": {
    "ExecuteTime": {
     "end_time": "2024-10-29T12:58:39.147849Z",
     "start_time": "2024-10-29T12:58:39.143477Z"
    }
   },
   "cell_type": "code",
   "source": [
    "# Sample text\n",
    "text = \"\"\"\n",
    "MacBook Pro 16-inch with M2 chip\n",
    "Price: $2,399.99\n",
    "In stock: Yes\n",
    "\"\"\""
   ],
   "id": "3d30e4540a8c423c",
   "outputs": [],
   "execution_count": 6
  },
  {
   "metadata": {
    "ExecuteTime": {
     "end_time": "2024-10-29T12:58:41.529034Z",
     "start_time": "2024-10-29T12:58:39.863922Z"
    }
   },
   "cell_type": "code",
   "source": [
    "# Extract information\n",
    "result = await extractor.extract(text)"
   ],
   "id": "34737274fe9ed5f8",
   "outputs": [
    {
     "name": "stdout",
     "output_type": "stream",
     "text": [
      "Task: Extract structured information from the given text according to the following schema.\n",
      "\n",
      "        Fields to extract:\n",
      "        - product_name (string*): Product name\n",
      "    Validation: minimum length: 2\n",
      "- price (float*): Price in USD\n",
      "    Validation: minimum value: 0\n",
      "\n",
      "        Output Requirements:\n",
      "        1. Extract ONLY the specified fields\n",
      "        2. Follow the exact field names provided\n",
      "        3. Use json format\n",
      "        4. Format as a JSON object. Use null for missing values.\n",
      "        5. If a required field cannot be found, use null/empty values\n",
      "        6. Validate all values against provided rules\n",
      "        7. For dates, use ISO format (YYYY-MM-DD)\n",
      "        8. For lists, provide values in a consistent format\n",
      "        9. CRITICAL: Return ONLY the json output - no explanations, comments, or additional text before or after\n",
      "        10. CRITICAL: Do not include explanation of what was extracted\n",
      "        11. CRITICAL: Do not include ```json tags or backticks\n",
      "\n",
      "        Text to analyze:\n",
      "        \n",
      "MacBook Pro 16-inch with M2 chip\n",
      "Price: $2,399.99\n",
      "In stock: Yes\n",
      "\n",
      "\n",
      "        Return the pure json output now:\n",
      "\u001B[32m16:28:41\u001B[0m | \u001B[31m\u001B[1mERROR   \u001B[0m | \u001B[36mindoxExtract.llms\u001B[0m:\u001B[36mgenerate\u001B[0m:\u001B[36m124\u001B[0m - \u001B[31m\u001B[1mOllama completion failed: \u001B[0m\n",
      "\u001B[32m16:28:41\u001B[0m | \u001B[31m\u001B[1mERROR   \u001B[0m | \u001B[36mindoxExtract.app\u001B[0m:\u001B[36m_extract_chunk\u001B[0m:\u001B[36m297\u001B[0m - \u001B[31m\u001B[1mExtraction failed for chunk 0: \u001B[0m\n"
     ]
    }
   ],
   "execution_count": 7
  },
  {
   "metadata": {
    "ExecuteTime": {
     "end_time": "2024-10-29T12:51:26.251629Z",
     "start_time": "2024-10-29T12:51:26.243549Z"
    }
   },
   "cell_type": "code",
   "source": "result",
   "id": "c8ea0dc7575e701",
   "outputs": [
    {
     "data": {
      "text/plain": [
       "ExtractionResult(data={'product_name': 'MacBook Pro 16-inch with M2 chip', 'price': 2399.99}, raw_response='{\\n    \"product_name\": \"MacBook Pro 16-inch with M2 chip\",\\n    \"price\": 2399.99\\n}', validation_errors=[])"
      ]
     },
     "execution_count": 12,
     "metadata": {},
     "output_type": "execute_result"
    }
   ],
   "execution_count": 12
  },
  {
   "metadata": {
    "ExecuteTime": {
     "end_time": "2024-10-29T12:50:40.060248Z",
     "start_time": "2024-10-29T12:50:40.031870Z"
    }
   },
   "cell_type": "code",
   "source": "extractor.to_dataframe(result)",
   "id": "26607943180d7e00",
   "outputs": [
    {
     "data": {
      "text/plain": [
       "   product_name  price\n",
       "0           NaN    NaN"
      ],
      "text/html": [
       "<div>\n",
       "<style scoped>\n",
       "    .dataframe tbody tr th:only-of-type {\n",
       "        vertical-align: middle;\n",
       "    }\n",
       "\n",
       "    .dataframe tbody tr th {\n",
       "        vertical-align: top;\n",
       "    }\n",
       "\n",
       "    .dataframe thead th {\n",
       "        text-align: right;\n",
       "    }\n",
       "</style>\n",
       "<table border=\"1\" class=\"dataframe\">\n",
       "  <thead>\n",
       "    <tr style=\"text-align: right;\">\n",
       "      <th></th>\n",
       "      <th>product_name</th>\n",
       "      <th>price</th>\n",
       "    </tr>\n",
       "  </thead>\n",
       "  <tbody>\n",
       "    <tr>\n",
       "      <th>0</th>\n",
       "      <td>NaN</td>\n",
       "      <td>NaN</td>\n",
       "    </tr>\n",
       "  </tbody>\n",
       "</table>\n",
       "</div>"
      ]
     },
     "execution_count": 8,
     "metadata": {},
     "output_type": "execute_result"
    }
   ],
   "execution_count": 8
  },
  {
   "metadata": {
    "ExecuteTime": {
     "end_time": "2024-10-26T16:49:40.140717Z",
     "start_time": "2024-10-26T16:49:38.215609Z"
    }
   },
   "cell_type": "code",
   "source": [
    "import nltk\n",
    "\n",
    "nltk.download('punkt_tab')\n",
    "nltk.download('averaged_perceptron_tagger_eng')\n"
   ],
   "id": "cd636f27eb334206",
   "outputs": [
    {
     "name": "stderr",
     "output_type": "stream",
     "text": [
      "[nltk_data] Downloading package punkt_tab to\n",
      "[nltk_data]     C:\\Users\\ASHKAN\\AppData\\Roaming\\nltk_data...\n",
      "[nltk_data]   Package punkt_tab is already up-to-date!\n",
      "[nltk_data] Downloading package averaged_perceptron_tagger_eng to\n",
      "[nltk_data]     C:\\Users\\ASHKAN\\AppData\\Roaming\\nltk_data...\n",
      "[nltk_data]   Package averaged_perceptron_tagger_eng is already up-to-\n",
      "[nltk_data]       date!\n"
     ]
    },
    {
     "data": {
      "text/plain": [
       "True"
      ]
     },
     "execution_count": 8,
     "metadata": {},
     "output_type": "execute_result"
    }
   ],
   "execution_count": 8
  },
  {
   "metadata": {
    "ExecuteTime": {
     "end_time": "2024-10-28T15:09:40.175804Z",
     "start_time": "2024-10-28T15:09:29.155329Z"
    }
   },
   "cell_type": "code",
   "source": [
    "# Example 2: Process a PDF and extract information\n",
    "# ----------------------------------------------\n",
    "# Initialize document processor\n",
    "processor = DocumentProcessor([\"invoice_Aaron Hawkins_36652.pdf\", \"invoice_Aaron Smayling_35876.pdf\"])\n",
    "\n",
    "# Process the document\n",
    "documents = processor.process(\n",
    "    config=ProcessingConfig(\n",
    "        hi_res_pdf=True\n",
    "    )\n",
    ")\n",
    "\n"
   ],
   "id": "58f1fb00e4146f",
   "outputs": [],
   "execution_count": 8
  },
  {
   "metadata": {
    "ExecuteTime": {
     "end_time": "2024-10-28T15:09:40.902967Z",
     "start_time": "2024-10-28T15:09:40.898635Z"
    }
   },
   "cell_type": "code",
   "source": "documents",
   "id": "ad954ba36ccb44b9",
   "outputs": [
    {
     "data": {
      "text/plain": [
       "{'invoice_Aaron Hawkins_36652.pdf': [Document(page_content='SuperStore INVOICE # 36652 Ship To: 90004, Los Angeles, California, United States Date: Ship Mode: Balance Due: May 12 2012 Standard Class $17.15 Bill To: Aaron Hawkins Item EcoTones Memo Sheets Paper, Office Supplies, OFF-PA-4014 Quantity 2 Rate Amount $8.00 $16.00 Subtotal: Subtotal: $16.00 Shipping: Shipping: $1.15 Total: Total: $17.15 Notes: Thanks for your business! Terms: Order ID : CA-2012-AH10030140-41041', metadata={'filename': 'invoice_Aaron Hawkins_36652.pdf', 'filetype': 'application/pdf', 'page_number': 1, 'source': 'invoice_Aaron Hawkins_36652.pdf'})],\n",
       " 'invoice_Aaron Smayling_35876.pdf': [Document(page_content='SuperStore INVOICE # 35876 Ship To: 10035, New York City, New York, United States Date: Ship Mode: Balance Due: Jul 26 2012 Standard Class $727.94 Bill To: Aaron Smayling Item Xerox 1956 Paper, Office Supplies, OFF-PA-6512 Quantity 11 Rate $65.78 Amount $723.58 Subtotal: Subtotal: $723.58 Shipping: Shipping: $4.36 Total: Total: $727.94 Notes: Thanks for your business! Terms: Order ID : US-2012-AS10045140-41116', metadata={'filename': 'invoice_Aaron Smayling_35876.pdf', 'filetype': 'application/pdf', 'page_number': 1, 'source': 'invoice_Aaron Smayling_35876.pdf'})]}"
      ]
     },
     "execution_count": 9,
     "metadata": {},
     "output_type": "execute_result"
    }
   ],
   "execution_count": 9
  },
  {
   "metadata": {
    "ExecuteTime": {
     "end_time": "2024-10-28T15:09:53.527082Z",
     "start_time": "2024-10-28T15:09:53.522072Z"
    }
   },
   "cell_type": "code",
   "source": [
    "# Example 1: Quick text extraction\n",
    "# -------------------------------\n",
    "# Define what information to extract\n",
    "schema = ExtractorSchema(\n",
    "    fields=[\n",
    "        Field(\n",
    "            name=\"bill_to\",\n",
    "            description=\"Bill To\",\n",
    "            field_type=FieldType.STRING,\n",
    "            rules=ValidationRule(min_length=2)\n",
    "        ),\n",
    "        Field(\n",
    "            name=\"ship_to\",\n",
    "            description=\"Ship To\",\n",
    "            field_type=FieldType.STRING,\n",
    "            rules=ValidationRule(min_length=2)\n",
    "        ),\n",
    "        Field(\n",
    "            name=\"date\",\n",
    "            description=\"date\",\n",
    "            field_type=FieldType.DATE,\n",
    "        )\n",
    "        ,\n",
    "        Field(\n",
    "            name=\"ship_mode\",\n",
    "            description=\"Ship Mode\",\n",
    "            field_type=FieldType.STRING,\n",
    "        )\n",
    "        ,\n",
    "        Field(\n",
    "            name=\"item\",\n",
    "            description=\"item\",\n",
    "            field_type=FieldType.STRING,\n",
    "        )\n",
    "        ,\n",
    "        Field(\n",
    "            name=\"quantity\",\n",
    "            description=\"Quantity\",\n",
    "            field_type=FieldType.INTEGER,\n",
    "        )\n",
    "        ,\n",
    "        Field(\n",
    "            name=\"rate\",\n",
    "            description=\"price in usd\",\n",
    "            field_type=FieldType.FLOAT,\n",
    "        )\n",
    "        ,\n",
    "        Field(\n",
    "            name=\"amount\",\n",
    "            description=\"price in usd\",\n",
    "            field_type=FieldType.FLOAT,\n",
    "        )\n",
    "        ,\n",
    "\n",
    "    ],\n",
    "    output_format= OutputFormat.JSON\n",
    ")\n",
    "\n",
    "extractor = Extractor(llm=llm_extractor, schema=schema)"
   ],
   "id": "6c770465c2fe240c",
   "outputs": [],
   "execution_count": 10
  },
  {
   "metadata": {
    "ExecuteTime": {
     "end_time": "2024-10-28T15:09:56.000507Z",
     "start_time": "2024-10-28T15:09:55.996663Z"
    }
   },
   "cell_type": "code",
   "source": "documents",
   "id": "5e336d9bb46e5a64",
   "outputs": [
    {
     "data": {
      "text/plain": [
       "{'invoice_Aaron Hawkins_36652.pdf': [Document(page_content='SuperStore INVOICE # 36652 Ship To: 90004, Los Angeles, California, United States Date: Ship Mode: Balance Due: May 12 2012 Standard Class $17.15 Bill To: Aaron Hawkins Item EcoTones Memo Sheets Paper, Office Supplies, OFF-PA-4014 Quantity 2 Rate Amount $8.00 $16.00 Subtotal: Subtotal: $16.00 Shipping: Shipping: $1.15 Total: Total: $17.15 Notes: Thanks for your business! Terms: Order ID : CA-2012-AH10030140-41041', metadata={'filename': 'invoice_Aaron Hawkins_36652.pdf', 'filetype': 'application/pdf', 'page_number': 1, 'source': 'invoice_Aaron Hawkins_36652.pdf'})],\n",
       " 'invoice_Aaron Smayling_35876.pdf': [Document(page_content='SuperStore INVOICE # 35876 Ship To: 10035, New York City, New York, United States Date: Ship Mode: Balance Due: Jul 26 2012 Standard Class $727.94 Bill To: Aaron Smayling Item Xerox 1956 Paper, Office Supplies, OFF-PA-6512 Quantity 11 Rate $65.78 Amount $723.58 Subtotal: Subtotal: $723.58 Shipping: Shipping: $4.36 Total: Total: $727.94 Notes: Thanks for your business! Terms: Order ID : US-2012-AS10045140-41116', metadata={'filename': 'invoice_Aaron Smayling_35876.pdf', 'filetype': 'application/pdf', 'page_number': 1, 'source': 'invoice_Aaron Smayling_35876.pdf'})]}"
      ]
     },
     "execution_count": 11,
     "metadata": {},
     "output_type": "execute_result"
    }
   ],
   "execution_count": 11
  },
  {
   "metadata": {
    "ExecuteTime": {
     "end_time": "2024-10-28T15:10:00.606203Z",
     "start_time": "2024-10-28T15:09:57.296372Z"
    }
   },
   "cell_type": "code",
   "source": "results = await extractor.extract(documents)",
   "id": "a3eafb57e1ced247",
   "outputs": [],
   "execution_count": 12
  },
  {
   "metadata": {
    "ExecuteTime": {
     "end_time": "2024-10-28T15:10:01.645505Z",
     "start_time": "2024-10-28T15:10:01.641043Z"
    }
   },
   "cell_type": "code",
   "source": "results",
   "id": "5040ab1dd2a777da",
   "outputs": [
    {
     "data": {
      "text/plain": [
       "ExtractionResults(combined_data=[{'bill_to': 'Aaron Hawkins', 'ship_to': '90004, Los Angeles, California, United States', 'date': '2012-05-12', 'ship_mode': 'Standard Class', 'item': 'EcoTones Memo Sheets Paper, Office Supplies, OFF-PA-4014', 'quantity': 2, 'rate': 8.0, 'amount': 16.0}, {'bill_to': 'Aaron Smayling', 'ship_to': '10035, New York City, New York, United States', 'date': '2012-07-26', 'ship_mode': 'Standard Class', 'item': 'Xerox 1956 Paper, Office Supplies, OFF-PA-6512', 'quantity': 11, 'rate': 65.78, 'amount': 723.58}], raw_responses=['```json\\n{\\n    \"bill_to\": \"Aaron Hawkins\",\\n    \"ship_to\": \"90004, Los Angeles, California, United States\",\\n    \"date\": \"2012-05-12\",\\n    \"ship_mode\": \"Standard Class\",\\n    \"item\": \"EcoTones Memo Sheets Paper, Office Supplies, OFF-PA-4014\",\\n    \"quantity\": 2,\\n    \"rate\": 8.00,\\n    \"amount\": 16.00\\n}\\n```', '```json\\n{\\n    \"bill_to\": \"Aaron Smayling\",\\n    \"ship_to\": \"10035, New York City, New York, United States\",\\n    \"date\": \"2012-07-26\",\\n    \"ship_mode\": \"Standard Class\",\\n    \"item\": \"Xerox 1956 Paper, Office Supplies, OFF-PA-6512\",\\n    \"quantity\": 11,\\n    \"rate\": 65.78,\\n    \"amount\": 723.58\\n}\\n```'], validation_errors={})"
      ]
     },
     "execution_count": 13,
     "metadata": {},
     "output_type": "execute_result"
    }
   ],
   "execution_count": 13
  },
  {
   "metadata": {
    "ExecuteTime": {
     "end_time": "2024-10-28T15:10:03.183878Z",
     "start_time": "2024-10-28T15:10:03.181678Z"
    }
   },
   "cell_type": "code",
   "source": "",
   "id": "ed95e0337849d572",
   "outputs": [],
   "execution_count": 13
  },
  {
   "metadata": {
    "ExecuteTime": {
     "end_time": "2024-10-28T15:10:03.878118Z",
     "start_time": "2024-10-28T15:10:03.861072Z"
    }
   },
   "cell_type": "code",
   "source": [
    "# Get all valid results\n",
    "valid_data = results.get_valid_results()\n",
    "\n",
    "# Check if any chunks had validation errors\n",
    "if not results.is_valid:\n",
    "    for chunk_idx, errors in results.validation_errors.items():\n",
    "        print(f\"Chunk {chunk_idx} has errors: {errors}\")"
   ],
   "id": "e6f02f1d81890324",
   "outputs": [],
   "execution_count": 14
  },
  {
   "metadata": {
    "ExecuteTime": {
     "end_time": "2024-10-28T15:10:05.221028Z",
     "start_time": "2024-10-28T15:10:05.216832Z"
    }
   },
   "cell_type": "code",
   "source": "valid_data",
   "id": "5a7a64b79f3bb0d5",
   "outputs": [
    {
     "data": {
      "text/plain": [
       "[{'bill_to': 'Aaron Hawkins',\n",
       "  'ship_to': '90004, Los Angeles, California, United States',\n",
       "  'date': '2012-05-12',\n",
       "  'ship_mode': 'Standard Class',\n",
       "  'item': 'EcoTones Memo Sheets Paper, Office Supplies, OFF-PA-4014',\n",
       "  'quantity': 2,\n",
       "  'rate': 8.0,\n",
       "  'amount': 16.0},\n",
       " {'bill_to': 'Aaron Smayling',\n",
       "  'ship_to': '10035, New York City, New York, United States',\n",
       "  'date': '2012-07-26',\n",
       "  'ship_mode': 'Standard Class',\n",
       "  'item': 'Xerox 1956 Paper, Office Supplies, OFF-PA-6512',\n",
       "  'quantity': 11,\n",
       "  'rate': 65.78,\n",
       "  'amount': 723.58}]"
      ]
     },
     "execution_count": 15,
     "metadata": {},
     "output_type": "execute_result"
    }
   ],
   "execution_count": 15
  },
  {
   "metadata": {
    "ExecuteTime": {
     "end_time": "2024-10-28T15:10:06.486154Z",
     "start_time": "2024-10-28T15:10:06.481354Z"
    }
   },
   "cell_type": "code",
   "source": [
    "# Display results in a pandas DataFrame for better visualization\n",
    "import pandas as pd\n",
    "\n",
    "df = pd.DataFrame(valid_data)"
   ],
   "id": "8e8482e48e5b5a6e",
   "outputs": [],
   "execution_count": 16
  },
  {
   "metadata": {
    "ExecuteTime": {
     "end_time": "2024-10-28T15:10:07.594729Z",
     "start_time": "2024-10-28T15:10:07.585250Z"
    }
   },
   "cell_type": "code",
   "source": "df",
   "id": "fb4787b88c7a810f",
   "outputs": [
    {
     "data": {
      "text/plain": [
       "          bill_to                                        ship_to        date  \\\n",
       "0   Aaron Hawkins  90004, Los Angeles, California, United States  2012-05-12   \n",
       "1  Aaron Smayling  10035, New York City, New York, United States  2012-07-26   \n",
       "\n",
       "        ship_mode                                               item  \\\n",
       "0  Standard Class  EcoTones Memo Sheets Paper, Office Supplies, O...   \n",
       "1  Standard Class     Xerox 1956 Paper, Office Supplies, OFF-PA-6512   \n",
       "\n",
       "   quantity   rate  amount  \n",
       "0         2   8.00   16.00  \n",
       "1        11  65.78  723.58  "
      ],
      "text/html": [
       "<div>\n",
       "<style scoped>\n",
       "    .dataframe tbody tr th:only-of-type {\n",
       "        vertical-align: middle;\n",
       "    }\n",
       "\n",
       "    .dataframe tbody tr th {\n",
       "        vertical-align: top;\n",
       "    }\n",
       "\n",
       "    .dataframe thead th {\n",
       "        text-align: right;\n",
       "    }\n",
       "</style>\n",
       "<table border=\"1\" class=\"dataframe\">\n",
       "  <thead>\n",
       "    <tr style=\"text-align: right;\">\n",
       "      <th></th>\n",
       "      <th>bill_to</th>\n",
       "      <th>ship_to</th>\n",
       "      <th>date</th>\n",
       "      <th>ship_mode</th>\n",
       "      <th>item</th>\n",
       "      <th>quantity</th>\n",
       "      <th>rate</th>\n",
       "      <th>amount</th>\n",
       "    </tr>\n",
       "  </thead>\n",
       "  <tbody>\n",
       "    <tr>\n",
       "      <th>0</th>\n",
       "      <td>Aaron Hawkins</td>\n",
       "      <td>90004, Los Angeles, California, United States</td>\n",
       "      <td>2012-05-12</td>\n",
       "      <td>Standard Class</td>\n",
       "      <td>EcoTones Memo Sheets Paper, Office Supplies, O...</td>\n",
       "      <td>2</td>\n",
       "      <td>8.00</td>\n",
       "      <td>16.00</td>\n",
       "    </tr>\n",
       "    <tr>\n",
       "      <th>1</th>\n",
       "      <td>Aaron Smayling</td>\n",
       "      <td>10035, New York City, New York, United States</td>\n",
       "      <td>2012-07-26</td>\n",
       "      <td>Standard Class</td>\n",
       "      <td>Xerox 1956 Paper, Office Supplies, OFF-PA-6512</td>\n",
       "      <td>11</td>\n",
       "      <td>65.78</td>\n",
       "      <td>723.58</td>\n",
       "    </tr>\n",
       "  </tbody>\n",
       "</table>\n",
       "</div>"
      ]
     },
     "execution_count": 17,
     "metadata": {},
     "output_type": "execute_result"
    }
   ],
   "execution_count": 17
  },
  {
   "metadata": {},
   "cell_type": "code",
   "outputs": [],
   "execution_count": null,
   "source": "",
   "id": "fe02d8276b03f151"
  },
  {
   "metadata": {
    "ExecuteTime": {
     "end_time": "2024-10-28T15:10:19.211317Z",
     "start_time": "2024-10-28T15:10:19.205720Z"
    }
   },
   "cell_type": "code",
   "source": [
    "schema = ExtractorSchema(\n",
    "    fields=[\n",
    "        Field(\n",
    "            name=\"amount\",\n",
    "            description=\"The quantity or hours of service/product (e.g., 2.25h, 40.3h)\",\n",
    "            field_type=FieldType.FLOAT,\n",
    "        ),\n",
    "        Field(\n",
    "            name=\"description\",\n",
    "            description=\"Description of the service or product provided\",\n",
    "            field_type=FieldType.STRING,\n",
    "        ),\n",
    "        Field(\n",
    "            name=\"price_per_unit\",\n",
    "            description=\"Price per unit in euro (e.g., 135.00)\",\n",
    "            field_type=FieldType.FLOAT,\n",
    "        ),\n",
    "        Field(\n",
    "            name=\"total_price\",\n",
    "            description=\"Total price for this line item in euro (amount * price_per_unit)\",\n",
    "            field_type=FieldType.FLOAT,        ),\n",
    "        Field(\n",
    "            name=\"invoice_id\",\n",
    "            description=\"id of invoice\",\n",
    "            field_type=FieldType.INTEGER\n",
    "        ),\n",
    "        Field(\n",
    "            name=\"tax_number\",\n",
    "            description=\"tax number\",\n",
    "            field_type=FieldType.INTEGER\n",
    "        )\n",
    "    ],\n",
    ")\n",
    "\n",
    "# Create the extractor\n",
    "extractor = Extractor(llm=llm_extractor, schema=schema)\n",
    "\n"
   ],
   "id": "1a80ff8470c599e",
   "outputs": [],
   "execution_count": 18
  },
  {
   "metadata": {
    "ExecuteTime": {
     "end_time": "2024-10-28T15:10:19.896531Z",
     "start_time": "2024-10-28T15:10:19.893448Z"
    }
   },
   "cell_type": "code",
   "source": [
    "text = \"\"\"\n",
    "Denk Timo Denk Some Street 82 10000 Berlin, Germany Development Recipient Name Invoice ID; 4736 Another Avenue 18 Issue date: August 9, 2019 12345 Berlin Tax number: 35061/00029 Germany Invoice Item Amount Description Price per unit Total price 2.25 h Development of in project Character Grid 135.00 € 301.50 € 40.3h Research on 2D embedding 145.00 € 5,843.50 € 8.85 h Research on ID embedding 145.00 € 283.25 € Shipping 9.99 € 9.99 € Sum 7,438.24 € Total price 7,438.24 € Date of delivery service provision: July through August 2019 This invoice has no turnover tax due to Kleinunternehmerregelung according to $ 19 UStG_ Bank account Timo Denk IBAN DEO2 1421 1422 7293 1738 99 BIC DJENKSUXXX Transfer details Denk Development Invoice 4736 Timo Denk Email-address development @timodenkcom Website_ development timodenkcom\n",
    "\"\"\""
   ],
   "id": "d61e76842de5d49e",
   "outputs": [],
   "execution_count": 19
  },
  {
   "metadata": {
    "ExecuteTime": {
     "end_time": "2024-10-28T15:10:26.483577Z",
     "start_time": "2024-10-28T15:10:20.801117Z"
    }
   },
   "cell_type": "code",
   "source": "resultss = await extractor.extract(text)",
   "id": "f31da0458c2f36c6",
   "outputs": [],
   "execution_count": 20
  },
  {
   "metadata": {
    "ExecuteTime": {
     "end_time": "2024-10-28T15:10:27.187869Z",
     "start_time": "2024-10-28T15:10:27.182417Z"
    }
   },
   "cell_type": "code",
   "source": "resultss.data",
   "id": "3f331a00b52aac2b",
   "outputs": [
    {
     "data": {
      "text/plain": [
       "{'items': [{'amount': 2.25,\n",
       "   'description': 'Development of in project Character Grid',\n",
       "   'price_per_unit': 135.0,\n",
       "   'total_price': 303.75,\n",
       "   'invoice_id': 4736,\n",
       "   'tax_number': 3506100029},\n",
       "  {'amount': 40.3,\n",
       "   'description': 'Research on 2D embedding',\n",
       "   'price_per_unit': 145.0,\n",
       "   'total_price': 5843.5,\n",
       "   'invoice_id': 4736,\n",
       "   'tax_number': 3506100029},\n",
       "  {'amount': 8.85,\n",
       "   'description': 'Research on ID embedding',\n",
       "   'price_per_unit': 145.0,\n",
       "   'total_price': 1287.25,\n",
       "   'invoice_id': 4736,\n",
       "   'tax_number': 3506100029},\n",
       "  {'amount': None,\n",
       "   'description': 'Shipping',\n",
       "   'price_per_unit': 9.99,\n",
       "   'total_price': 9.99,\n",
       "   'invoice_id': 4736,\n",
       "   'tax_number': 3506100029}]}"
      ]
     },
     "execution_count": 21,
     "metadata": {},
     "output_type": "execute_result"
    }
   ],
   "execution_count": 21
  },
  {
   "metadata": {
    "ExecuteTime": {
     "end_time": "2024-10-28T15:10:28.662337Z",
     "start_time": "2024-10-28T15:10:28.651127Z"
    }
   },
   "cell_type": "code",
   "source": "extractor.to_dataframe(resultss)",
   "id": "816e28b1542d20d5",
   "outputs": [
    {
     "data": {
      "text/plain": [
       "   amount                               description  price_per_unit  \\\n",
       "0    2.25  Development of in project Character Grid          135.00   \n",
       "1   40.30                  Research on 2D embedding          145.00   \n",
       "2    8.85                  Research on ID embedding          145.00   \n",
       "3     NaN                                  Shipping            9.99   \n",
       "\n",
       "   total_price  invoice_id  tax_number  \n",
       "0       303.75        4736  3506100029  \n",
       "1      5843.50        4736  3506100029  \n",
       "2      1287.25        4736  3506100029  \n",
       "3         9.99        4736  3506100029  "
      ],
      "text/html": [
       "<div>\n",
       "<style scoped>\n",
       "    .dataframe tbody tr th:only-of-type {\n",
       "        vertical-align: middle;\n",
       "    }\n",
       "\n",
       "    .dataframe tbody tr th {\n",
       "        vertical-align: top;\n",
       "    }\n",
       "\n",
       "    .dataframe thead th {\n",
       "        text-align: right;\n",
       "    }\n",
       "</style>\n",
       "<table border=\"1\" class=\"dataframe\">\n",
       "  <thead>\n",
       "    <tr style=\"text-align: right;\">\n",
       "      <th></th>\n",
       "      <th>amount</th>\n",
       "      <th>description</th>\n",
       "      <th>price_per_unit</th>\n",
       "      <th>total_price</th>\n",
       "      <th>invoice_id</th>\n",
       "      <th>tax_number</th>\n",
       "    </tr>\n",
       "  </thead>\n",
       "  <tbody>\n",
       "    <tr>\n",
       "      <th>0</th>\n",
       "      <td>2.25</td>\n",
       "      <td>Development of in project Character Grid</td>\n",
       "      <td>135.00</td>\n",
       "      <td>303.75</td>\n",
       "      <td>4736</td>\n",
       "      <td>3506100029</td>\n",
       "    </tr>\n",
       "    <tr>\n",
       "      <th>1</th>\n",
       "      <td>40.30</td>\n",
       "      <td>Research on 2D embedding</td>\n",
       "      <td>145.00</td>\n",
       "      <td>5843.50</td>\n",
       "      <td>4736</td>\n",
       "      <td>3506100029</td>\n",
       "    </tr>\n",
       "    <tr>\n",
       "      <th>2</th>\n",
       "      <td>8.85</td>\n",
       "      <td>Research on ID embedding</td>\n",
       "      <td>145.00</td>\n",
       "      <td>1287.25</td>\n",
       "      <td>4736</td>\n",
       "      <td>3506100029</td>\n",
       "    </tr>\n",
       "    <tr>\n",
       "      <th>3</th>\n",
       "      <td>NaN</td>\n",
       "      <td>Shipping</td>\n",
       "      <td>9.99</td>\n",
       "      <td>9.99</td>\n",
       "      <td>4736</td>\n",
       "      <td>3506100029</td>\n",
       "    </tr>\n",
       "  </tbody>\n",
       "</table>\n",
       "</div>"
      ]
     },
     "execution_count": 22,
     "metadata": {},
     "output_type": "execute_result"
    }
   ],
   "execution_count": 22
  },
  {
   "metadata": {
    "ExecuteTime": {
     "end_time": "2024-10-28T15:17:48.413762Z",
     "start_time": "2024-10-28T15:17:45.309618Z"
    }
   },
   "cell_type": "code",
   "source": [
    "passport_processor = DocumentProcessor([\"passport1.jpg\", \"passport2.jpg\"])\n",
    "\n",
    "# Process the document\n",
    "doc_passport = passport_processor.process()\n",
    "doc_passport"
   ],
   "id": "7412604b44bc14fc",
   "outputs": [
    {
     "data": {
      "text/plain": [
       "{'passport2.jpg': [Document(page_content='eed STATES OF 160 * PASSPORT CARD x jas ality. See “© Surname ee seed Names HAPPY Passport Card nos <€03005988 EXEMPLAR *** = Sex Date of Birth: M1 JAN 1981 Place of Birth NEWYORK, U.S.A. a Expires On. “at SNOV 2009.29 NOV2 BTATES DEPARTMENT OF STARE? he D', metadata={'filename': 'passport2.jpg', 'filetype': 'image/jpeg', 'page_number': 1, 'source': 'passport2.jpg'})],\n",
       " 'passport1.jpg': [Document(page_content='PASPO PASSEPORT athe! Type jos hee Orca de FEtwt ne 1 # cenettour REG,,.. CHERUBIN Nea) Priam NIRKA Maun bs reve habongate HAITIENNE Dat bs 41) Date Oe mpistonce 6 MAI 1962 fi casper gasen,/ Seer FEMININ Cat pseps > ttt Dots emission 17 DECEMBRE, 1992 fH paepo » tn Dots Sespirotica 16 DECEMBRE 1997 HTI SPECIMEN AYITI? HAITI PASPD elerean FASSERIRT No 920000018 Kole fit Lee ee reccernes PORT-AU-PRINCE : hi SIYATI MET PASP0 & MSISNATURE DU TITULAIRE 920000018', metadata={'filename': 'passport1.jpg', 'filetype': 'image/jpeg', 'page_number': 1, 'source': 'passport1.jpg'})]}"
      ]
     },
     "execution_count": 24,
     "metadata": {},
     "output_type": "execute_result"
    }
   ],
   "execution_count": 24
  },
  {
   "metadata": {
    "ExecuteTime": {
     "end_time": "2024-10-28T16:25:39.620548Z",
     "start_time": "2024-10-28T16:25:39.616290Z"
    }
   },
   "cell_type": "code",
   "source": [
    "schema = ExtractorSchema(\n",
    "    fields=[\n",
    "        Field(\n",
    "            name=\"passport_number\",\n",
    "            description=\"The unique identification number of the passport\",\n",
    "            field_type=FieldType.STRING,\n",
    "        ),\n",
    "        Field(\n",
    "            name=\"full_name\",\n",
    "            description=\"Full name of the passport holder as shown in the passport\",\n",
    "            field_type=FieldType.STRING,\n",
    "        ),\n",
    "        Field(\n",
    "            name=\"date_of_birth\",\n",
    "            description=\"Date of birth of the passport holder (e.g., 1980-01-01)\",\n",
    "            field_type=FieldType.DATE,\n",
    "        ),\n",
    "        Field(\n",
    "            name=\"place_of_birth\",\n",
    "            description=\"Place of birth of the passport holder as mentioned in the passport\",\n",
    "            field_type=FieldType.STRING,\n",
    "        ),\n",
    "        Field(\n",
    "            name=\"nationality\",\n",
    "            description=\"Nationality of the passport holder\",\n",
    "            field_type=FieldType.STRING,\n",
    "        ),\n",
    "        Field(\n",
    "            name=\"date_of_issue\",\n",
    "            description=\"Date when the passport was issued (e.g., 2020-05-15)\",\n",
    "            field_type=FieldType.DATE,\n",
    "        ),\n",
    "        Field(\n",
    "            name=\"date_of_expiry\",\n",
    "            description=\"Expiry date of the passport (e.g., 2030-05-15)\",\n",
    "            field_type=FieldType.DATE,\n",
    "        ),\n",
    "        Field(\n",
    "            name=\"issuing_country\",\n",
    "            description=\"Country that issued the passport\",\n",
    "            field_type=FieldType.STRING,\n",
    "        ),\n",
    "        Field(\n",
    "            name=\"sex\",\n",
    "            description=\"Sex of the passport holder (e.g., M, F, X)\",\n",
    "            field_type=FieldType.STRING,\n",
    "        ),\n",
    "        Field(\n",
    "            name=\"personal_number\",\n",
    "            description=\"Additional identification number or personal number if present\",\n",
    "            field_type=FieldType.STRING,\n",
    "        ),\n",
    "    ],\n",
    ")\n"
   ],
   "id": "1cf92e45a49b6192",
   "outputs": [],
   "execution_count": 11
  },
  {
   "metadata": {
    "ExecuteTime": {
     "end_time": "2024-10-28T16:26:16.385571Z",
     "start_time": "2024-10-28T16:26:00.370797Z"
    }
   },
   "cell_type": "code",
   "source": [
    "extractor = Extractor(llm=llm_extractor, schema=schema)\n",
    "resultss = await extractor.extract(results)\n"
   ],
   "id": "5edd27ca71c448c",
   "outputs": [],
   "execution_count": 12
  },
  {
   "metadata": {
    "ExecuteTime": {
     "end_time": "2024-10-28T16:27:00.692892Z",
     "start_time": "2024-10-28T16:27:00.672754Z"
    }
   },
   "cell_type": "code",
   "source": "extractor.to_dataframe(resultss)",
   "id": "f4b45f670d6ca948",
   "outputs": [
    {
     "data": {
      "text/plain": [
       "  passport_number             full_name date_of_birth  place_of_birth  \\\n",
       "0       1-02781-0        CHERUBIN HAPPY    1992-12-17            None   \n",
       "1       920000018  HAPPY CHERUBIN KELLI    1962-05-06  PORT-AU-PRINCE   \n",
       "\n",
       "  nationality date_of_issue date_of_expiry issuing_country   sex  \\\n",
       "0         USA          None           None   UNITED STATES     M   \n",
       "1   HAITIENNE          None           None            None  None   \n",
       "\n",
       "  personal_number  \n",
       "0       920000018  \n",
       "1            None  "
      ],
      "text/html": [
       "<div>\n",
       "<style scoped>\n",
       "    .dataframe tbody tr th:only-of-type {\n",
       "        vertical-align: middle;\n",
       "    }\n",
       "\n",
       "    .dataframe tbody tr th {\n",
       "        vertical-align: top;\n",
       "    }\n",
       "\n",
       "    .dataframe thead th {\n",
       "        text-align: right;\n",
       "    }\n",
       "</style>\n",
       "<table border=\"1\" class=\"dataframe\">\n",
       "  <thead>\n",
       "    <tr style=\"text-align: right;\">\n",
       "      <th></th>\n",
       "      <th>passport_number</th>\n",
       "      <th>full_name</th>\n",
       "      <th>date_of_birth</th>\n",
       "      <th>place_of_birth</th>\n",
       "      <th>nationality</th>\n",
       "      <th>date_of_issue</th>\n",
       "      <th>date_of_expiry</th>\n",
       "      <th>issuing_country</th>\n",
       "      <th>sex</th>\n",
       "      <th>personal_number</th>\n",
       "    </tr>\n",
       "  </thead>\n",
       "  <tbody>\n",
       "    <tr>\n",
       "      <th>0</th>\n",
       "      <td>1-02781-0</td>\n",
       "      <td>CHERUBIN HAPPY</td>\n",
       "      <td>1992-12-17</td>\n",
       "      <td>None</td>\n",
       "      <td>USA</td>\n",
       "      <td>None</td>\n",
       "      <td>None</td>\n",
       "      <td>UNITED STATES</td>\n",
       "      <td>M</td>\n",
       "      <td>920000018</td>\n",
       "    </tr>\n",
       "    <tr>\n",
       "      <th>1</th>\n",
       "      <td>920000018</td>\n",
       "      <td>HAPPY CHERUBIN KELLI</td>\n",
       "      <td>1962-05-06</td>\n",
       "      <td>PORT-AU-PRINCE</td>\n",
       "      <td>HAITIENNE</td>\n",
       "      <td>None</td>\n",
       "      <td>None</td>\n",
       "      <td>None</td>\n",
       "      <td>None</td>\n",
       "      <td>None</td>\n",
       "    </tr>\n",
       "  </tbody>\n",
       "</table>\n",
       "</div>"
      ]
     },
     "execution_count": 15,
     "metadata": {},
     "output_type": "execute_result"
    }
   ],
   "execution_count": 15
  },
  {
   "metadata": {
    "ExecuteTime": {
     "end_time": "2024-10-28T15:55:04.213895Z",
     "start_time": "2024-10-28T15:54:43.195073Z"
    }
   },
   "cell_type": "code",
   "source": "!pip install paddlepaddle paddleocr\n",
   "id": "d964ba93ad38fff0",
   "outputs": [
    {
     "name": "stdout",
     "output_type": "stream",
     "text": [
      "Collecting paddlepaddle\n",
      "  Using cached paddlepaddle-2.6.2-cp312-cp312-win_amd64.whl.metadata (8.7 kB)\n",
      "Requirement already satisfied: paddleocr in c:\\users\\ashkan\\appdata\\roaming\\python\\python312\\site-packages (2.9.1)\n",
      "Requirement already satisfied: httpx in c:\\users\\ashkan\\appdata\\local\\programs\\python\\python312\\lib\\site-packages (from paddlepaddle) (0.27.0)\n",
      "Requirement already satisfied: numpy>=1.13 in c:\\users\\ashkan\\appdata\\local\\programs\\python\\python312\\lib\\site-packages (from paddlepaddle) (1.26.4)\n",
      "Requirement already satisfied: Pillow in c:\\users\\ashkan\\appdata\\local\\programs\\python\\python312\\lib\\site-packages (from paddlepaddle) (10.1.0)\n",
      "Requirement already satisfied: decorator in c:\\users\\ashkan\\appdata\\local\\programs\\python\\python312\\lib\\site-packages (from paddlepaddle) (4.4.2)\n",
      "Collecting astor (from paddlepaddle)\n",
      "  Using cached astor-0.8.1-py2.py3-none-any.whl.metadata (4.2 kB)\n",
      "Requirement already satisfied: opt-einsum==3.3.0 in c:\\users\\ashkan\\appdata\\local\\programs\\python\\python312\\lib\\site-packages (from paddlepaddle) (3.3.0)\n",
      "Collecting protobuf<=3.20.2,>=3.1.0 (from paddlepaddle)\n",
      "  Using cached protobuf-3.20.2-py2.py3-none-any.whl.metadata (720 bytes)\n",
      "Requirement already satisfied: shapely in c:\\users\\ashkan\\appdata\\local\\programs\\python\\python312\\lib\\site-packages (from paddleocr) (2.0.4)\n",
      "Requirement already satisfied: scikit-image in c:\\users\\ashkan\\appdata\\roaming\\python\\python312\\site-packages (from paddleocr) (0.24.0)\n",
      "Requirement already satisfied: imgaug in c:\\users\\ashkan\\appdata\\roaming\\python\\python312\\site-packages (from paddleocr) (0.4.0)\n",
      "Requirement already satisfied: pyclipper in c:\\users\\ashkan\\appdata\\local\\programs\\python\\python312\\lib\\site-packages (from paddleocr) (1.3.0.post5)\n",
      "Requirement already satisfied: lmdb in c:\\users\\ashkan\\appdata\\local\\programs\\python\\python312\\lib\\site-packages (from paddleocr) (1.5.1)\n",
      "Requirement already satisfied: tqdm in c:\\users\\ashkan\\appdata\\local\\programs\\python\\python312\\lib\\site-packages (from paddleocr) (4.66.4)\n",
      "Requirement already satisfied: rapidfuzz in c:\\users\\ashkan\\appdata\\local\\programs\\python\\python312\\lib\\site-packages (from paddleocr) (3.8.1)\n",
      "Requirement already satisfied: opencv-python in c:\\users\\ashkan\\appdata\\local\\programs\\python\\python312\\lib\\site-packages (from paddleocr) (4.9.0.80)\n",
      "Requirement already satisfied: opencv-contrib-python in c:\\users\\ashkan\\appdata\\roaming\\python\\python312\\site-packages (from paddleocr) (4.10.0.84)\n",
      "Requirement already satisfied: cython in c:\\users\\ashkan\\appdata\\roaming\\python\\python312\\site-packages (from paddleocr) (3.0.11)\n",
      "Requirement already satisfied: pyyaml in c:\\users\\ashkan\\appdata\\local\\programs\\python\\python312\\lib\\site-packages (from paddleocr) (6.0.1)\n",
      "Requirement already satisfied: python-docx in c:\\users\\ashkan\\appdata\\local\\programs\\python\\python312\\lib\\site-packages (from paddleocr) (1.1.2)\n",
      "Requirement already satisfied: beautifulsoup4 in c:\\users\\ashkan\\appdata\\local\\programs\\python\\python312\\lib\\site-packages (from paddleocr) (4.12.3)\n",
      "Requirement already satisfied: fonttools>=4.24.0 in c:\\users\\ashkan\\appdata\\local\\programs\\python\\python312\\lib\\site-packages (from paddleocr) (4.44.0)\n",
      "Requirement already satisfied: fire>=0.3.0 in c:\\users\\ashkan\\appdata\\roaming\\python\\python312\\site-packages (from paddleocr) (0.7.0)\n",
      "Requirement already satisfied: requests in c:\\users\\ashkan\\appdata\\local\\programs\\python\\python312\\lib\\site-packages (from paddleocr) (2.32.3)\n",
      "Requirement already satisfied: albumentations==1.4.10 in c:\\users\\ashkan\\appdata\\roaming\\python\\python312\\site-packages (from paddleocr) (1.4.10)\n",
      "Requirement already satisfied: albucore==0.0.13 in c:\\users\\ashkan\\appdata\\roaming\\python\\python312\\site-packages (from paddleocr) (0.0.13)\n",
      "Requirement already satisfied: tomli>=2.0.1 in c:\\users\\ashkan\\appdata\\local\\programs\\python\\python312\\lib\\site-packages (from albucore==0.0.13->paddleocr) (2.0.2)\n",
      "Requirement already satisfied: typing-extensions>=4.9.0 in c:\\users\\ashkan\\appdata\\local\\programs\\python\\python312\\lib\\site-packages (from albucore==0.0.13->paddleocr) (4.12.2)\n",
      "Requirement already satisfied: opencv-python-headless>=4.9.0.80 in c:\\users\\ashkan\\appdata\\roaming\\python\\python312\\site-packages (from albucore==0.0.13->paddleocr) (4.10.0.84)\n",
      "Requirement already satisfied: scipy>=1.10.0 in c:\\users\\ashkan\\appdata\\local\\programs\\python\\python312\\lib\\site-packages (from albumentations==1.4.10->paddleocr) (1.11.4)\n",
      "Requirement already satisfied: scikit-learn>=1.3.2 in c:\\users\\ashkan\\appdata\\local\\programs\\python\\python312\\lib\\site-packages (from albumentations==1.4.10->paddleocr) (1.4.2)\n",
      "Requirement already satisfied: pydantic>=2.7.0 in c:\\users\\ashkan\\appdata\\roaming\\python\\python312\\site-packages (from albumentations==1.4.10->paddleocr) (2.9.2)\n",
      "Requirement already satisfied: termcolor in c:\\users\\ashkan\\appdata\\local\\programs\\python\\python312\\lib\\site-packages (from fire>=0.3.0->paddleocr) (2.4.0)\n",
      "Requirement already satisfied: networkx>=2.8 in c:\\users\\ashkan\\appdata\\local\\programs\\python\\python312\\lib\\site-packages (from scikit-image->paddleocr) (3.3)\n",
      "Requirement already satisfied: imageio>=2.33 in c:\\users\\ashkan\\appdata\\roaming\\python\\python312\\site-packages (from scikit-image->paddleocr) (2.36.0)\n",
      "Requirement already satisfied: tifffile>=2022.8.12 in c:\\users\\ashkan\\appdata\\local\\programs\\python\\python312\\lib\\site-packages (from scikit-image->paddleocr) (2024.9.20)\n",
      "Requirement already satisfied: packaging>=21 in c:\\users\\ashkan\\appdata\\roaming\\python\\python312\\site-packages (from scikit-image->paddleocr) (23.2)\n",
      "Requirement already satisfied: lazy-loader>=0.4 in c:\\users\\ashkan\\appdata\\roaming\\python\\python312\\site-packages (from scikit-image->paddleocr) (0.4)\n",
      "Requirement already satisfied: soupsieve>1.2 in c:\\users\\ashkan\\appdata\\local\\programs\\python\\python312\\lib\\site-packages (from beautifulsoup4->paddleocr) (2.5)\n",
      "Requirement already satisfied: anyio in c:\\users\\ashkan\\appdata\\local\\programs\\python\\python312\\lib\\site-packages (from httpx->paddlepaddle) (3.7.1)\n",
      "Requirement already satisfied: certifi in c:\\users\\ashkan\\appdata\\local\\programs\\python\\python312\\lib\\site-packages (from httpx->paddlepaddle) (2024.7.4)\n",
      "Requirement already satisfied: httpcore==1.* in c:\\users\\ashkan\\appdata\\local\\programs\\python\\python312\\lib\\site-packages (from httpx->paddlepaddle) (1.0.5)\n",
      "Requirement already satisfied: idna in c:\\users\\ashkan\\appdata\\local\\programs\\python\\python312\\lib\\site-packages (from httpx->paddlepaddle) (3.7)\n",
      "Requirement already satisfied: sniffio in c:\\users\\ashkan\\appdata\\local\\programs\\python\\python312\\lib\\site-packages (from httpx->paddlepaddle) (1.3.0)\n",
      "Requirement already satisfied: h11<0.15,>=0.13 in c:\\users\\ashkan\\appdata\\local\\programs\\python\\python312\\lib\\site-packages (from httpcore==1.*->httpx->paddlepaddle) (0.14.0)\n",
      "Requirement already satisfied: six in c:\\users\\ashkan\\appdata\\local\\programs\\python\\python312\\lib\\site-packages (from imgaug->paddleocr) (1.16.0)\n",
      "Requirement already satisfied: matplotlib in c:\\users\\ashkan\\appdata\\local\\programs\\python\\python312\\lib\\site-packages (from imgaug->paddleocr) (3.8.1)\n",
      "Requirement already satisfied: lxml>=3.1.0 in c:\\users\\ashkan\\appdata\\local\\programs\\python\\python312\\lib\\site-packages (from python-docx->paddleocr) (4.9.3)\n",
      "Requirement already satisfied: charset-normalizer<4,>=2 in c:\\users\\ashkan\\appdata\\local\\programs\\python\\python312\\lib\\site-packages (from requests->paddleocr) (3.3.1)\n",
      "Requirement already satisfied: urllib3<3,>=1.21.1 in c:\\users\\ashkan\\appdata\\local\\programs\\python\\python312\\lib\\site-packages (from requests->paddleocr) (2.2.2)\n",
      "Requirement already satisfied: colorama in c:\\users\\ashkan\\appdata\\local\\programs\\python\\python312\\lib\\site-packages (from tqdm->paddleocr) (0.4.6)\n",
      "Requirement already satisfied: annotated-types>=0.6.0 in c:\\users\\ashkan\\appdata\\local\\programs\\python\\python312\\lib\\site-packages (from pydantic>=2.7.0->albumentations==1.4.10->paddleocr) (0.6.0)\n",
      "Requirement already satisfied: pydantic-core==2.23.4 in c:\\users\\ashkan\\appdata\\local\\programs\\python\\python312\\lib\\site-packages (from pydantic>=2.7.0->albumentations==1.4.10->paddleocr) (2.23.4)\n",
      "Requirement already satisfied: joblib>=1.2.0 in c:\\users\\ashkan\\appdata\\local\\programs\\python\\python312\\lib\\site-packages (from scikit-learn>=1.3.2->albumentations==1.4.10->paddleocr) (1.3.2)\n",
      "Requirement already satisfied: threadpoolctl>=2.0.0 in c:\\users\\ashkan\\appdata\\local\\programs\\python\\python312\\lib\\site-packages (from scikit-learn>=1.3.2->albumentations==1.4.10->paddleocr) (3.2.0)\n",
      "Requirement already satisfied: contourpy>=1.0.1 in c:\\users\\ashkan\\appdata\\local\\programs\\python\\python312\\lib\\site-packages (from matplotlib->imgaug->paddleocr) (1.2.0)\n",
      "Requirement already satisfied: cycler>=0.10 in c:\\users\\ashkan\\appdata\\local\\programs\\python\\python312\\lib\\site-packages (from matplotlib->imgaug->paddleocr) (0.12.1)\n",
      "Requirement already satisfied: kiwisolver>=1.3.1 in c:\\users\\ashkan\\appdata\\local\\programs\\python\\python312\\lib\\site-packages (from matplotlib->imgaug->paddleocr) (1.4.5)\n",
      "Requirement already satisfied: pyparsing>=2.3.1 in c:\\users\\ashkan\\appdata\\local\\programs\\python\\python312\\lib\\site-packages (from matplotlib->imgaug->paddleocr) (3.1.1)\n",
      "Requirement already satisfied: python-dateutil>=2.7 in c:\\users\\ashkan\\appdata\\local\\programs\\python\\python312\\lib\\site-packages (from matplotlib->imgaug->paddleocr) (2.9.0.post0)\n",
      "Using cached paddlepaddle-2.6.2-cp312-cp312-win_amd64.whl (81.1 MB)\n",
      "Using cached protobuf-3.20.2-py2.py3-none-any.whl (162 kB)\n",
      "Using cached astor-0.8.1-py2.py3-none-any.whl (27 kB)\n",
      "Installing collected packages: protobuf, astor, paddlepaddle\n",
      "  Attempting uninstall: protobuf\n",
      "    Found existing installation: protobuf 5.27.3\n",
      "    Uninstalling protobuf-5.27.3:\n",
      "      Successfully uninstalled protobuf-5.27.3\n",
      "Successfully installed astor-0.8.1 paddlepaddle-2.6.2 protobuf-3.20.2\n"
     ]
    },
    {
     "name": "stderr",
     "output_type": "stream",
     "text": [
      "ERROR: pip's dependency resolver does not currently take into account all the packages that are installed. This behaviour is the source of the following dependency conflicts.\n",
      "grpcio-health-checking 1.65.4 requires grpcio>=1.65.4, but you have grpcio 1.63.0 which is incompatible.\n",
      "grpcio-health-checking 1.65.4 requires protobuf<6.0dev,>=5.26.1, but you have protobuf 3.20.2 which is incompatible.\n",
      "grpcio-status 1.62.2 requires protobuf>=4.21.6, but you have protobuf 3.20.2 which is incompatible.\n",
      "grpcio-tools 1.65.4 requires grpcio>=1.65.4, but you have grpcio 1.63.0 which is incompatible.\n",
      "grpcio-tools 1.65.4 requires protobuf<6.0dev,>=5.26.1, but you have protobuf 3.20.2 which is incompatible.\n",
      "tensorflow-intel 2.16.1 requires protobuf!=4.21.0,!=4.21.1,!=4.21.2,!=4.21.3,!=4.21.4,!=4.21.5,<5.0.0dev,>=3.20.3, but you have protobuf 3.20.2 which is incompatible.\n",
      "\n",
      "[notice] A new release of pip is available: 24.1.1 -> 24.3.1\n",
      "[notice] To update, run: C:\\Users\\ASHKAN\\AppData\\Local\\Programs\\Python\\Python312\\python.exe -m pip install --upgrade pip\n"
     ]
    }
   ],
   "execution_count": 6
  },
  {
   "metadata": {
    "ExecuteTime": {
     "end_time": "2024-10-28T16:24:32.263512Z",
     "start_time": "2024-10-28T16:22:45.943755Z"
    }
   },
   "cell_type": "code",
   "source": [
    "# Initialize processor with config\n",
    "config = ProcessingConfig(\n",
    "    ocr_for_images=True,\n",
    "    ocr_model='paddle'  # or 'tesseract'\n",
    ")\n",
    "\n",
    "# Create processor instance\n",
    "processor = DocumentProcessor([\"passport1.jpg\", \"passport2.jpg\"])\n",
    "\n",
    "# Process documents\n",
    "results = processor.process(config)"
   ],
   "id": "7521be22ee1cdfeb",
   "outputs": [
    {
     "name": "stdout",
     "output_type": "stream",
     "text": [
      "download https://paddleocr.bj.bcebos.com/PP-OCRv3/english/en_PP-OCRv3_det_infer.tar to C:\\Users\\ASHKAN/.paddleocr/whl\\det\\en\\en_PP-OCRv3_det_infer\\en_PP-OCRv3_det_infer.tar\n"
     ]
    },
    {
     "name": "stderr",
     "output_type": "stream",
     "text": [
      "100%|██████████| 3910/3910 [00:27<00:00, 143.46it/s]\n"
     ]
    },
    {
     "name": "stdout",
     "output_type": "stream",
     "text": [
      "download https://paddleocr.bj.bcebos.com/PP-OCRv4/english/en_PP-OCRv4_rec_infer.tar to C:\\Users\\ASHKAN/.paddleocr/whl\\rec\\en\\en_PP-OCRv4_rec_infer\\en_PP-OCRv4_rec_infer.tar\n"
     ]
    },
    {
     "name": "stderr",
     "output_type": "stream",
     "text": [
      "100%|██████████| 10000/10000 [00:44<00:00, 227.20it/s]\n"
     ]
    },
    {
     "name": "stdout",
     "output_type": "stream",
     "text": [
      "download https://paddleocr.bj.bcebos.com/dygraph_v2.0/ch/ch_ppocr_mobile_v2.0_cls_infer.tar to C:\\Users\\ASHKAN/.paddleocr/whl\\cls\\ch_ppocr_mobile_v2.0_cls_infer\\ch_ppocr_mobile_v2.0_cls_infer.tar\n"
     ]
    },
    {
     "name": "stderr",
     "output_type": "stream",
     "text": [
      "100%|██████████| 2138/2138 [00:18<00:00, 116.69it/s]\n"
     ]
    },
    {
     "name": "stdout",
     "output_type": "stream",
     "text": [
      "[2024/10/28 19:54:26] ppocr DEBUG: Namespace(help='==SUPPRESS==', use_gpu=False, use_xpu=False, use_npu=False, use_mlu=False, ir_optim=True, use_tensorrt=False, min_subgraph_size=15, precision='fp32', gpu_mem=500, gpu_id=0, image_dir=None, page_num=0, det_algorithm='DB', det_model_dir='C:\\\\Users\\\\ASHKAN/.paddleocr/whl\\\\det\\\\en\\\\en_PP-OCRv3_det_infer', det_limit_side_len=960, det_limit_type='max', det_box_type='quad', det_db_thresh=0.3, det_db_box_thresh=0.6, det_db_unclip_ratio=1.5, max_batch_size=10, use_dilation=False, det_db_score_mode='fast', det_east_score_thresh=0.8, det_east_cover_thresh=0.1, det_east_nms_thresh=0.2, det_sast_score_thresh=0.5, det_sast_nms_thresh=0.2, det_pse_thresh=0, det_pse_box_thresh=0.85, det_pse_min_area=16, det_pse_scale=1, scales=[8, 16, 32], alpha=1.0, beta=1.0, fourier_degree=5, rec_algorithm='SVTR_LCNet', rec_model_dir='C:\\\\Users\\\\ASHKAN/.paddleocr/whl\\\\rec\\\\en\\\\en_PP-OCRv4_rec_infer', rec_image_inverse=True, rec_image_shape='3, 48, 320', rec_batch_num=6, max_text_length=25, rec_char_dict_path='C:\\\\Users\\\\ASHKAN\\\\AppData\\\\Roaming\\\\Python\\\\Python312\\\\site-packages\\\\paddleocr\\\\ppocr\\\\utils\\\\en_dict.txt', use_space_char=True, vis_font_path='./doc/fonts/simfang.ttf', drop_score=0.5, e2e_algorithm='PGNet', e2e_model_dir=None, e2e_limit_side_len=768, e2e_limit_type='max', e2e_pgnet_score_thresh=0.5, e2e_char_dict_path='./ppocr/utils/ic15_dict.txt', e2e_pgnet_valid_set='totaltext', e2e_pgnet_mode='fast', use_angle_cls=False, cls_model_dir='C:\\\\Users\\\\ASHKAN/.paddleocr/whl\\\\cls\\\\ch_ppocr_mobile_v2.0_cls_infer', cls_image_shape='3, 48, 192', label_list=['0', '180'], cls_batch_num=6, cls_thresh=0.9, enable_mkldnn=False, cpu_threads=10, use_pdserving=False, warmup=False, sr_model_dir=None, sr_image_shape='3, 32, 128', sr_batch_num=1, draw_img_save_dir='./inference_results', save_crop_res=False, crop_res_save_dir='./output', use_mp=False, total_process_num=1, process_id=0, benchmark=False, save_log_path='./log_output/', show_log=True, use_onnx=False, return_word_box=False, output='./output', table_max_len=488, table_algorithm='TableAttn', table_model_dir=None, merge_no_span_structure=True, table_char_dict_path=None, formula_algorithm='LaTeXOCR', formula_model_dir=None, formula_char_dict_path=None, formula_batch_num=1, layout_model_dir=None, layout_dict_path=None, layout_score_threshold=0.5, layout_nms_threshold=0.5, kie_algorithm='LayoutXLM', ser_model_dir=None, re_model_dir=None, use_visual_backbone=True, ser_dict_path='../train_data/XFUND/class_list_xfun.txt', ocr_order_method=None, mode='structure', image_orientation=False, layout=True, table=True, formula=False, ocr=True, recovery=False, recovery_to_markdown=False, use_pdf2docx_api=False, invert=False, binarize=False, alphacolor=(255, 255, 255), lang='en', det=True, rec=True, type='ocr', savefile=False, ocr_version='PP-OCRv4', structure_version='PP-StructureV2')\n",
      "[2024/10/28 19:54:27] ppocr WARNING: Since the angle classifier is not initialized, it will not be used during the forward process\n",
      "[2024/10/28 19:54:27] ppocr WARNING: Since the angle classifier is not initialized, it will not be used during the forward process\n",
      "[2024/10/28 19:54:28] ppocr DEBUG: dt_boxes num : 37, elapsed : 1.2877616882324219\n",
      "[2024/10/28 19:54:28] ppocr DEBUG: dt_boxes num : 32, elapsed : 1.3037693500518799\n",
      "[2024/10/28 19:54:31] ppocr DEBUG: rec_res num  : 37, elapsed : 3.189974784851074\n",
      "[2024/10/28 19:54:32] ppocr DEBUG: rec_res num  : 32, elapsed : 3.0527007579803467\n"
     ]
    }
   ],
   "execution_count": 9
  },
  {
   "metadata": {
    "ExecuteTime": {
     "end_time": "2024-10-28T16:25:00.950997Z",
     "start_time": "2024-10-28T16:25:00.946847Z"
    }
   },
   "cell_type": "code",
   "source": "results",
   "id": "eda64b818d981674",
   "outputs": [
    {
     "data": {
      "text/plain": [
       "{'passport2.jpg': [Document(page_content='KelLi c Dt Dte d *** 16DECEM8RE1997 Nationality USA 920000018 Surname Maun h rNsbnyit CHERUBIN Given Names 3 HAPPY Sex Date of Birth M 17DECE8RE1992 wie 920000018 HAISA SISNATURE D TITULAIRE ssued On Expires On FASSEPORT NO FASPONm HAITIENNE 1-02781-0 AICUNITEDSTATES.DEPARTMENT OF STATE', metadata={'filename': 'passport2.jpg', 'filetype': 'image/jpeg', 'page_number': 1, 'source': 'passport2.jpg'})],\n",
       " 'passport1.jpg': [Document(page_content='Given Names HAPPY Expires On CrEt FASPONm 1-02781-0 ssued On Nationality FASSEPORT NO HAISA *** 920000018 CHERUBIN KelLi c Surname PORT-AU-PRINCE Maun h rNsbnyit HAITIENNE Dt Dte d 6MAI1962 y gn/S Date of Birth Cat pp  tDt demissin SIYATI METPASOA 17DECE8RE1992 SISNATURE D TITULAIRE C sponDos dprolicn 16DECEM8RE1997 920000018 SPECIMEN', metadata={'filename': 'passport1.jpg', 'filetype': 'image/jpeg', 'page_number': 1, 'source': 'passport1.jpg'})]}"
      ]
     },
     "execution_count": 10,
     "metadata": {},
     "output_type": "execute_result"
    }
   ],
   "execution_count": 10
  },
  {
   "metadata": {},
   "cell_type": "code",
   "outputs": [],
   "execution_count": null,
   "source": "",
   "id": "539cdc5771add371"
  }
 ],
 "metadata": {
  "kernelspec": {
   "display_name": "Python 3",
   "language": "python",
   "name": "python3"
  },
  "language_info": {
   "codemirror_mode": {
    "name": "ipython",
    "version": 2
   },
   "file_extension": ".py",
   "mimetype": "text/x-python",
   "name": "python",
   "nbconvert_exporter": "python",
   "pygments_lexer": "ipython2",
   "version": "2.7.6"
  }
 },
 "nbformat": 4,
 "nbformat_minor": 5
}
