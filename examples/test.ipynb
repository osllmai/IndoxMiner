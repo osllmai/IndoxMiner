{
 "cells": [
  {
   "cell_type": "code",
   "execution_count": 1,
   "id": "bd39f6401a31f876",
   "metadata": {
    "collapsed": true,
    "jupyter": {
     "is_executing": true
    }
   },
   "outputs": [],
   "source": [
    "import sys\n",
    "import os\n",
    "sys.path.append(os.path.abspath(r'E:\\Codes\\IndoxMiner'))\n",
    "\n"
   ]
  },
  {
   "cell_type": "code",
   "execution_count": 2,
   "id": "d273cc46",
   "metadata": {
    "ExecuteTime": {
     "start_time": "2024-11-02T07:24:04.089276Z"
    },
    "jupyter": {
     "is_executing": true
    }
   },
   "outputs": [],
   "source": [
    "\n",
    "from indoxMiner import (\n",
    "    ExtractorSchema,\n",
    "    Field,\n",
    "    FieldType,\n",
    "    ValidationRule,\n",
    "    OutputFormat,\n",
    "    Extractor,\n",
    "    DocumentProcessor,\n",
    "    ProcessingConfig, \n",
    "    AsyncIndoxApi,\n",
    "    AsyncOpenAi,\n",
    "    OpenAi,\n",
    "    IndoxApi\n",
    ")\n"
   ]
  },
  {
   "cell_type": "code",
   "execution_count": 3,
   "id": "16031fd8d3a028c6",
   "metadata": {
    "jupyter": {
     "is_executing": true
    }
   },
   "outputs": [],
   "source": [
    "# Set your OpenAI API key\n",
    "import os\n",
    "from dotenv import load_dotenv\n",
    "\n",
    "load_dotenv()\n",
    "INDOX_API_KEY = os.environ['INDOX_API_KEY']\n",
    "OPENAI_API_KEY = os.environ['OPENAI_API_KEY']"
   ]
  },
  {
   "cell_type": "code",
   "execution_count": 4,
   "id": "9112b8c9427fe4aa",
   "metadata": {
    "jupyter": {
     "is_executing": true
    }
   },
   "outputs": [],
   "source": [
    "# ollama_extractor = Ollama(model=\"llama3\")"
   ]
  },
  {
   "cell_type": "code",
   "execution_count": 5,
   "id": "60c5676252084a92",
   "metadata": {
    "jupyter": {
     "is_executing": true
    }
   },
   "outputs": [],
   "source": [
    "indox_api_extractor = IndoxApi(api_key=INDOX_API_KEY)"
   ]
  },
  {
   "cell_type": "code",
   "execution_count": 6,
   "id": "295ef0a88b340405",
   "metadata": {
    "jupyter": {
     "is_executing": true
    }
   },
   "outputs": [],
   "source": [
    "openai_async_extractor = AsyncOpenAi(api_key=OPENAI_API_KEY, model=\"gpt-4o-mini\")\n",
    "openai_extractor = OpenAi(api_key=OPENAI_API_KEY, model=\"gpt-4o-mini\")"
   ]
  },
  {
   "cell_type": "code",
   "execution_count": 7,
   "id": "2e918ded108b7f4e",
   "metadata": {
    "jupyter": {
     "is_executing": true
    }
   },
   "outputs": [],
   "source": [
    "# Example 1: Quick text extraction\n",
    "# -------------------------------\n",
    "# Define what information to extract\n",
    "schema = ExtractorSchema(\n",
    "    fields=[\n",
    "        Field(\n",
    "            name=\"product_name\",\n",
    "            description=\"Product name\",\n",
    "            field_type=FieldType.STRING,\n",
    "            rules=ValidationRule(min_length=2)\n",
    "        ),\n",
    "        Field(\n",
    "            name=\"price\",\n",
    "            description=\"Price in USD\",\n",
    "            field_type=FieldType.FLOAT,\n",
    "            rules=ValidationRule(min_value=0)\n",
    "        ),\n",
    "        Field(\n",
    "            name=\"in_stock\",\n",
    "            description=\"Availability status of the product (Yes/No)\",\n",
    "            field_type=FieldType.STRING,\n",
    "            rules=ValidationRule(allowed_values=[\"Yes\", \"No\"])  # Ensures only \"Yes\" or \"No\" is valid\n",
    "        )\n",
    "    ]\n",
    ")\n",
    "\n",
    "\n",
    "extractor_async = Extractor(llm=openai_async_extractor, schema=schema)\n",
    "extractor = Extractor(llm=indox_api_extractor, schema=schema) "
   ]
  },
  {
   "cell_type": "code",
   "execution_count": 8,
   "id": "3d30e4540a8c423c",
   "metadata": {
    "jupyter": {
     "is_executing": true
    }
   },
   "outputs": [],
   "source": [
    "# Sample text\n",
    "text = \"\"\"\n",
    "MacBook Pro 16-inch with M2 chip\n",
    "Price: $2,399.99\n",
    "In stock: Yes\n",
    "\"\"\""
   ]
  },
  {
   "cell_type": "code",
   "execution_count": 9,
   "id": "7b1242cf",
   "metadata": {},
   "outputs": [],
   "source": [
    "result = extractor.extract(text)"
   ]
  },
  {
   "cell_type": "code",
   "execution_count": 10,
   "id": "8a345674",
   "metadata": {},
   "outputs": [
    {
     "data": {
      "text/plain": [
       "ExtractionResult(data={'items': [{'product_name': 'MacBook Pro 16-inch with M2 chip', 'price': 2399.99, 'in_stock': 'Yes'}]}, raw_response='{\\n    \"product_name\": \"MacBook Pro 16-inch with M2 chip\",\\n    \"price\": 2399.99,\\n    \"in_stock\": \"Yes\"\\n}', validation_errors=[])"
      ]
     },
     "execution_count": 10,
     "metadata": {},
     "output_type": "execute_result"
    }
   ],
   "source": [
    "result"
   ]
  },
  {
   "cell_type": "code",
   "execution_count": 11,
   "id": "26607943180d7e00",
   "metadata": {
    "jupyter": {
     "is_executing": true
    }
   },
   "outputs": [
    {
     "data": {
      "text/html": [
       "<div>\n",
       "<style scoped>\n",
       "    .dataframe tbody tr th:only-of-type {\n",
       "        vertical-align: middle;\n",
       "    }\n",
       "\n",
       "    .dataframe tbody tr th {\n",
       "        vertical-align: top;\n",
       "    }\n",
       "\n",
       "    .dataframe thead th {\n",
       "        text-align: right;\n",
       "    }\n",
       "</style>\n",
       "<table border=\"1\" class=\"dataframe\">\n",
       "  <thead>\n",
       "    <tr style=\"text-align: right;\">\n",
       "      <th></th>\n",
       "      <th>product_name</th>\n",
       "      <th>price</th>\n",
       "      <th>in_stock</th>\n",
       "    </tr>\n",
       "  </thead>\n",
       "  <tbody>\n",
       "    <tr>\n",
       "      <th>0</th>\n",
       "      <td>MacBook Pro 16-inch with M2 chip</td>\n",
       "      <td>2399.99</td>\n",
       "      <td>Yes</td>\n",
       "    </tr>\n",
       "  </tbody>\n",
       "</table>\n",
       "</div>"
      ],
      "text/plain": [
       "                       product_name    price in_stock\n",
       "0  MacBook Pro 16-inch with M2 chip  2399.99      Yes"
      ]
     },
     "execution_count": 11,
     "metadata": {},
     "output_type": "execute_result"
    }
   ],
   "source": [
    "extractor.to_dataframe(result)"
   ]
  },
  {
   "cell_type": "code",
   "execution_count": 14,
   "id": "58f1fb00e4146f",
   "metadata": {
    "jupyter": {
     "is_executing": true
    }
   },
   "outputs": [],
   "source": [
    "# # Example 2: Process a PDF and extract information\n",
    "# # ----------------------------------------------\n",
    "# # Initialize document processor\n",
    "# processor = DocumentProcessor([\"data/invoice_Aaron Hawkins_36652.pdf\", \"data/invoice_Aaron Smayling_35876.pdf\"])\n",
    "\n",
    "# # Process the document\n",
    "# documents = processor.process(\n",
    "#     config=ProcessingConfig(\n",
    "#         hi_res_pdf=True\n",
    "#     )\n",
    "# )\n",
    "\n"
   ]
  },
  {
   "cell_type": "code",
   "execution_count": 15,
   "id": "ad954ba36ccb44b9",
   "metadata": {
    "jupyter": {
     "is_executing": true
    }
   },
   "outputs": [
    {
     "ename": "NameError",
     "evalue": "name 'documents' is not defined",
     "output_type": "error",
     "traceback": [
      "\u001b[1;31m---------------------------------------------------------------------------\u001b[0m",
      "\u001b[1;31mNameError\u001b[0m                                 Traceback (most recent call last)",
      "Cell \u001b[1;32mIn[15], line 1\u001b[0m\n\u001b[1;32m----> 1\u001b[0m \u001b[43mdocuments\u001b[49m\n",
      "\u001b[1;31mNameError\u001b[0m: name 'documents' is not defined"
     ]
    }
   ],
   "source": [
    "documents"
   ]
  },
  {
   "cell_type": "code",
   "execution_count": 16,
   "id": "6c770465c2fe240c",
   "metadata": {
    "jupyter": {
     "is_executing": true
    }
   },
   "outputs": [],
   "source": [
    "# Example 1: Quick text extraction\n",
    "# -------------------------------\n",
    "# Define what information to extract\n",
    "schema = ExtractorSchema(\n",
    "    fields=[\n",
    "        Field(\n",
    "            name=\"bill_to\",\n",
    "            description=\"Bill To\",\n",
    "            field_type=FieldType.STRING,\n",
    "            rules=ValidationRule(min_length=2)\n",
    "        ),\n",
    "        Field(\n",
    "            name=\"ship_to\",\n",
    "            description=\"Ship To\",\n",
    "            field_type=FieldType.STRING,\n",
    "            rules=ValidationRule(min_length=2)\n",
    "        ),\n",
    "        Field(\n",
    "            name=\"date\",\n",
    "            description=\"date\",\n",
    "            field_type=FieldType.DATE,\n",
    "        )\n",
    "        ,\n",
    "        Field(\n",
    "            name=\"ship_mode\",\n",
    "            description=\"Ship Mode\",\n",
    "            field_type=FieldType.STRING,\n",
    "        )\n",
    "        ,\n",
    "        Field(\n",
    "            name=\"item\",\n",
    "            description=\"item\",\n",
    "            field_type=FieldType.STRING,\n",
    "        )\n",
    "        ,\n",
    "        Field(\n",
    "            name=\"quantity\",\n",
    "            description=\"Quantity\",\n",
    "            field_type=FieldType.INTEGER,\n",
    "        )\n",
    "        ,\n",
    "        Field(\n",
    "            name=\"rate\",\n",
    "            description=\"price in usd\",\n",
    "            field_type=FieldType.FLOAT,\n",
    "        )\n",
    "        ,\n",
    "        Field(\n",
    "            name=\"amount\",\n",
    "            description=\"price in usd\",\n",
    "            field_type=FieldType.FLOAT,\n",
    "        )\n",
    "        ,\n",
    "\n",
    "    ],\n",
    "    output_format= OutputFormat.JSON\n",
    ")\n",
    "\n",
    "extractor = Extractor(llm=indox_api_extractor, schema=schema)"
   ]
  },
  {
   "cell_type": "code",
   "execution_count": 17,
   "id": "a3eafb57e1ced247",
   "metadata": {
    "jupyter": {
     "is_executing": true
    }
   },
   "outputs": [],
   "source": [
    "results = await extractor.extract(documents)"
   ]
  },
  {
   "cell_type": "code",
   "execution_count": 18,
   "id": "15776c0d",
   "metadata": {},
   "outputs": [
    {
     "data": {
      "text/plain": [
       "ExtractionResults(data=[{'items': [{'bill_to': 'Aaron Smayling', 'ship_to': '10035, New York City, New York, United States', 'date': '2012-07-26', 'ship_mode': 'Standard Class', 'item': 'Xerox 1956 Paper, Office Supplies, OFF-PA-6512', 'quantity': 11, 'rate': 65.78, 'amount': 723.58}]}, {'items': [{'bill_to': 'Aaron Hawkins', 'ship_to': '90004, Los Angeles, California, United States', 'date': '2012-05-12', 'ship_mode': 'Standard Class', 'item': 'EcoTones Memo Sheets Paper, Office Supplies, OFF-PA-4014', 'quantity': 2, 'rate': 8.0, 'amount': 16.0}]}], raw_responses=['{\\n    \"bill_to\": \"Aaron Smayling\",\\n    \"ship_to\": \"10035, New York City, New York, United States\",\\n    \"date\": \"2012-07-26\",\\n    \"ship_mode\": \"Standard Class\",\\n    \"item\": \"Xerox 1956 Paper, Office Supplies, OFF-PA-6512\",\\n    \"quantity\": 11,\\n    \"rate\": 65.78,\\n    \"amount\": 723.58\\n}', '{\\n    \"bill_to\": \"Aaron Hawkins\",\\n    \"ship_to\": \"90004, Los Angeles, California, United States\",\\n    \"date\": \"2012-05-12\",\\n    \"ship_mode\": \"Standard Class\",\\n    \"item\": \"EcoTones Memo Sheets Paper, Office Supplies, OFF-PA-4014\",\\n    \"quantity\": 2,\\n    \"rate\": 8.00,\\n    \"amount\": 16.00\\n}'], validation_errors={})"
      ]
     },
     "execution_count": 18,
     "metadata": {},
     "output_type": "execute_result"
    }
   ],
   "source": [
    "results"
   ]
  },
  {
   "cell_type": "code",
   "execution_count": 19,
   "id": "5040ab1dd2a777da",
   "metadata": {
    "ExecuteTime": {
     "end_time": "2024-10-30T09:58:32.201164Z",
     "start_time": "2024-10-30T09:58:32.195946Z"
    }
   },
   "outputs": [
    {
     "data": {
      "text/plain": [
       "[{'items': [{'bill_to': 'Aaron Smayling',\n",
       "    'ship_to': '10035, New York City, New York, United States',\n",
       "    'date': '2012-07-26',\n",
       "    'ship_mode': 'Standard Class',\n",
       "    'item': 'Xerox 1956 Paper, Office Supplies, OFF-PA-6512',\n",
       "    'quantity': 11,\n",
       "    'rate': 65.78,\n",
       "    'amount': 723.58}]},\n",
       " {'items': [{'bill_to': 'Aaron Hawkins',\n",
       "    'ship_to': '90004, Los Angeles, California, United States',\n",
       "    'date': '2012-05-12',\n",
       "    'ship_mode': 'Standard Class',\n",
       "    'item': 'EcoTones Memo Sheets Paper, Office Supplies, OFF-PA-4014',\n",
       "    'quantity': 2,\n",
       "    'rate': 8.0,\n",
       "    'amount': 16.0}]}]"
      ]
     },
     "execution_count": 19,
     "metadata": {},
     "output_type": "execute_result"
    }
   ],
   "source": [
    "results.data"
   ]
  },
  {
   "cell_type": "code",
   "execution_count": 20,
   "id": "a3063cf0",
   "metadata": {},
   "outputs": [
    {
     "data": {
      "text/html": [
       "<div>\n",
       "<style scoped>\n",
       "    .dataframe tbody tr th:only-of-type {\n",
       "        vertical-align: middle;\n",
       "    }\n",
       "\n",
       "    .dataframe tbody tr th {\n",
       "        vertical-align: top;\n",
       "    }\n",
       "\n",
       "    .dataframe thead th {\n",
       "        text-align: right;\n",
       "    }\n",
       "</style>\n",
       "<table border=\"1\" class=\"dataframe\">\n",
       "  <thead>\n",
       "    <tr style=\"text-align: right;\">\n",
       "      <th></th>\n",
       "      <th>bill_to</th>\n",
       "      <th>ship_to</th>\n",
       "      <th>date</th>\n",
       "      <th>ship_mode</th>\n",
       "      <th>item</th>\n",
       "      <th>quantity</th>\n",
       "      <th>rate</th>\n",
       "      <th>amount</th>\n",
       "    </tr>\n",
       "  </thead>\n",
       "  <tbody>\n",
       "    <tr>\n",
       "      <th>0</th>\n",
       "      <td>Aaron Smayling</td>\n",
       "      <td>10035, New York City, New York, United States</td>\n",
       "      <td>2012-07-26</td>\n",
       "      <td>Standard Class</td>\n",
       "      <td>Xerox 1956 Paper, Office Supplies, OFF-PA-6512</td>\n",
       "      <td>11</td>\n",
       "      <td>65.78</td>\n",
       "      <td>723.58</td>\n",
       "    </tr>\n",
       "    <tr>\n",
       "      <th>1</th>\n",
       "      <td>Aaron Hawkins</td>\n",
       "      <td>90004, Los Angeles, California, United States</td>\n",
       "      <td>2012-05-12</td>\n",
       "      <td>Standard Class</td>\n",
       "      <td>EcoTones Memo Sheets Paper, Office Supplies, O...</td>\n",
       "      <td>2</td>\n",
       "      <td>8.00</td>\n",
       "      <td>16.00</td>\n",
       "    </tr>\n",
       "  </tbody>\n",
       "</table>\n",
       "</div>"
      ],
      "text/plain": [
       "          bill_to                                        ship_to        date  \\\n",
       "0  Aaron Smayling  10035, New York City, New York, United States  2012-07-26   \n",
       "1   Aaron Hawkins  90004, Los Angeles, California, United States  2012-05-12   \n",
       "\n",
       "        ship_mode                                               item  \\\n",
       "0  Standard Class     Xerox 1956 Paper, Office Supplies, OFF-PA-6512   \n",
       "1  Standard Class  EcoTones Memo Sheets Paper, Office Supplies, O...   \n",
       "\n",
       "   quantity   rate  amount  \n",
       "0        11  65.78  723.58  \n",
       "1         2   8.00   16.00  "
      ]
     },
     "execution_count": 20,
     "metadata": {},
     "output_type": "execute_result"
    }
   ],
   "source": [
    "df = extractor.to_dataframe(results)\n",
    "df"
   ]
  },
  {
   "cell_type": "code",
   "execution_count": 21,
   "id": "e5ded098",
   "metadata": {},
   "outputs": [
    {
     "data": {
      "text/plain": [
       "{}"
      ]
     },
     "execution_count": 21,
     "metadata": {},
     "output_type": "execute_result"
    }
   ],
   "source": [
    "results.validation_errors"
   ]
  },
  {
   "cell_type": "code",
   "execution_count": 22,
   "id": "e6f02f1d81890324",
   "metadata": {
    "ExecuteTime": {
     "end_time": "2024-10-30T09:58:53.257008Z",
     "start_time": "2024-10-30T09:58:53.252486Z"
    }
   },
   "outputs": [],
   "source": [
    "# Get all valid results\n",
    "valid_data = results.get_valid_results()\n",
    "\n",
    "# Check if any chunks had validation errors\n",
    "if not results.is_valid:\n",
    "    for chunk_idx, errors in results.validation_errors.items():\n",
    "        print(f\"Chunk {chunk_idx} has errors: {errors}\")"
   ]
  },
  {
   "cell_type": "code",
   "execution_count": 16,
   "id": "1a80ff8470c599e",
   "metadata": {
    "ExecuteTime": {
     "end_time": "2024-10-28T15:10:19.211317Z",
     "start_time": "2024-10-28T15:10:19.205720Z"
    }
   },
   "outputs": [],
   "source": [
    "from indoxMiner import Schema\n",
    "schema = ExtractorSchema(\n",
    "    fields=[\n",
    "        Field(\n",
    "            name=\"amount\",\n",
    "            description=\"The quantity or hours of service/product (e.g., 2.25, 40.3)\",\n",
    "            field_type=FieldType.FLOAT,\n",
    "        ),\n",
    "        Field(\n",
    "            name=\"description\",\n",
    "            description=\"Description of the service or product provided\",\n",
    "            field_type=FieldType.STRING,\n",
    "        ),\n",
    "        Field(\n",
    "            name=\"price_per_unit\",\n",
    "            description=\"Price per unit in euro (e.g., 135.00)\",\n",
    "            field_type=FieldType.FLOAT,\n",
    "        ),\n",
    "        Field(\n",
    "            name=\"total_price\",\n",
    "            description=\"Total price for this line item in euro (amount * price_per_unit)\",\n",
    "            field_type=FieldType.FLOAT,\n",
    "        ),\n",
    "        Field(\n",
    "            name=\"invoice_id\",\n",
    "            description=\"ID of the invoice\",\n",
    "            field_type=FieldType.INTEGER,\n",
    "        ),\n",
    "    ],\n",
    ")\n",
    "\n",
    "\n",
    "# Create the extractor\n",
    "extractor = Extractor(llm=openai_async_extractor, schema=schema)\n",
    "extractor_sync = Extractor(llm=openai_extractor,schema=schema)\n"
   ]
  },
  {
   "cell_type": "code",
   "execution_count": 17,
   "id": "d61e76842de5d49e",
   "metadata": {
    "ExecuteTime": {
     "end_time": "2024-10-28T15:10:19.896531Z",
     "start_time": "2024-10-28T15:10:19.893448Z"
    }
   },
   "outputs": [],
   "source": [
    "text = \"\"\"\n",
    "Denk Timo Denk Some Street 82 10000 Berlin, Germany Development Recipient Name Invoice ID; 4736 Another Avenue 18 Issue date: August 9, 2019 12345 Berlin Tax number: 35061/00029 Germany Invoice Item Amount Description Price per unit Total price 2.25 h Development of in project Character Grid 135.00 € 301.50 € 40.3h Research on 2D embedding 145.00 € 5,843.50 € 8.85 h Research on ID embedding 145.00 € 283.25 € Shipping 9.99 € 9.99 € Sum 7,438.24 € Total price 7,438.24 € Date of delivery service provision: July through August 2019 This invoice has no turnover tax due to Kleinunternehmerregelung according to $ 19 UStG_ Bank account Timo Denk IBAN DEO2 1421 1422 7293 1738 99 BIC DJENKSUXXX Transfer details Denk Development Invoice 4736 Timo Denk Email-address development @timodenkcom Website_ development timodenkcom\n",
    "\"\"\""
   ]
  },
  {
   "cell_type": "code",
   "execution_count": 18,
   "id": "f31da0458c2f36c6",
   "metadata": {
    "ExecuteTime": {
     "end_time": "2024-10-28T15:10:26.483577Z",
     "start_time": "2024-10-28T15:10:20.801117Z"
    }
   },
   "outputs": [],
   "source": [
    "result_sync = extractor_sync.extract(text)\n",
    "resultss = await extractor.extract(text)"
   ]
  },
  {
   "cell_type": "code",
   "execution_count": 19,
   "id": "6c5252a9",
   "metadata": {},
   "outputs": [
    {
     "data": {
      "text/plain": [
       "{'items': [{'amount': 2.25,\n",
       "   'description': 'Development of in project Character Grid',\n",
       "   'price_per_unit': 135.0,\n",
       "   'total_price': 301.5,\n",
       "   'invoice_id': 4736},\n",
       "  {'amount': 40.3,\n",
       "   'description': 'Research on 2D embedding',\n",
       "   'price_per_unit': 145.0,\n",
       "   'total_price': 5834.5,\n",
       "   'invoice_id': 4736},\n",
       "  {'amount': 8.85,\n",
       "   'description': 'Research on ID embedding',\n",
       "   'price_per_unit': 145.0,\n",
       "   'total_price': 283.25,\n",
       "   'invoice_id': 4736},\n",
       "  {'amount': None,\n",
       "   'description': 'Shipping',\n",
       "   'price_per_unit': 9.99,\n",
       "   'total_price': 9.99,\n",
       "   'invoice_id': 4736}]}"
      ]
     },
     "execution_count": 19,
     "metadata": {},
     "output_type": "execute_result"
    }
   ],
   "source": [
    "result_sync.data"
   ]
  },
  {
   "cell_type": "code",
   "execution_count": 20,
   "id": "3f331a00b52aac2b",
   "metadata": {
    "ExecuteTime": {
     "end_time": "2024-10-28T15:10:27.187869Z",
     "start_time": "2024-10-28T15:10:27.182417Z"
    }
   },
   "outputs": [
    {
     "data": {
      "text/plain": [
       "{'items': [{'amount': 2.25,\n",
       "   'description': 'Development of in project Character Grid',\n",
       "   'price_per_unit': 135.0,\n",
       "   'total_price': 301.5,\n",
       "   'invoice_id': 4736},\n",
       "  {'amount': 40.3,\n",
       "   'description': 'Research on 2D embedding',\n",
       "   'price_per_unit': 145.0,\n",
       "   'total_price': 5843.5,\n",
       "   'invoice_id': 4736},\n",
       "  {'amount': 8.85,\n",
       "   'description': 'Research on ID embedding',\n",
       "   'price_per_unit': 145.0,\n",
       "   'total_price': 283.25,\n",
       "   'invoice_id': 4736},\n",
       "  {'amount': None,\n",
       "   'description': 'Shipping',\n",
       "   'price_per_unit': 9.99,\n",
       "   'total_price': 9.99,\n",
       "   'invoice_id': 4736}]}"
      ]
     },
     "execution_count": 20,
     "metadata": {},
     "output_type": "execute_result"
    }
   ],
   "source": [
    "resultss.data"
   ]
  },
  {
   "cell_type": "code",
   "execution_count": 21,
   "id": "816e28b1542d20d5",
   "metadata": {
    "ExecuteTime": {
     "end_time": "2024-10-28T15:10:28.662337Z",
     "start_time": "2024-10-28T15:10:28.651127Z"
    }
   },
   "outputs": [
    {
     "data": {
      "text/html": [
       "<div>\n",
       "<style scoped>\n",
       "    .dataframe tbody tr th:only-of-type {\n",
       "        vertical-align: middle;\n",
       "    }\n",
       "\n",
       "    .dataframe tbody tr th {\n",
       "        vertical-align: top;\n",
       "    }\n",
       "\n",
       "    .dataframe thead th {\n",
       "        text-align: right;\n",
       "    }\n",
       "</style>\n",
       "<table border=\"1\" class=\"dataframe\">\n",
       "  <thead>\n",
       "    <tr style=\"text-align: right;\">\n",
       "      <th></th>\n",
       "      <th>amount</th>\n",
       "      <th>description</th>\n",
       "      <th>price_per_unit</th>\n",
       "      <th>total_price</th>\n",
       "      <th>invoice_id</th>\n",
       "    </tr>\n",
       "  </thead>\n",
       "  <tbody>\n",
       "    <tr>\n",
       "      <th>0</th>\n",
       "      <td>2.25</td>\n",
       "      <td>Development of in project Character Grid</td>\n",
       "      <td>135.00</td>\n",
       "      <td>301.50</td>\n",
       "      <td>4736</td>\n",
       "    </tr>\n",
       "    <tr>\n",
       "      <th>1</th>\n",
       "      <td>40.30</td>\n",
       "      <td>Research on 2D embedding</td>\n",
       "      <td>145.00</td>\n",
       "      <td>5843.50</td>\n",
       "      <td>4736</td>\n",
       "    </tr>\n",
       "    <tr>\n",
       "      <th>2</th>\n",
       "      <td>8.85</td>\n",
       "      <td>Research on ID embedding</td>\n",
       "      <td>145.00</td>\n",
       "      <td>283.25</td>\n",
       "      <td>4736</td>\n",
       "    </tr>\n",
       "    <tr>\n",
       "      <th>3</th>\n",
       "      <td>NaN</td>\n",
       "      <td>Shipping</td>\n",
       "      <td>9.99</td>\n",
       "      <td>9.99</td>\n",
       "      <td>4736</td>\n",
       "    </tr>\n",
       "  </tbody>\n",
       "</table>\n",
       "</div>"
      ],
      "text/plain": [
       "   amount                               description  price_per_unit  \\\n",
       "0    2.25  Development of in project Character Grid          135.00   \n",
       "1   40.30                  Research on 2D embedding          145.00   \n",
       "2    8.85                  Research on ID embedding          145.00   \n",
       "3     NaN                                  Shipping            9.99   \n",
       "\n",
       "   total_price  invoice_id  \n",
       "0       301.50        4736  \n",
       "1      5843.50        4736  \n",
       "2       283.25        4736  \n",
       "3         9.99        4736  "
      ]
     },
     "execution_count": 21,
     "metadata": {},
     "output_type": "execute_result"
    }
   ],
   "source": [
    "extractor.to_dataframe(resultss)"
   ]
  },
  {
   "cell_type": "code",
   "execution_count": 10,
   "id": "7412604b44bc14fc",
   "metadata": {
    "ExecuteTime": {
     "end_time": "2024-10-28T15:17:48.413762Z",
     "start_time": "2024-10-28T15:17:45.309618Z"
    }
   },
   "outputs": [
    {
     "name": "stdout",
     "output_type": "stream",
     "text": [
      "Error processing data/passport2.jpg: cannot import name 'TextRegions' from 'unstructured_inference.inference.elements' (c:\\Users\\ASHKAN\\AppData\\Local\\Programs\\Python\\Python312\\Lib\\site-packages\\unstructured_inference\\inference\\elements.py)\n",
      "Error processing data/passport1.jpg: cannot import name 'TextRegions' from 'unstructured_inference.inference.elements' (c:\\Users\\ASHKAN\\AppData\\Local\\Programs\\Python\\Python312\\Lib\\site-packages\\unstructured_inference\\inference\\elements.py)\n"
     ]
    },
    {
     "data": {
      "text/plain": [
       "{'passport2.jpg': [], 'passport1.jpg': []}"
      ]
     },
     "execution_count": 10,
     "metadata": {},
     "output_type": "execute_result"
    }
   ],
   "source": [
    "passport_processor = DocumentProcessor([\"data/passport1.jpg\", \"data/passport2.jpg\"])\n",
    "\n",
    "# Process the document\n",
    "doc_passport = passport_processor.process()\n",
    "doc_passport"
   ]
  },
  {
   "cell_type": "code",
   "execution_count": 22,
   "id": "1cf92e45a49b6192",
   "metadata": {
    "ExecuteTime": {
     "end_time": "2024-10-28T16:25:39.620548Z",
     "start_time": "2024-10-28T16:25:39.616290Z"
    }
   },
   "outputs": [],
   "source": [
    "schema = ExtractorSchema(\n",
    "    fields=[\n",
    "        Field(\n",
    "            name=\"passport_number\",\n",
    "            description=\"The unique identification number of the passport\",\n",
    "            field_type=FieldType.STRING,\n",
    "        ),\n",
    "        Field(\n",
    "            name=\"full_name\",\n",
    "            description=\"Full name of the passport holder as shown in the passport\",\n",
    "            field_type=FieldType.STRING,\n",
    "        ),\n",
    "        Field(\n",
    "            name=\"date_of_birth\",\n",
    "            description=\"Date of birth of the passport holder (e.g., 1980-01-01)\",\n",
    "            field_type=FieldType.DATE,\n",
    "        ),\n",
    "        Field(\n",
    "            name=\"place_of_birth\",\n",
    "            description=\"Place of birth of the passport holder as mentioned in the passport\",\n",
    "            field_type=FieldType.STRING,\n",
    "        ),\n",
    "        Field(\n",
    "            name=\"nationality\",\n",
    "            description=\"Nationality of the passport holder\",\n",
    "            field_type=FieldType.STRING,\n",
    "        ),\n",
    "        Field(\n",
    "            name=\"date_of_issue\",\n",
    "            description=\"Date when the passport was issued (e.g., 2020-05-15)\",\n",
    "            field_type=FieldType.DATE,\n",
    "        ),\n",
    "        Field(\n",
    "            name=\"date_of_expiry\",\n",
    "            description=\"Expiry date of the passport (e.g., 2030-05-15)\",\n",
    "            field_type=FieldType.DATE,\n",
    "        ),\n",
    "        Field(\n",
    "            name=\"issuing_country\",\n",
    "            description=\"Country that issued the passport\",\n",
    "            field_type=FieldType.STRING,\n",
    "        ),\n",
    "        Field(\n",
    "            name=\"sex\",\n",
    "            description=\"Sex of the passport holder (e.g., M, F, X)\",\n",
    "            field_type=FieldType.STRING,\n",
    "        ),\n",
    "        Field(\n",
    "            name=\"personal_number\",\n",
    "            description=\"Additional identification number or personal number if present\",\n",
    "            field_type=FieldType.STRING,\n",
    "        ),\n",
    "    ],\n",
    ")\n"
   ]
  },
  {
   "cell_type": "code",
   "execution_count": 23,
   "id": "5edd27ca71c448c",
   "metadata": {
    "ExecuteTime": {
     "end_time": "2024-10-28T16:26:16.385571Z",
     "start_time": "2024-10-28T16:26:00.370797Z"
    }
   },
   "outputs": [],
   "source": [
    "extractor = Extractor(llm=openai_extractor, schema=schema)\n",
    "result = extractor.extract(doc_passport)\n"
   ]
  },
  {
   "cell_type": "code",
   "execution_count": 24,
   "id": "f4b45f670d6ca948",
   "metadata": {
    "ExecuteTime": {
     "end_time": "2024-10-28T16:27:00.692892Z",
     "start_time": "2024-10-28T16:27:00.672754Z"
    }
   },
   "outputs": [
    {
     "data": {
      "text/html": [
       "<div>\n",
       "<style scoped>\n",
       "    .dataframe tbody tr th:only-of-type {\n",
       "        vertical-align: middle;\n",
       "    }\n",
       "\n",
       "    .dataframe tbody tr th {\n",
       "        vertical-align: top;\n",
       "    }\n",
       "\n",
       "    .dataframe thead th {\n",
       "        text-align: right;\n",
       "    }\n",
       "</style>\n",
       "<table border=\"1\" class=\"dataframe\">\n",
       "  <thead>\n",
       "    <tr style=\"text-align: right;\">\n",
       "      <th></th>\n",
       "      <th>passport_number</th>\n",
       "      <th>full_name</th>\n",
       "      <th>date_of_birth</th>\n",
       "      <th>place_of_birth</th>\n",
       "      <th>nationality</th>\n",
       "      <th>date_of_issue</th>\n",
       "      <th>date_of_expiry</th>\n",
       "      <th>issuing_country</th>\n",
       "      <th>sex</th>\n",
       "      <th>personal_number</th>\n",
       "    </tr>\n",
       "  </thead>\n",
       "  <tbody>\n",
       "    <tr>\n",
       "      <th>0</th>\n",
       "      <td>03005988</td>\n",
       "      <td>HAPPY</td>\n",
       "      <td>1981-01-01</td>\n",
       "      <td>NEWYORK, U.S.A.</td>\n",
       "      <td>None</td>\n",
       "      <td>None</td>\n",
       "      <td>2009-11-29</td>\n",
       "      <td>STATES DEPARTMENT OF STARE</td>\n",
       "      <td>M</td>\n",
       "      <td>None</td>\n",
       "    </tr>\n",
       "    <tr>\n",
       "      <th>1</th>\n",
       "      <td>920000018</td>\n",
       "      <td>CHERUBIN Nea Priam NIRKA</td>\n",
       "      <td>1962-05-06</td>\n",
       "      <td>None</td>\n",
       "      <td>HAITIENNE</td>\n",
       "      <td>1992-12-17</td>\n",
       "      <td>1997-12-16</td>\n",
       "      <td>HAITI</td>\n",
       "      <td>F</td>\n",
       "      <td>None</td>\n",
       "    </tr>\n",
       "  </tbody>\n",
       "</table>\n",
       "</div>"
      ],
      "text/plain": [
       "  passport_number                 full_name date_of_birth   place_of_birth  \\\n",
       "0        03005988                     HAPPY    1981-01-01  NEWYORK, U.S.A.   \n",
       "1       920000018  CHERUBIN Nea Priam NIRKA    1962-05-06             None   \n",
       "\n",
       "  nationality date_of_issue date_of_expiry             issuing_country sex  \\\n",
       "0        None          None     2009-11-29  STATES DEPARTMENT OF STARE   M   \n",
       "1   HAITIENNE    1992-12-17     1997-12-16                       HAITI   F   \n",
       "\n",
       "  personal_number  \n",
       "0            None  \n",
       "1            None  "
      ]
     },
     "execution_count": 24,
     "metadata": {},
     "output_type": "execute_result"
    }
   ],
   "source": [
    "extractor.to_dataframe(result)"
   ]
  },
  {
   "cell_type": "code",
   "execution_count": 23,
   "id": "7521be22ee1cdfeb",
   "metadata": {
    "ExecuteTime": {
     "end_time": "2024-10-28T16:24:32.263512Z",
     "start_time": "2024-10-28T16:22:45.943755Z"
    }
   },
   "outputs": [
    {
     "name": "stdout",
     "output_type": "stream",
     "text": [
      "[2024/11/02 17:56:11] ppocr DEBUG: Namespace(help='==SUPPRESS==', use_gpu=False, use_xpu=False, use_npu=False, use_mlu=False, ir_optim=True, use_tensorrt=False, min_subgraph_size=15, precision='fp32', gpu_mem=500, gpu_id=0, image_dir=None, page_num=0, det_algorithm='DB', det_model_dir='C:\\\\Users\\\\ASHKAN/.paddleocr/whl\\\\det\\\\en\\\\en_PP-OCRv3_det_infer', det_limit_side_len=960, det_limit_type='max', det_box_type='quad', det_db_thresh=0.3, det_db_box_thresh=0.6, det_db_unclip_ratio=1.5, max_batch_size=10, use_dilation=False, det_db_score_mode='fast', det_east_score_thresh=0.8, det_east_cover_thresh=0.1, det_east_nms_thresh=0.2, det_sast_score_thresh=0.5, det_sast_nms_thresh=0.2, det_pse_thresh=0, det_pse_box_thresh=0.85, det_pse_min_area=16, det_pse_scale=1, scales=[8, 16, 32], alpha=1.0, beta=1.0, fourier_degree=5, rec_algorithm='SVTR_LCNet', rec_model_dir='C:\\\\Users\\\\ASHKAN/.paddleocr/whl\\\\rec\\\\en\\\\en_PP-OCRv4_rec_infer', rec_image_inverse=True, rec_image_shape='3, 48, 320', rec_batch_num=6, max_text_length=25, rec_char_dict_path='C:\\\\Users\\\\ASHKAN\\\\AppData\\\\Roaming\\\\Python\\\\Python312\\\\site-packages\\\\paddleocr\\\\ppocr\\\\utils\\\\en_dict.txt', use_space_char=True, vis_font_path='./doc/fonts/simfang.ttf', drop_score=0.5, e2e_algorithm='PGNet', e2e_model_dir=None, e2e_limit_side_len=768, e2e_limit_type='max', e2e_pgnet_score_thresh=0.5, e2e_char_dict_path='./ppocr/utils/ic15_dict.txt', e2e_pgnet_valid_set='totaltext', e2e_pgnet_mode='fast', use_angle_cls=False, cls_model_dir='C:\\\\Users\\\\ASHKAN/.paddleocr/whl\\\\cls\\\\ch_ppocr_mobile_v2.0_cls_infer', cls_image_shape='3, 48, 192', label_list=['0', '180'], cls_batch_num=6, cls_thresh=0.9, enable_mkldnn=False, cpu_threads=10, use_pdserving=False, warmup=False, sr_model_dir=None, sr_image_shape='3, 32, 128', sr_batch_num=1, draw_img_save_dir='./inference_results', save_crop_res=False, crop_res_save_dir='./output', use_mp=False, total_process_num=1, process_id=0, benchmark=False, save_log_path='./log_output/', show_log=True, use_onnx=False, return_word_box=False, output='./output', table_max_len=488, table_algorithm='TableAttn', table_model_dir=None, merge_no_span_structure=True, table_char_dict_path=None, formula_algorithm='LaTeXOCR', formula_model_dir=None, formula_char_dict_path=None, formula_batch_num=1, layout_model_dir=None, layout_dict_path=None, layout_score_threshold=0.5, layout_nms_threshold=0.5, kie_algorithm='LayoutXLM', ser_model_dir=None, re_model_dir=None, use_visual_backbone=True, ser_dict_path='../train_data/XFUND/class_list_xfun.txt', ocr_order_method=None, mode='structure', image_orientation=False, layout=True, table=True, formula=False, ocr=True, recovery=False, recovery_to_markdown=False, use_pdf2docx_api=False, invert=False, binarize=False, alphacolor=(255, 255, 255), lang='en', det=True, rec=True, type='ocr', savefile=False, ocr_version='PP-OCRv4', structure_version='PP-StructureV2')\n",
      "[2024/11/02 17:56:12] ppocr WARNING: Since the angle classifier is not initialized, it will not be used during the forward process\n",
      "[2024/11/02 17:56:12] ppocr WARNING: Since the angle classifier is not initialized, it will not be used during the forward process\n",
      "[2024/11/02 17:56:12] ppocr DEBUG: dt_boxes num : 37, elapsed : 0.32566022872924805\n",
      "[2024/11/02 17:56:13] ppocr DEBUG: dt_boxes num : 32, elapsed : 1.3337655067443848\n",
      "[2024/11/02 17:56:15] ppocr DEBUG: rec_res num  : 37, elapsed : 1.4673190116882324\n",
      "[2024/11/02 17:56:15] ppocr DEBUG: rec_res num  : 32, elapsed : 1.6810617446899414\n"
     ]
    }
   ],
   "source": [
    "# Initialize processor with config\n",
    "config = ProcessingConfig(\n",
    "    ocr_for_images=True,\n",
    "    ocr_model='paddle'  # or 'tesseract'\n",
    ")\n",
    "\n",
    "# Create processor instance\n",
    "processor = DocumentProcessor([\"data/passport1.jpg\", \"data/passport2.jpg\"])\n",
    "\n",
    "# Process documents\n",
    "results = processor.process(config)"
   ]
  },
  {
   "cell_type": "code",
   "execution_count": 24,
   "id": "eda64b818d981674",
   "metadata": {
    "ExecuteTime": {
     "end_time": "2024-10-28T16:25:00.950997Z",
     "start_time": "2024-10-28T16:25:00.946847Z"
    }
   },
   "outputs": [],
   "source": [
    "extractor = Extractor(llm=openai_async_extractor, schema=schema)\n",
    "result = await extractor.extract(results)\n"
   ]
  },
  {
   "cell_type": "code",
   "execution_count": 25,
   "id": "9ace246f",
   "metadata": {},
   "outputs": [
    {
     "data": {
      "text/html": [
       "<div>\n",
       "<style scoped>\n",
       "    .dataframe tbody tr th:only-of-type {\n",
       "        vertical-align: middle;\n",
       "    }\n",
       "\n",
       "    .dataframe tbody tr th {\n",
       "        vertical-align: top;\n",
       "    }\n",
       "\n",
       "    .dataframe thead th {\n",
       "        text-align: right;\n",
       "    }\n",
       "</style>\n",
       "<table border=\"1\" class=\"dataframe\">\n",
       "  <thead>\n",
       "    <tr style=\"text-align: right;\">\n",
       "      <th></th>\n",
       "      <th>passport_number</th>\n",
       "      <th>full_name</th>\n",
       "      <th>date_of_birth</th>\n",
       "      <th>place_of_birth</th>\n",
       "      <th>nationality</th>\n",
       "      <th>date_of_issue</th>\n",
       "      <th>date_of_expiry</th>\n",
       "      <th>issuing_country</th>\n",
       "      <th>sex</th>\n",
       "      <th>personal_number</th>\n",
       "    </tr>\n",
       "  </thead>\n",
       "  <tbody>\n",
       "    <tr>\n",
       "      <th>0</th>\n",
       "      <td>C03005988</td>\n",
       "      <td>Hok k. NIRKA</td>\n",
       "      <td>None</td>\n",
       "      <td>HAISA</td>\n",
       "      <td>USA</td>\n",
       "      <td>2009-11-30</td>\n",
       "      <td>2011-11-29</td>\n",
       "      <td>UNITED STATES</td>\n",
       "      <td>M</td>\n",
       "      <td>None</td>\n",
       "    </tr>\n",
       "    <tr>\n",
       "      <th>1</th>\n",
       "      <td>HTI 920000018</td>\n",
       "      <td>CHERUBIN Nee/Prian KelLi c NIRKA</td>\n",
       "      <td>1962-05-06</td>\n",
       "      <td>PORT-AU-PRINCE</td>\n",
       "      <td>HAITIENNE</td>\n",
       "      <td>1997-12-16</td>\n",
       "      <td>1992-12-17</td>\n",
       "      <td>AYITI/HAITI</td>\n",
       "      <td>F</td>\n",
       "      <td>None</td>\n",
       "    </tr>\n",
       "  </tbody>\n",
       "</table>\n",
       "</div>"
      ],
      "text/plain": [
       "  passport_number                         full_name date_of_birth  \\\n",
       "0       C03005988                      Hok k. NIRKA          None   \n",
       "1   HTI 920000018  CHERUBIN Nee/Prian KelLi c NIRKA    1962-05-06   \n",
       "\n",
       "   place_of_birth nationality date_of_issue date_of_expiry issuing_country  \\\n",
       "0           HAISA         USA    2009-11-30     2011-11-29   UNITED STATES   \n",
       "1  PORT-AU-PRINCE   HAITIENNE    1997-12-16     1992-12-17     AYITI/HAITI   \n",
       "\n",
       "  sex personal_number  \n",
       "0   M            None  \n",
       "1   F            None  "
      ]
     },
     "execution_count": 25,
     "metadata": {},
     "output_type": "execute_result"
    }
   ],
   "source": [
    "df = extractor.to_dataframe(result)\n",
    "df"
   ]
  },
  {
   "cell_type": "code",
   "execution_count": null,
   "id": "13287f40",
   "metadata": {},
   "outputs": [],
   "source": []
  }
 ],
 "metadata": {
  "kernelspec": {
   "display_name": "Python 3",
   "language": "python",
   "name": "python3"
  },
  "language_info": {
   "codemirror_mode": {
    "name": "ipython",
    "version": 3
   },
   "file_extension": ".py",
   "mimetype": "text/x-python",
   "name": "python",
   "nbconvert_exporter": "python",
   "pygments_lexer": "ipython3",
   "version": "3.12.0"
  }
 },
 "nbformat": 4,
 "nbformat_minor": 5
}
