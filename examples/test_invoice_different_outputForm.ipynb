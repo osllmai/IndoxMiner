{
 "nbformat": 4,
 "nbformat_minor": 0,
 "metadata": {
  "colab": {
   "provenance": [],
   "gpuType": "T4"
  },
  "kernelspec": {
   "name": "python3",
   "display_name": "Python 3 (ipykernel)",
   "language": "python"
  },
  "language_info": {
   "name": "python"
  },
  "accelerator": "GPU"
 },
 "cells": [
  {
   "cell_type": "code",
   "metadata": {
    "colab": {
     "base_uri": "https://localhost:8080/"
    },
    "id": "hwV2ObPEH0mY",
    "outputId": "8c74857a-ea3c-4519-83e6-2154a1789557",
    "ExecuteTime": {
     "end_time": "2024-11-07T11:33:09.337720Z",
     "start_time": "2024-11-07T11:32:47.139218Z"
    }
   },
   "source": [
    "# !pip install indoxMiner\n",
    "!pip install opencv-python\n",
    "!pip install easyocr\n"
   ],
   "outputs": [
    {
     "name": "stdout",
     "output_type": "stream",
     "text": [
      "Requirement already satisfied: opencv-python in c:\\my files\\indoxm\\indoxminer\\.venv\\lib\\site-packages (4.10.0.84)\n",
      "Requirement already satisfied: numpy>=1.21.2 in c:\\my files\\indoxm\\indoxminer\\.venv\\lib\\site-packages (from opencv-python) (1.26.4)\n"
     ]
    },
    {
     "name": "stderr",
     "output_type": "stream",
     "text": [
      "\n",
      "[notice] A new release of pip is available: 23.2.1 -> 24.3.1\n",
      "[notice] To update, run: python.exe -m pip install --upgrade pip\n",
      "\n",
      "[notice] A new release of pip is available: 23.2.1 -> 24.3.1\n",
      "[notice] To update, run: python.exe -m pip install --upgrade pip\n"
     ]
    },
    {
     "name": "stdout",
     "output_type": "stream",
     "text": [
      "Collecting easyocr\n",
      "  Obtaining dependency information for easyocr from https://files.pythonhosted.org/packages/bb/84/4a2cab0e6adde6a85e7ba543862e5fc0250c51f3ac721a078a55cdcff250/easyocr-1.7.2-py3-none-any.whl.metadata\n",
      "  Using cached easyocr-1.7.2-py3-none-any.whl.metadata (10 kB)\n",
      "Requirement already satisfied: torch in c:\\my files\\indoxm\\indoxminer\\.venv\\lib\\site-packages (from easyocr) (2.5.1)\n",
      "Requirement already satisfied: torchvision>=0.5 in c:\\my files\\indoxm\\indoxminer\\.venv\\lib\\site-packages (from easyocr) (0.20.1)\n",
      "Collecting opencv-python-headless (from easyocr)\n",
      "  Obtaining dependency information for opencv-python-headless from https://files.pythonhosted.org/packages/26/d0/22f68eb23eea053a31655960f133c0be9726c6a881547e6e9e7e2a946c4f/opencv_python_headless-4.10.0.84-cp37-abi3-win_amd64.whl.metadata\n",
      "  Using cached opencv_python_headless-4.10.0.84-cp37-abi3-win_amd64.whl.metadata (20 kB)\n",
      "Requirement already satisfied: scipy in c:\\my files\\indoxm\\indoxminer\\.venv\\lib\\site-packages (from easyocr) (1.14.1)\n",
      "Requirement already satisfied: numpy in c:\\my files\\indoxm\\indoxminer\\.venv\\lib\\site-packages (from easyocr) (1.26.4)\n",
      "Requirement already satisfied: Pillow in c:\\my files\\indoxm\\indoxminer\\.venv\\lib\\site-packages (from easyocr) (11.0.0)\n",
      "Collecting scikit-image (from easyocr)\n",
      "  Obtaining dependency information for scikit-image from https://files.pythonhosted.org/packages/d9/17/b561823143eb931de0f82fed03ae128ef954a9641309602ea0901c357f95/scikit_image-0.24.0-cp312-cp312-win_amd64.whl.metadata\n",
      "  Using cached scikit_image-0.24.0-cp312-cp312-win_amd64.whl.metadata (14 kB)\n",
      "Requirement already satisfied: python-bidi in c:\\my files\\indoxm\\indoxminer\\.venv\\lib\\site-packages (from easyocr) (0.6.3)\n",
      "Requirement already satisfied: PyYAML in c:\\my files\\indoxm\\indoxminer\\.venv\\lib\\site-packages (from easyocr) (6.0.2)\n",
      "Requirement already satisfied: Shapely in c:\\my files\\indoxm\\indoxminer\\.venv\\lib\\site-packages (from easyocr) (2.0.6)\n",
      "Requirement already satisfied: pyclipper in c:\\my files\\indoxm\\indoxminer\\.venv\\lib\\site-packages (from easyocr) (1.3.0.post6)\n",
      "Requirement already satisfied: ninja in c:\\my files\\indoxm\\indoxminer\\.venv\\lib\\site-packages (from easyocr) (1.11.1.1)\n",
      "Requirement already satisfied: filelock in c:\\my files\\indoxm\\indoxminer\\.venv\\lib\\site-packages (from torch->easyocr) (3.16.1)\n",
      "Requirement already satisfied: typing-extensions>=4.8.0 in c:\\my files\\indoxm\\indoxminer\\.venv\\lib\\site-packages (from torch->easyocr) (4.12.2)\n",
      "Requirement already satisfied: networkx in c:\\my files\\indoxm\\indoxminer\\.venv\\lib\\site-packages (from torch->easyocr) (3.4.2)\n",
      "Requirement already satisfied: jinja2 in c:\\my files\\indoxm\\indoxminer\\.venv\\lib\\site-packages (from torch->easyocr) (3.1.4)\n",
      "Requirement already satisfied: fsspec in c:\\my files\\indoxm\\indoxminer\\.venv\\lib\\site-packages (from torch->easyocr) (2024.10.0)\n",
      "Requirement already satisfied: setuptools in c:\\my files\\indoxm\\indoxminer\\.venv\\lib\\site-packages (from torch->easyocr) (75.3.0)\n",
      "Requirement already satisfied: sympy==1.13.1 in c:\\my files\\indoxm\\indoxminer\\.venv\\lib\\site-packages (from torch->easyocr) (1.13.1)\n",
      "Requirement already satisfied: mpmath<1.4,>=1.1.0 in c:\\my files\\indoxm\\indoxminer\\.venv\\lib\\site-packages (from sympy==1.13.1->torch->easyocr) (1.3.0)\n",
      "Collecting imageio>=2.33 (from scikit-image->easyocr)\n",
      "  Obtaining dependency information for imageio>=2.33 from https://files.pythonhosted.org/packages/4e/e7/26045404a30c8a200e960fb54fbaf4b73d12e58cd28e03b306b084253f4f/imageio-2.36.0-py3-none-any.whl.metadata\n",
      "  Using cached imageio-2.36.0-py3-none-any.whl.metadata (5.2 kB)\n",
      "Requirement already satisfied: tifffile>=2022.8.12 in c:\\my files\\indoxm\\indoxminer\\.venv\\lib\\site-packages (from scikit-image->easyocr) (2024.9.20)\n",
      "Requirement already satisfied: packaging>=21 in c:\\my files\\indoxm\\indoxminer\\.venv\\lib\\site-packages (from scikit-image->easyocr) (24.1)\n",
      "Collecting lazy-loader>=0.4 (from scikit-image->easyocr)\n",
      "  Obtaining dependency information for lazy-loader>=0.4 from https://files.pythonhosted.org/packages/83/60/d497a310bde3f01cb805196ac61b7ad6dc5dcf8dce66634dc34364b20b4f/lazy_loader-0.4-py3-none-any.whl.metadata\n",
      "  Using cached lazy_loader-0.4-py3-none-any.whl.metadata (7.6 kB)\n",
      "Requirement already satisfied: MarkupSafe>=2.0 in c:\\my files\\indoxm\\indoxminer\\.venv\\lib\\site-packages (from jinja2->torch->easyocr) (3.0.2)\n",
      "Using cached easyocr-1.7.2-py3-none-any.whl (2.9 MB)\n",
      "Using cached opencv_python_headless-4.10.0.84-cp37-abi3-win_amd64.whl (38.8 MB)\n",
      "Using cached scikit_image-0.24.0-cp312-cp312-win_amd64.whl (12.9 MB)\n",
      "Using cached imageio-2.36.0-py3-none-any.whl (315 kB)\n",
      "Using cached lazy_loader-0.4-py3-none-any.whl (12 kB)\n",
      "Installing collected packages: opencv-python-headless, lazy-loader, imageio, scikit-image, easyocr\n",
      "Successfully installed easyocr-1.7.2 imageio-2.36.0 lazy-loader-0.4 opencv-python-headless-4.10.0.84 scikit-image-0.24.0\n"
     ]
    }
   ],
   "execution_count": 1
  },
  {
   "metadata": {
    "ExecuteTime": {
     "end_time": "2024-11-07T13:41:00.141943Z",
     "start_time": "2024-11-07T13:40:56.660878Z"
    }
   },
   "cell_type": "code",
   "source": [
    "# Import necessary libraries\n",
    "import os\n",
    "import gc\n",
    "import pandas as pd\n",
    "from indoxMiner import (\n",
    "    Extractor,\n",
    "    ProcessingConfig,\n",
    "    DocumentProcessor,\n",
    "    Schema,\n",
    "    IndoxApi\n",
    ")\n",
    "\n",
    "# Initialize Indox API and extractor configuration\n",
    "indox_api = IndoxApi(api_key='gWLTU2Pei7vfH88SPqTYxZ5vUHUXpu2G')\n",
    "config = ProcessingConfig(\n",
    "    ocr_for_images=True,\n",
    "    ocr_model='easyocr'  # or 'tesseract' or 'paddle'\n",
    ")\n",
    "\n",
    "# Initialize the Extractor with the Indox LLM and the Invoice schema\n",
    "extractor = Extractor(llm=indox_api, schema=Schema.Invoice)\n",
    "\n",
    "# Define the directory containing images and specify target images\n",
    "image_directory = r'C:\\My Files\\IndoxM\\IndoxMiner\\examples'\n",
    "target_images = ['invoice_Aaron Bergman_36258-1.png', 'invoice_Aaron Bergman_36259-1.png']  # Add your second image file here\n",
    "\n",
    "# Build the full paths for each image\n",
    "image_paths = [os.path.join(image_directory, img) for img in target_images]\n",
    "\n"
   ],
   "outputs": [],
   "execution_count": 4
  },
  {
   "metadata": {
    "ExecuteTime": {
     "end_time": "2024-11-07T13:43:43.591923Z",
     "start_time": "2024-11-07T13:41:00.143954Z"
    }
   },
   "cell_type": "code",
   "source": [
    "# List to hold extraction results for all images\n",
    "extraction_results = []\n",
    "\n",
    "# Process and extract data for each image\n",
    "for image_path in image_paths:\n",
    "    # Step 1: Create processor instance for each image\n",
    "    processor = DocumentProcessor([image_path])\n",
    "\n",
    "    # Step 2: Process document to extract text using OCR\n",
    "    results = processor.process(config)\n",
    "\n",
    "    extracted_data = extractor.extract(results)\n",
    "    extraction_results.append(extracted_data)\n",
    "\n",
    "    # Clear memory after processing each image\n",
    "    del processor\n",
    "    gc.collect()"
   ],
   "outputs": [
    {
     "name": "stderr",
     "output_type": "stream",
     "text": [
      "Neither CUDA nor MPS are available - defaulting to CPU. Note: This module is much faster with a GPU.\n",
      "Neither CUDA nor MPS are available - defaulting to CPU. Note: This module is much faster with a GPU.\n"
     ]
    }
   ],
   "execution_count": 5
  },
  {
   "metadata": {
    "ExecuteTime": {
     "end_time": "2024-11-07T13:43:43.769975Z",
     "start_time": "2024-11-07T13:43:43.598933Z"
    }
   },
   "cell_type": "code",
   "source": [
    "# Step 4: Convert extraction results to DataFrame\n",
    "dataframes = [extractor.to_dataframe(result) for result in extraction_results]\n",
    "final_df = pd.concat(dataframes, ignore_index=True)\n",
    "\n",
    "# Display final DataFrame\n",
    "print(\"Extracted Data as DataFrame:\")\n",
    "final_df"
   ],
   "outputs": [
    {
     "name": "stdout",
     "output_type": "stream",
     "text": [
      "Extracted Data as DataFrame:\n"
     ]
    },
    {
     "data": {
      "text/plain": [
       "   Invoice Number        Date Company Name  \\\n",
       "0             NaN  2012-03-06   SuperStore   \n",
       "1             NaN  2012-03-06   SuperStore   \n",
       "\n",
       "                                     Address  Customer Name  \\\n",
       "0  98103, Seattle, Washington, United States  Aaron Bergman   \n",
       "1  98103, Seattle, Washington, United States  Aaron Bergman   \n",
       "\n",
       "                                               Items  Subtotal  Tax Amount  \\\n",
       "0  [{'description': 'Global Push Button Manager's...     48.71         0.0   \n",
       "1  [{'description': 'Newell 330', 'quantity': 3, ...     53.82         NaN   \n",
       "\n",
       "   Total Amount  \n",
       "0         50.10  \n",
       "1         58.11  "
      ],
      "text/html": [
       "<div>\n",
       "<style scoped>\n",
       "    .dataframe tbody tr th:only-of-type {\n",
       "        vertical-align: middle;\n",
       "    }\n",
       "\n",
       "    .dataframe tbody tr th {\n",
       "        vertical-align: top;\n",
       "    }\n",
       "\n",
       "    .dataframe thead th {\n",
       "        text-align: right;\n",
       "    }\n",
       "</style>\n",
       "<table border=\"1\" class=\"dataframe\">\n",
       "  <thead>\n",
       "    <tr style=\"text-align: right;\">\n",
       "      <th></th>\n",
       "      <th>Invoice Number</th>\n",
       "      <th>Date</th>\n",
       "      <th>Company Name</th>\n",
       "      <th>Address</th>\n",
       "      <th>Customer Name</th>\n",
       "      <th>Items</th>\n",
       "      <th>Subtotal</th>\n",
       "      <th>Tax Amount</th>\n",
       "      <th>Total Amount</th>\n",
       "    </tr>\n",
       "  </thead>\n",
       "  <tbody>\n",
       "    <tr>\n",
       "      <th>0</th>\n",
       "      <td>NaN</td>\n",
       "      <td>2012-03-06</td>\n",
       "      <td>SuperStore</td>\n",
       "      <td>98103, Seattle, Washington, United States</td>\n",
       "      <td>Aaron Bergman</td>\n",
       "      <td>[{'description': 'Global Push Button Manager's...</td>\n",
       "      <td>48.71</td>\n",
       "      <td>0.0</td>\n",
       "      <td>50.10</td>\n",
       "    </tr>\n",
       "    <tr>\n",
       "      <th>1</th>\n",
       "      <td>NaN</td>\n",
       "      <td>2012-03-06</td>\n",
       "      <td>SuperStore</td>\n",
       "      <td>98103, Seattle, Washington, United States</td>\n",
       "      <td>Aaron Bergman</td>\n",
       "      <td>[{'description': 'Newell 330', 'quantity': 3, ...</td>\n",
       "      <td>53.82</td>\n",
       "      <td>NaN</td>\n",
       "      <td>58.11</td>\n",
       "    </tr>\n",
       "  </tbody>\n",
       "</table>\n",
       "</div>"
      ]
     },
     "execution_count": 6,
     "metadata": {},
     "output_type": "execute_result"
    }
   ],
   "execution_count": 6
  },
  {
   "metadata": {
    "ExecuteTime": {
     "end_time": "2024-11-07T13:43:43.781700Z",
     "start_time": "2024-11-07T13:43:43.770984Z"
    }
   },
   "cell_type": "code",
   "source": [
    "# Convert extraction results to Markdown and Table formats\n",
    "markdown_output = extractor.to_markdown(extraction_results)\n",
    "table_output = extractor.to_table(extraction_results)"
   ],
   "outputs": [],
   "execution_count": 7
  },
  {
   "metadata": {
    "ExecuteTime": {
     "end_time": "2024-11-07T13:43:43.795509Z",
     "start_time": "2024-11-07T13:43:43.789073Z"
    }
   },
   "cell_type": "code",
   "source": [
    "# Print Markdown and Table outputs\n",
    "print(\"\\nExtracted Data as Markdown:\")\n",
    "print(markdown_output)"
   ],
   "outputs": [
    {
     "name": "stdout",
     "output_type": "stream",
     "text": [
      "\n",
      "Extracted Data as Markdown:\n",
      "| items                                                                                                                                                                                                                                                                                                                                                                    |\n",
      "|--------------------------------------------------------------------------------------------------------------------------------------------------------------------------------------------------------------------------------------------------------------------------------------------------------------------------------------------------------------------------|\n",
      "| [{'Invoice Number': '#36258', 'Date': '2012-03-06', 'Company Name': 'SuperStore', 'Address': '98103, Seattle, Washington, United States', 'Customer Name': 'Aaron Bergman', 'Subtotal': 48.71, 'Tax Amount': 0.0, 'Total Amount': 50.1, 'Items': [{'description': \"Global Push Button Manager's Chair, Indigo\", 'quantity': 1.0, 'unit_price': 48.71, 'total': 48.71}]}] |\n",
      "\n",
      "| items                                                                                                                                                                                                                                                                                                                                    |\n",
      "|------------------------------------------------------------------------------------------------------------------------------------------------------------------------------------------------------------------------------------------------------------------------------------------------------------------------------------------|\n",
      "| [{'Invoice Number': '#36259', 'Date': '2012-03-06', 'Company Name': 'SuperStore', 'Address': '98103, Seattle, Washington, United States', 'Customer Name': 'Aaron Bergman', 'Subtotal': 53.82, 'Tax Amount': None, 'Total Amount': 58.11, 'Items': [{'description': 'Newell 330', 'quantity': 3, 'unit_price': 17.94, 'total': 53.82}]}] |\n"
     ]
    }
   ],
   "execution_count": 8
  },
  {
   "metadata": {
    "ExecuteTime": {
     "end_time": "2024-11-07T13:43:43.803981Z",
     "start_time": "2024-11-07T13:43:43.797521Z"
    }
   },
   "cell_type": "code",
   "source": [
    "print(\"\\nExtracted Data as Table:\")\n",
    "print(table_output)"
   ],
   "outputs": [
    {
     "name": "stdout",
     "output_type": "stream",
     "text": [
      "\n",
      "Extracted Data as Table:\n",
      "+--------------------------------------------------------------------------------------------------------------------------------------------------------------------------------------------------------------------------------------------------------------------------------------------------------------------------------------------------------------------------+\n",
      "| items                                                                                                                                                                                                                                                                                                                                                                    |\n",
      "+==========================================================================================================================================================================================================================================================================================================================================================================+\n",
      "| [{'Invoice Number': '#36258', 'Date': '2012-03-06', 'Company Name': 'SuperStore', 'Address': '98103, Seattle, Washington, United States', 'Customer Name': 'Aaron Bergman', 'Subtotal': 48.71, 'Tax Amount': 0.0, 'Total Amount': 50.1, 'Items': [{'description': \"Global Push Button Manager's Chair, Indigo\", 'quantity': 1.0, 'unit_price': 48.71, 'total': 48.71}]}] |\n",
      "+--------------------------------------------------------------------------------------------------------------------------------------------------------------------------------------------------------------------------------------------------------------------------------------------------------------------------------------------------------------------------+\n",
      "\n",
      "+------------------------------------------------------------------------------------------------------------------------------------------------------------------------------------------------------------------------------------------------------------------------------------------------------------------------------------------+\n",
      "| items                                                                                                                                                                                                                                                                                                                                    |\n",
      "+==========================================================================================================================================================================================================================================================================================================================================+\n",
      "| [{'Invoice Number': '#36259', 'Date': '2012-03-06', 'Company Name': 'SuperStore', 'Address': '98103, Seattle, Washington, United States', 'Customer Name': 'Aaron Bergman', 'Subtotal': 53.82, 'Tax Amount': None, 'Total Amount': 58.11, 'Items': [{'description': 'Newell 330', 'quantity': 3, 'unit_price': 17.94, 'total': 53.82}]}] |\n",
      "+------------------------------------------------------------------------------------------------------------------------------------------------------------------------------------------------------------------------------------------------------------------------------------------------------------------------------------------+\n"
     ]
    }
   ],
   "execution_count": 9
  }
 ]
}
