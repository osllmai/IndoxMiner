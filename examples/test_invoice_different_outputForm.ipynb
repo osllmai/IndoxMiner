{
 "nbformat": 4,
 "nbformat_minor": 0,
 "metadata": {
  "colab": {
   "provenance": [],
   "gpuType": "T4"
  },
  "kernelspec": {
   "name": "python3",
   "display_name": "Python 3 (ipykernel)",
   "language": "python"
  },
  "language_info": {
   "name": "python"
  },
  "accelerator": "GPU"
 },
 "cells": [
  {
   "cell_type": "code",
   "metadata": {
    "colab": {
     "base_uri": "https://localhost:8080/"
    },
    "id": "hwV2ObPEH0mY",
    "outputId": "8c74857a-ea3c-4519-83e6-2154a1789557",
    "ExecuteTime": {
     "end_time": "2024-11-09T09:12:11.667021Z",
     "start_time": "2024-11-09T09:08:26.225474Z"
    }
   },
   "source": [
    "# !pip install indoxMiner\n",
    "!pip install opencv-python\n",
    "!pip install easyocr\n"
   ],
   "outputs": [
    {
     "name": "stdout",
     "output_type": "stream",
     "text": [
      "Collecting opencv-python\n",
      "  Obtaining dependency information for opencv-python from https://files.pythonhosted.org/packages/ec/6c/fab8113424af5049f85717e8e527ca3773299a3c6b02506e66436e19874f/opencv_python-4.10.0.84-cp37-abi3-win_amd64.whl.metadata\n",
      "  Using cached opencv_python-4.10.0.84-cp37-abi3-win_amd64.whl.metadata (20 kB)\n",
      "Requirement already satisfied: numpy>=1.21.2 in c:\\users\\fatem\\pycharmprojects\\pythonproject6\\.venv\\lib\\site-packages (from opencv-python) (1.26.4)\n",
      "Using cached opencv_python-4.10.0.84-cp37-abi3-win_amd64.whl (38.8 MB)\n",
      "Installing collected packages: opencv-python\n",
      "Successfully installed opencv-python-4.10.0.84\n"
     ]
    },
    {
     "name": "stderr",
     "output_type": "stream",
     "text": [
      "\n",
      "[notice] A new release of pip is available: 23.2.1 -> 24.3.1\n",
      "[notice] To update, run: python.exe -m pip install --upgrade pip\n"
     ]
    },
    {
     "name": "stdout",
     "output_type": "stream",
     "text": [
      "Collecting easyocr\n",
      "  Obtaining dependency information for easyocr from https://files.pythonhosted.org/packages/bb/84/4a2cab0e6adde6a85e7ba543862e5fc0250c51f3ac721a078a55cdcff250/easyocr-1.7.2-py3-none-any.whl.metadata\n",
      "  Using cached easyocr-1.7.2-py3-none-any.whl.metadata (10 kB)\n",
      "Requirement already satisfied: torch in c:\\users\\fatem\\pycharmprojects\\pythonproject6\\.venv\\lib\\site-packages (from easyocr) (2.4.1)\n",
      "Collecting torchvision>=0.5 (from easyocr)\n",
      "  Obtaining dependency information for torchvision>=0.5 from https://files.pythonhosted.org/packages/c3/18/00993d420b1d6e88582e51d4bc82c824c99a2e9c045d50eaf9b34fff729a/torchvision-0.20.1-cp312-cp312-win_amd64.whl.metadata\n",
      "  Using cached torchvision-0.20.1-cp312-cp312-win_amd64.whl.metadata (6.2 kB)\n",
      "Collecting opencv-python-headless (from easyocr)\n",
      "  Obtaining dependency information for opencv-python-headless from https://files.pythonhosted.org/packages/26/d0/22f68eb23eea053a31655960f133c0be9726c6a881547e6e9e7e2a946c4f/opencv_python_headless-4.10.0.84-cp37-abi3-win_amd64.whl.metadata\n",
      "  Using cached opencv_python_headless-4.10.0.84-cp37-abi3-win_amd64.whl.metadata (20 kB)\n",
      "Requirement already satisfied: scipy in c:\\users\\fatem\\pycharmprojects\\pythonproject6\\.venv\\lib\\site-packages (from easyocr) (1.14.1)\n",
      "Requirement already satisfied: numpy in c:\\users\\fatem\\pycharmprojects\\pythonproject6\\.venv\\lib\\site-packages (from easyocr) (1.26.4)\n",
      "Requirement already satisfied: Pillow in c:\\users\\fatem\\pycharmprojects\\pythonproject6\\.venv\\lib\\site-packages (from easyocr) (10.4.0)\n",
      "Collecting scikit-image (from easyocr)\n",
      "  Obtaining dependency information for scikit-image from https://files.pythonhosted.org/packages/d9/17/b561823143eb931de0f82fed03ae128ef954a9641309602ea0901c357f95/scikit_image-0.24.0-cp312-cp312-win_amd64.whl.metadata\n",
      "  Using cached scikit_image-0.24.0-cp312-cp312-win_amd64.whl.metadata (14 kB)\n",
      "Collecting python-bidi (from easyocr)\n",
      "  Obtaining dependency information for python-bidi from https://files.pythonhosted.org/packages/aa/e7/b4f6a71a7e7aec0e17c36bfca2ff5d962b86b0e04e278de6fc6c0cd6d643/python_bidi-0.6.3-cp312-none-win_amd64.whl.metadata\n",
      "  Using cached python_bidi-0.6.3-cp312-none-win_amd64.whl.metadata (5.0 kB)\n",
      "Requirement already satisfied: PyYAML in c:\\users\\fatem\\pycharmprojects\\pythonproject6\\.venv\\lib\\site-packages (from easyocr) (6.0.2)\n",
      "Collecting Shapely (from easyocr)\n",
      "  Obtaining dependency information for Shapely from https://files.pythonhosted.org/packages/7b/b3/857afd9dfbfc554f10d683ac412eac6fa260d1f4cd2967ecb655c57e831a/shapely-2.0.6-cp312-cp312-win_amd64.whl.metadata\n",
      "  Using cached shapely-2.0.6-cp312-cp312-win_amd64.whl.metadata (7.2 kB)\n",
      "Collecting pyclipper (from easyocr)\n",
      "  Obtaining dependency information for pyclipper from https://files.pythonhosted.org/packages/24/3a/7d6292e3c94fb6b872d8d7e80d909dc527ee6b0af73b753c63fdde65a7da/pyclipper-1.3.0.post6-cp312-cp312-win_amd64.whl.metadata\n",
      "  Using cached pyclipper-1.3.0.post6-cp312-cp312-win_amd64.whl.metadata (9.2 kB)\n",
      "Collecting ninja (from easyocr)\n",
      "  Obtaining dependency information for ninja from https://files.pythonhosted.org/packages/b6/2f/a3bc50fa63fc4fe9348e15b53dc8c87febfd4e0c660fcf250c4b19a3aa3b/ninja-1.11.1.1-py2.py3-none-win_amd64.whl.metadata\n",
      "  Using cached ninja-1.11.1.1-py2.py3-none-win_amd64.whl.metadata (5.4 kB)\n",
      "Collecting torch (from easyocr)\n",
      "  Obtaining dependency information for torch from https://files.pythonhosted.org/packages/5f/ba/607d013b55b9fd805db2a5c2662ec7551f1910b4eef39653eeaba182c5b2/torch-2.5.1-cp312-cp312-win_amd64.whl.metadata\n",
      "  Using cached torch-2.5.1-cp312-cp312-win_amd64.whl.metadata (28 kB)\n",
      "Requirement already satisfied: filelock in c:\\users\\fatem\\pycharmprojects\\pythonproject6\\.venv\\lib\\site-packages (from torch->easyocr) (3.16.1)\n",
      "Requirement already satisfied: typing-extensions>=4.8.0 in c:\\users\\fatem\\pycharmprojects\\pythonproject6\\.venv\\lib\\site-packages (from torch->easyocr) (4.12.2)\n",
      "Requirement already satisfied: networkx in c:\\users\\fatem\\pycharmprojects\\pythonproject6\\.venv\\lib\\site-packages (from torch->easyocr) (3.4.1)\n",
      "Requirement already satisfied: jinja2 in c:\\users\\fatem\\pycharmprojects\\pythonproject6\\.venv\\lib\\site-packages (from torch->easyocr) (3.1.4)\n",
      "Requirement already satisfied: fsspec in c:\\users\\fatem\\pycharmprojects\\pythonproject6\\.venv\\lib\\site-packages (from torch->easyocr) (2024.9.0)\n",
      "Requirement already satisfied: setuptools in c:\\users\\fatem\\pycharmprojects\\pythonproject6\\.venv\\lib\\site-packages (from torch->easyocr) (69.5.1)\n",
      "Collecting sympy==1.13.1 (from torch->easyocr)\n",
      "  Obtaining dependency information for sympy==1.13.1 from https://files.pythonhosted.org/packages/b2/fe/81695a1aa331a842b582453b605175f419fe8540355886031328089d840a/sympy-1.13.1-py3-none-any.whl.metadata\n",
      "  Using cached sympy-1.13.1-py3-none-any.whl.metadata (12 kB)\n",
      "Requirement already satisfied: mpmath<1.4,>=1.1.0 in c:\\users\\fatem\\pycharmprojects\\pythonproject6\\.venv\\lib\\site-packages (from sympy==1.13.1->torch->easyocr) (1.3.0)\n",
      "Collecting imageio>=2.33 (from scikit-image->easyocr)\n",
      "  Obtaining dependency information for imageio>=2.33 from https://files.pythonhosted.org/packages/4e/e7/26045404a30c8a200e960fb54fbaf4b73d12e58cd28e03b306b084253f4f/imageio-2.36.0-py3-none-any.whl.metadata\n",
      "  Using cached imageio-2.36.0-py3-none-any.whl.metadata (5.2 kB)\n",
      "Collecting tifffile>=2022.8.12 (from scikit-image->easyocr)\n",
      "  Obtaining dependency information for tifffile>=2022.8.12 from https://files.pythonhosted.org/packages/50/0a/435d5d7ec64d1c8b422ac9ebe42d2f3b2ac0b3f8a56f5c04dd0f3b7ba83c/tifffile-2024.9.20-py3-none-any.whl.metadata\n",
      "  Using cached tifffile-2024.9.20-py3-none-any.whl.metadata (32 kB)\n",
      "Requirement already satisfied: packaging>=21 in c:\\users\\fatem\\pycharmprojects\\pythonproject6\\.venv\\lib\\site-packages (from scikit-image->easyocr) (24.1)\n",
      "Collecting lazy-loader>=0.4 (from scikit-image->easyocr)\n",
      "  Obtaining dependency information for lazy-loader>=0.4 from https://files.pythonhosted.org/packages/83/60/d497a310bde3f01cb805196ac61b7ad6dc5dcf8dce66634dc34364b20b4f/lazy_loader-0.4-py3-none-any.whl.metadata\n",
      "  Using cached lazy_loader-0.4-py3-none-any.whl.metadata (7.6 kB)\n",
      "Requirement already satisfied: MarkupSafe>=2.0 in c:\\users\\fatem\\pycharmprojects\\pythonproject6\\.venv\\lib\\site-packages (from jinja2->torch->easyocr) (3.0.0)\n",
      "Using cached easyocr-1.7.2-py3-none-any.whl (2.9 MB)\n",
      "Using cached torchvision-0.20.1-cp312-cp312-win_amd64.whl (1.6 MB)\n",
      "Using cached torch-2.5.1-cp312-cp312-win_amd64.whl (203.0 MB)\n",
      "Using cached sympy-1.13.1-py3-none-any.whl (6.2 MB)\n",
      "Using cached ninja-1.11.1.1-py2.py3-none-win_amd64.whl (312 kB)\n",
      "Using cached opencv_python_headless-4.10.0.84-cp37-abi3-win_amd64.whl (38.8 MB)\n",
      "Using cached pyclipper-1.3.0.post6-cp312-cp312-win_amd64.whl (110 kB)\n",
      "Using cached python_bidi-0.6.3-cp312-none-win_amd64.whl (156 kB)\n",
      "Using cached scikit_image-0.24.0-cp312-cp312-win_amd64.whl (12.9 MB)\n",
      "Using cached shapely-2.0.6-cp312-cp312-win_amd64.whl (1.4 MB)\n",
      "Using cached imageio-2.36.0-py3-none-any.whl (315 kB)\n",
      "Using cached lazy_loader-0.4-py3-none-any.whl (12 kB)\n",
      "Using cached tifffile-2024.9.20-py3-none-any.whl (228 kB)\n",
      "Installing collected packages: python-bidi, pyclipper, ninja, tifffile, sympy, Shapely, opencv-python-headless, lazy-loader, imageio, torch, scikit-image, torchvision, easyocr\n",
      "  Attempting uninstall: sympy\n",
      "    Found existing installation: sympy 1.13.3\n",
      "    Uninstalling sympy-1.13.3:\n",
      "      Successfully uninstalled sympy-1.13.3\n",
      "  Attempting uninstall: torch\n",
      "    Found existing installation: torch 2.4.1\n",
      "    Uninstalling torch-2.4.1:\n",
      "      Successfully uninstalled torch-2.4.1\n",
      "Successfully installed Shapely-2.0.6 easyocr-1.7.2 imageio-2.36.0 lazy-loader-0.4 ninja-1.11.1.1 opencv-python-headless-4.10.0.84 pyclipper-1.3.0.post6 python-bidi-0.6.3 scikit-image-0.24.0 sympy-1.13.1 tifffile-2024.9.20 torch-2.5.1 torchvision-0.20.1\n"
     ]
    },
    {
     "name": "stderr",
     "output_type": "stream",
     "text": [
      "\n",
      "[notice] A new release of pip is available: 23.2.1 -> 24.3.1\n",
      "[notice] To update, run: python.exe -m pip install --upgrade pip\n"
     ]
    }
   ],
   "execution_count": 1
  },
  {
   "metadata": {
    "ExecuteTime": {
     "end_time": "2024-11-09T09:19:33.184144Z",
     "start_time": "2024-11-09T09:19:07.619521Z"
    }
   },
   "cell_type": "code",
   "source": "!pip install tabulate",
   "outputs": [
    {
     "name": "stdout",
     "output_type": "stream",
     "text": [
      "Collecting tabulate\n",
      "  Obtaining dependency information for tabulate from https://files.pythonhosted.org/packages/40/44/4a5f08c96eb108af5cb50b41f76142f0afa346dfa99d5296fe7202a11854/tabulate-0.9.0-py3-none-any.whl.metadata\n",
      "  Using cached tabulate-0.9.0-py3-none-any.whl.metadata (34 kB)\n",
      "Using cached tabulate-0.9.0-py3-none-any.whl (35 kB)\n",
      "Installing collected packages: tabulate\n",
      "Successfully installed tabulate-0.9.0\n"
     ]
    },
    {
     "name": "stderr",
     "output_type": "stream",
     "text": [
      "\n",
      "[notice] A new release of pip is available: 23.2.1 -> 24.3.1\n",
      "[notice] To update, run: python.exe -m pip install --upgrade pip\n"
     ]
    }
   ],
   "execution_count": 3
  },
  {
   "metadata": {
    "ExecuteTime": {
     "end_time": "2024-11-09T09:35:37.634338Z",
     "start_time": "2024-11-09T09:35:34.504678Z"
    }
   },
   "cell_type": "code",
   "source": [
    "# Import necessary libraries\n",
    "import os\n",
    "import gc\n",
    "import pandas as pd\n",
    "from indoxMiner import (\n",
    "    Extractor,\n",
    "    ProcessingConfig,\n",
    "    DocumentProcessor,\n",
    "    Schema,\n",
    "    IndoxApi\n",
    ")\n",
    "\n",
    "# Initialize Indox API and extractor configuration\n",
    "indox_api = IndoxApi(api_key='gWLTU2Pei7vfH88SPqTYxZ5vUHUXpu2G')\n",
    "config = ProcessingConfig(\n",
    "    ocr_for_images=True,\n",
    "    ocr_model='easyocr'  # or 'tesseract' or 'paddle'\n",
    ")\n",
    "\n",
    "# Initialize the Extractor with the Indox LLM and the Invoice schema\n",
    "extractor = Extractor(llm=indox_api, schema=Schema.Invoice)\n",
    "\n",
    "# Define the directory containing images and specify target images\n",
    "image_directory = r'C:\\My Files\\IndoxM\\IndoxMiner\\examples'\n",
    "target_images = ['invoice_Aaron Bergman_36258-1.png', 'invoice_Aaron Bergman_36259-1.png']  # Add your second image file here\n",
    "\n",
    "# Build the full paths for each image\n",
    "image_paths = [os.path.join(image_directory, img) for img in target_images]\n",
    "\n"
   ],
   "outputs": [],
   "execution_count": 1
  },
  {
   "metadata": {
    "ExecuteTime": {
     "end_time": "2024-11-09T09:39:34.644189Z",
     "start_time": "2024-11-09T09:35:47.037759Z"
    }
   },
   "cell_type": "code",
   "source": [
    "processor = DocumentProcessor(['invoice_Aaron Bergman_36258-1.png', 'invoice_Aaron Bergman_36259-1.png'])\n",
    "\n",
    "results = processor.process(config)\n",
    "\n",
    "extracted_data = extractor.extract(results)\n"
   ],
   "outputs": [
    {
     "name": "stderr",
     "output_type": "stream",
     "text": [
      "Neither CUDA nor MPS are available - defaulting to CPU. Note: This module is much faster with a GPU.\n"
     ]
    },
    {
     "name": "stdout",
     "output_type": "stream",
     "text": [
      "{\n",
      "    \"Invoice Number\": 36258,\n",
      "    \"Date\": \"2012-03-06\",\n",
      "    \"Company Name\": \"SuperStore\",\n",
      "    \"Address\": \"98103, Seattle, Washington, United States\",\n",
      "    \"Customer Name\": \"Aaron Bergman\",\n",
      "    \"Items\": [\n",
      "        {\n",
      "            \"description\": \"Global Push Button Manager's Chair, Indigo\",\n",
      "            \"quantity\": 1.0,\n",
      "            \"unit_price\": 48.71,\n",
      "            \"total\": 48.71\n",
      "        }\n",
      "    ],\n",
      "    \"Subtotal\": 48.71,\n",
      "    \"Tax Amount\": 0.0,\n",
      "    \"Total Amount\": 50.10\n",
      "}\n",
      "{\n",
      "    \"Invoice Number\": 36259,\n",
      "    \"Date\": \"2012-03-06\",\n",
      "    \"Company Name\": \"SuperStore\",\n",
      "    \"Address\": \"98103, Seattle, Washington, United States\",\n",
      "    \"Customer Name\": \"Aaron Bergman\",\n",
      "    \"Items\": [\n",
      "        {\n",
      "            \"description\": \"Newell 330\",\n",
      "            \"quantity\": 3,\n",
      "            \"unit_price\": 17.94,\n",
      "            \"total\": 53.82\n",
      "        }\n",
      "    ],\n",
      "    \"Subtotal\": 53.82,\n",
      "    \"Tax Amount\": 4.29,\n",
      "    \"Total Amount\": 58.11\n",
      "}\n"
     ]
    }
   ],
   "execution_count": 2
  },
  {
   "metadata": {
    "ExecuteTime": {
     "end_time": "2024-11-09T09:29:36.011564Z",
     "start_time": "2024-11-09T09:29:35.998833Z"
    }
   },
   "cell_type": "code",
   "source": "extracted_data",
   "outputs": [
    {
     "data": {
      "text/plain": [
       "ExtractionResults(data=[{'items': [{'Invoice Number': 36259, 'Date': '2012-03-06', 'Company Name': 'SuperStore', 'Address': '98103, Seattle, Washington, United States', 'Customer Name': 'Aaron Bergman', 'Subtotal': 53.82, 'Tax Amount': None, 'Total Amount': 58.11, 'Items': [{'description': 'Newell 330', 'quantity': 3, 'unit_price': 17.94, 'total': 53.82}]}]}, {'items': [{'Invoice Number': 36258, 'Date': '2012-03-06', 'Company Name': 'SuperStore', 'Address': '98103, Seattle, Washington, United States', 'Customer Name': 'Aaron Bergman', 'Subtotal': 48.71, 'Tax Amount': 0.0, 'Total Amount': 50.1, 'Items': [{'description': \"Global Push Button Manager's Chair, Indigo\", 'quantity': 1.0, 'unit_price': 48.71, 'total': 48.71}]}]}], raw_responses=['{\\n    \"Invoice Number\": 36259,\\n    \"Date\": \"2012-03-06\",\\n    \"Company Name\": \"SuperStore\",\\n    \"Address\": \"98103, Seattle, Washington, United States\",\\n    \"Customer Name\": \"Aaron Bergman\",\\n    \"Items\": [\\n        {\\n            \"description\": \"Newell 330\",\\n            \"quantity\": 3,\\n            \"unit_price\": 17.94,\\n            \"total\": 53.82\\n        }\\n    ],\\n    \"Subtotal\": 53.82,\\n    \"Tax Amount\": null,\\n    \"Total Amount\": 58.11\\n}', '{\\n    \"Invoice Number\": 36258,\\n    \"Date\": \"2012-03-06\",\\n    \"Company Name\": \"SuperStore\",\\n    \"Address\": \"98103, Seattle, Washington, United States\",\\n    \"Customer Name\": \"Aaron Bergman\",\\n    \"Items\": [\\n        {\\n            \"description\": \"Global Push Button Manager\\'s Chair, Indigo\",\\n            \"quantity\": 1.0,\\n            \"unit_price\": 48.71,\\n            \"total\": 48.71\\n        }\\n    ],\\n    \"Subtotal\": 48.71,\\n    \"Tax Amount\": 0.0,\\n    \"Total Amount\": 50.10\\n}'], validation_errors={0: ['Item 1: Tax Amount is required but missing']})"
      ]
     },
     "execution_count": 14,
     "metadata": {},
     "output_type": "execute_result"
    }
   ],
   "execution_count": 14
  },
  {
   "metadata": {
    "ExecuteTime": {
     "end_time": "2024-11-09T09:26:09.929316Z",
     "start_time": "2024-11-09T09:26:09.121180Z"
    }
   },
   "cell_type": "code",
   "source": [
    "# Step 4: Convert extraction results to DataFrame\n",
    "df = extractor.to_dataframe(extracted_data)\n",
    "# final_df = pd.concat(dataframes, ignore_index=True)\n",
    "\n",
    "# Display final DataFrame\n",
    "print(\"Extracted Data as DataFrame:\")\n",
    "df"
   ],
   "outputs": [
    {
     "name": "stdout",
     "output_type": "stream",
     "text": [
      "Extracted Data as DataFrame:\n"
     ]
    },
    {
     "data": {
      "text/plain": [
       "   Invoice Number        Date Company Name  \\\n",
       "0           36259  2012-03-06   SuperStore   \n",
       "1           36258  2012-03-06   SuperStore   \n",
       "\n",
       "                                     Address  Customer Name  \\\n",
       "0  98103, Seattle, Washington, United States  Aaron Bergman   \n",
       "1  98103, Seattle, Washington, United States  Aaron Bergman   \n",
       "\n",
       "                                               Items  Subtotal  Tax Amount  \\\n",
       "0  [{'description': 'Newell 330', 'quantity': 3, ...     53.82         NaN   \n",
       "1  [{'description': 'Global Push Button Manager's...     48.71         0.0   \n",
       "\n",
       "   Total Amount  \n",
       "0         58.11  \n",
       "1         50.10  "
      ],
      "text/html": [
       "<div>\n",
       "<style scoped>\n",
       "    .dataframe tbody tr th:only-of-type {\n",
       "        vertical-align: middle;\n",
       "    }\n",
       "\n",
       "    .dataframe tbody tr th {\n",
       "        vertical-align: top;\n",
       "    }\n",
       "\n",
       "    .dataframe thead th {\n",
       "        text-align: right;\n",
       "    }\n",
       "</style>\n",
       "<table border=\"1\" class=\"dataframe\">\n",
       "  <thead>\n",
       "    <tr style=\"text-align: right;\">\n",
       "      <th></th>\n",
       "      <th>Invoice Number</th>\n",
       "      <th>Date</th>\n",
       "      <th>Company Name</th>\n",
       "      <th>Address</th>\n",
       "      <th>Customer Name</th>\n",
       "      <th>Items</th>\n",
       "      <th>Subtotal</th>\n",
       "      <th>Tax Amount</th>\n",
       "      <th>Total Amount</th>\n",
       "    </tr>\n",
       "  </thead>\n",
       "  <tbody>\n",
       "    <tr>\n",
       "      <th>0</th>\n",
       "      <td>36259</td>\n",
       "      <td>2012-03-06</td>\n",
       "      <td>SuperStore</td>\n",
       "      <td>98103, Seattle, Washington, United States</td>\n",
       "      <td>Aaron Bergman</td>\n",
       "      <td>[{'description': 'Newell 330', 'quantity': 3, ...</td>\n",
       "      <td>53.82</td>\n",
       "      <td>NaN</td>\n",
       "      <td>58.11</td>\n",
       "    </tr>\n",
       "    <tr>\n",
       "      <th>1</th>\n",
       "      <td>36258</td>\n",
       "      <td>2012-03-06</td>\n",
       "      <td>SuperStore</td>\n",
       "      <td>98103, Seattle, Washington, United States</td>\n",
       "      <td>Aaron Bergman</td>\n",
       "      <td>[{'description': 'Global Push Button Manager's...</td>\n",
       "      <td>48.71</td>\n",
       "      <td>0.0</td>\n",
       "      <td>50.10</td>\n",
       "    </tr>\n",
       "  </tbody>\n",
       "</table>\n",
       "</div>"
      ]
     },
     "execution_count": 9,
     "metadata": {},
     "output_type": "execute_result"
    }
   ],
   "execution_count": 9
  },
  {
   "metadata": {
    "ExecuteTime": {
     "end_time": "2024-11-09T09:39:34.751261Z",
     "start_time": "2024-11-09T09:39:34.669195Z"
    }
   },
   "cell_type": "code",
   "source": [
    "# Convert extraction results to Markdown and Table formats\n",
    "markdown_output = extractor.to_markdown(extracted_data)\n",
    "table_output = extractor.to_table(extracted_data)"
   ],
   "outputs": [],
   "execution_count": 3
  },
  {
   "metadata": {
    "ExecuteTime": {
     "end_time": "2024-11-09T09:39:34.766319Z",
     "start_time": "2024-11-09T09:39:34.754273Z"
    }
   },
   "cell_type": "code",
   "source": "print(markdown_output)",
   "outputs": [
    {
     "name": "stdout",
     "output_type": "stream",
     "text": [
      "\n",
      "\n",
      "|   Invoice Number | Date       | Company Name   | Address                                   | Customer Name   |   Subtotal |   Tax Amount |   Total Amount | Items                                                                                                                 |\n",
      "|------------------|------------|----------------|-------------------------------------------|-----------------|------------|--------------|----------------|-----------------------------------------------------------------------------------------------------------------------|\n",
      "|            36258 | 2012-03-06 | SuperStore     | 98103, Seattle, Washington, United States | Aaron Bergman   |      48.71 |            0 |           50.1 | [{'description': \"Global Push Button Manager's Chair, Indigo\", 'quantity': 1.0, 'unit_price': 48.71, 'total': 48.71}] |\n",
      "\n",
      "\n",
      "\n",
      "|   Invoice Number | Date       | Company Name   | Address                                   | Customer Name   |   Subtotal |   Tax Amount |   Total Amount | Items                                                                               |\n",
      "|------------------|------------|----------------|-------------------------------------------|-----------------|------------|--------------|----------------|-------------------------------------------------------------------------------------|\n",
      "|            36259 | 2012-03-06 | SuperStore     | 98103, Seattle, Washington, United States | Aaron Bergman   |      53.82 |         4.29 |          58.11 | [{'description': 'Newell 330', 'quantity': 3, 'unit_price': 17.94, 'total': 53.82}] |\n"
     ]
    }
   ],
   "execution_count": 4
  },
  {
   "metadata": {
    "ExecuteTime": {
     "end_time": "2024-11-07T13:43:43.795509Z",
     "start_time": "2024-11-07T13:43:43.789073Z"
    }
   },
   "cell_type": "code",
   "source": [
    "# Print Markdown and Table outputs\n",
    "print(\"\\nExtracted Data as Markdown:\")\n",
    "print(markdown_output)"
   ],
   "outputs": [
    {
     "name": "stdout",
     "output_type": "stream",
     "text": [
      "\n",
      "Extracted Data as Markdown:\n",
      "| items                                                                                                                                                                                                                                                                                                                                                                    |\n",
      "|--------------------------------------------------------------------------------------------------------------------------------------------------------------------------------------------------------------------------------------------------------------------------------------------------------------------------------------------------------------------------|\n",
      "| [{'Invoice Number': '#36258', 'Date': '2012-03-06', 'Company Name': 'SuperStore', 'Address': '98103, Seattle, Washington, United States', 'Customer Name': 'Aaron Bergman', 'Subtotal': 48.71, 'Tax Amount': 0.0, 'Total Amount': 50.1, 'Items': [{'description': \"Global Push Button Manager's Chair, Indigo\", 'quantity': 1.0, 'unit_price': 48.71, 'total': 48.71}]}] |\n",
      "\n",
      "| items                                                                                                                                                                                                                                                                                                                                    |\n",
      "|------------------------------------------------------------------------------------------------------------------------------------------------------------------------------------------------------------------------------------------------------------------------------------------------------------------------------------------|\n",
      "| [{'Invoice Number': '#36259', 'Date': '2012-03-06', 'Company Name': 'SuperStore', 'Address': '98103, Seattle, Washington, United States', 'Customer Name': 'Aaron Bergman', 'Subtotal': 53.82, 'Tax Amount': None, 'Total Amount': 58.11, 'Items': [{'description': 'Newell 330', 'quantity': 3, 'unit_price': 17.94, 'total': 53.82}]}] |\n"
     ]
    }
   ],
   "execution_count": 8
  },
  {
   "metadata": {
    "ExecuteTime": {
     "end_time": "2024-11-09T09:42:45.757011Z",
     "start_time": "2024-11-09T09:42:45.743353Z"
    }
   },
   "cell_type": "code",
   "source": [
    "print(\"\\nExtracted Data as Table:\")\n",
    "print(table_output)"
   ],
   "outputs": [
    {
     "name": "stdout",
     "output_type": "stream",
     "text": [
      "\n",
      "Extracted Data as Table:\n",
      "\n",
      "\n",
      "+------------------+------------+----------------+-------------------------------------------+-----------------+------------+--------------+----------------+-----------------------------------------------------------------------------------------------------------------------+\n",
      "|   Invoice Number | Date       | Company Name   | Address                                   | Customer Name   |   Subtotal |   Tax Amount |   Total Amount | Items                                                                                                                 |\n",
      "+==================+============+================+===========================================+=================+============+==============+================+=======================================================================================================================+\n",
      "|            36258 | 2012-03-06 | SuperStore     | 98103, Seattle, Washington, United States | Aaron Bergman   |      48.71 |            0 |           50.1 | [{'description': \"Global Push Button Manager's Chair, Indigo\", 'quantity': 1.0, 'unit_price': 48.71, 'total': 48.71}] |\n",
      "+------------------+------------+----------------+-------------------------------------------+-----------------+------------+--------------+----------------+-----------------------------------------------------------------------------------------------------------------------+\n",
      "\n",
      "\n",
      "\n",
      "+------------------+------------+----------------+-------------------------------------------+-----------------+------------+--------------+----------------+-------------------------------------------------------------------------------------+\n",
      "|   Invoice Number | Date       | Company Name   | Address                                   | Customer Name   |   Subtotal |   Tax Amount |   Total Amount | Items                                                                               |\n",
      "+==================+============+================+===========================================+=================+============+==============+================+=====================================================================================+\n",
      "|            36259 | 2012-03-06 | SuperStore     | 98103, Seattle, Washington, United States | Aaron Bergman   |      53.82 |         4.29 |          58.11 | [{'description': 'Newell 330', 'quantity': 3, 'unit_price': 17.94, 'total': 53.82}] |\n",
      "+------------------+------------+----------------+-------------------------------------------+-----------------+------------+--------------+----------------+-------------------------------------------------------------------------------------+\n"
     ]
    }
   ],
   "execution_count": 5
  }
 ]
}
